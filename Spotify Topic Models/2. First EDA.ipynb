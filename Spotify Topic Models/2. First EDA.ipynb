{
 "cells": [
  {
   "cell_type": "markdown",
   "id": "807f47b3",
   "metadata": {},
   "source": [
    "# Basic EDA\n",
    "\n",
    "In this notebook we will look at some general statistics of the data gethered in the data collection process. This will let us have a quick overview of the we have and gain some insights before we break it down and begin our analysis. "
   ]
  },
  {
   "cell_type": "markdown",
   "id": "45cdd3d4",
   "metadata": {},
   "source": [
    "## 0.0 Import Relevant Libraries"
   ]
  },
  {
   "cell_type": "code",
   "execution_count": 1,
   "id": "4d508a25",
   "metadata": {},
   "outputs": [],
   "source": [
    "# the two must have libraries in any data science project \n",
    "import pandas as pd \n",
    "import numpy as np\n",
    "\n",
    "# \n",
    "import plotly_express as px"
   ]
  },
  {
   "cell_type": "code",
   "execution_count": null,
   "id": "ff7be355",
   "metadata": {},
   "outputs": [],
   "source": []
  }
 ],
 "metadata": {
  "kernelspec": {
   "display_name": "Python 3 (ipykernel)",
   "language": "python",
   "name": "python3"
  },
  "language_info": {
   "codemirror_mode": {
    "name": "ipython",
    "version": 3
   },
   "file_extension": ".py",
   "mimetype": "text/x-python",
   "name": "python",
   "nbconvert_exporter": "python",
   "pygments_lexer": "ipython3",
   "version": "3.9.13"
  }
 },
 "nbformat": 4,
 "nbformat_minor": 5
}
