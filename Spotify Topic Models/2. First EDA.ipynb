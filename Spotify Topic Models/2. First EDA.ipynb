{
 "cells": [
  {
   "cell_type": "markdown",
   "id": "807f47b3",
   "metadata": {},
   "source": [
    "# Basic EDA\n",
    "\n",
    "In this notebook we will look at some general statistics of the data gethered in the data collection process. This will let us have a quick overview of the we have and gain some insights before we break it down and begin our analysis. "
   ]
  },
  {
   "cell_type": "markdown",
   "id": "45cdd3d4",
   "metadata": {},
   "source": [
    "## 0.0 Import Relevant Libraries"
   ]
  },
  {
   "cell_type": "code",
   "execution_count": 1,
   "id": "4d508a25",
   "metadata": {},
   "outputs": [
    {
     "data": {
      "text/html": [
       "        <script type=\"text/javascript\">\n",
       "        window.PlotlyConfig = {MathJaxConfig: 'local'};\n",
       "        if (window.MathJax && window.MathJax.Hub && window.MathJax.Hub.Config) {window.MathJax.Hub.Config({SVG: {font: \"STIX-Web\"}});}\n",
       "        if (typeof require !== 'undefined') {\n",
       "        require.undef(\"plotly\");\n",
       "        requirejs.config({\n",
       "            paths: {\n",
       "                'plotly': ['https://cdn.plot.ly/plotly-2.12.1.min']\n",
       "            }\n",
       "        });\n",
       "        require(['plotly'], function(Plotly) {\n",
       "            window._Plotly = Plotly;\n",
       "        });\n",
       "        }\n",
       "        </script>\n",
       "        "
      ]
     },
     "metadata": {},
     "output_type": "display_data"
    }
   ],
   "source": [
    "# the two must have libraries in any data science project \n",
    "import pandas as pd \n",
    "import numpy as np\n",
    "\n",
    "# \n",
    "import plotly_express as px\n",
    "import matplotlib.pyplot as plt\n",
    "\n",
    "\n",
    "\n",
    "# relative path to where data will be stored. \n",
    "data_dir = \"datasets/\"\n",
    "from plotly.offline import plot, iplot, init_notebook_mode\n",
    "import plotly.graph_objs as go\n",
    "init_notebook_mode(connected=True)"
   ]
  },
  {
   "cell_type": "markdown",
   "id": "b0426995",
   "metadata": {},
   "source": [
    "## 1.0 Import Our Corpus and Library"
   ]
  },
  {
   "cell_type": "code",
   "execution_count": 2,
   "id": "c2b75a44",
   "metadata": {},
   "outputs": [
    {
     "data": {
      "text/html": [
       "<div>\n",
       "<style scoped>\n",
       "    .dataframe tbody tr th:only-of-type {\n",
       "        vertical-align: middle;\n",
       "    }\n",
       "\n",
       "    .dataframe tbody tr th {\n",
       "        vertical-align: top;\n",
       "    }\n",
       "\n",
       "    .dataframe thead th {\n",
       "        text-align: right;\n",
       "    }\n",
       "</style>\n",
       "<table border=\"1\" class=\"dataframe\">\n",
       "  <thead>\n",
       "    <tr style=\"text-align: right;\">\n",
       "      <th></th>\n",
       "      <th>added_at</th>\n",
       "      <th>track.album.album_group</th>\n",
       "      <th>track.album.album_type</th>\n",
       "      <th>track.album.artists</th>\n",
       "      <th>track.album.available_markets</th>\n",
       "      <th>track.album.external_urls.spotify</th>\n",
       "      <th>track.album.href</th>\n",
       "      <th>track.album.id</th>\n",
       "      <th>track.album.images</th>\n",
       "      <th>track.album.is_playable</th>\n",
       "      <th>...</th>\n",
       "      <th>track.href</th>\n",
       "      <th>track.id</th>\n",
       "      <th>track.is_local</th>\n",
       "      <th>track.name</th>\n",
       "      <th>track.popularity</th>\n",
       "      <th>track.preview_url</th>\n",
       "      <th>track.track_number</th>\n",
       "      <th>track.type</th>\n",
       "      <th>track.uri</th>\n",
       "      <th>genre</th>\n",
       "    </tr>\n",
       "  </thead>\n",
       "  <tbody>\n",
       "    <tr>\n",
       "      <th>0</th>\n",
       "      <td>2023-04-11T15:06:37Z</td>\n",
       "      <td>album</td>\n",
       "      <td>album</td>\n",
       "      <td>[{'external_urls': {'spotify': 'https://open.s...</td>\n",
       "      <td>['AD', 'AE', 'AG', 'AL', 'AM', 'AO', 'AR', 'AT...</td>\n",
       "      <td>https://open.spotify.com/album/6tG8sCK4htJOLjl...</td>\n",
       "      <td>https://api.spotify.com/v1/albums/6tG8sCK4htJO...</td>\n",
       "      <td>6tG8sCK4htJOLjlWwb7gZB</td>\n",
       "      <td>[{'height': 640, 'url': 'https://i.scdn.co/ima...</td>\n",
       "      <td>True</td>\n",
       "      <td>...</td>\n",
       "      <td>https://api.spotify.com/v1/tracks/7HdXRMw14roD...</td>\n",
       "      <td>7HdXRMw14roDx2a0COWk3M</td>\n",
       "      <td>False</td>\n",
       "      <td>This Is Why</td>\n",
       "      <td>74</td>\n",
       "      <td>https://p.scdn.co/mp3-preview/41728b2155b6603b...</td>\n",
       "      <td>1</td>\n",
       "      <td>track</td>\n",
       "      <td>spotify:track:7HdXRMw14roDx2a0COWk3M</td>\n",
       "      <td>['candy pop', 'modern rock', 'pixie', 'pop', '...</td>\n",
       "    </tr>\n",
       "    <tr>\n",
       "      <th>1</th>\n",
       "      <td>2023-04-11T11:33:20Z</td>\n",
       "      <td>album</td>\n",
       "      <td>album</td>\n",
       "      <td>[{'external_urls': {'spotify': 'https://open.s...</td>\n",
       "      <td>['AD', 'AE', 'AG', 'AL', 'AM', 'AO', 'AR', 'AT...</td>\n",
       "      <td>https://open.spotify.com/album/1nJzOScwb2SsJte...</td>\n",
       "      <td>https://api.spotify.com/v1/albums/1nJzOScwb2Ss...</td>\n",
       "      <td>1nJzOScwb2SsJtemleHGrI</td>\n",
       "      <td>[{'height': 640, 'url': 'https://i.scdn.co/ima...</td>\n",
       "      <td>True</td>\n",
       "      <td>...</td>\n",
       "      <td>https://api.spotify.com/v1/tracks/1p14xNSMBasf...</td>\n",
       "      <td>1p14xNSMBasfxLqTBn7k6L</td>\n",
       "      <td>False</td>\n",
       "      <td>Pistoleros Famosos</td>\n",
       "      <td>65</td>\n",
       "      <td>https://p.scdn.co/mp3-preview/fd184e0a47c712fa...</td>\n",
       "      <td>1</td>\n",
       "      <td>track</td>\n",
       "      <td>spotify:track:1p14xNSMBasfxLqTBn7k6L</td>\n",
       "      <td>['banda', 'corridos clasicos', 'musica mexican...</td>\n",
       "    </tr>\n",
       "    <tr>\n",
       "      <th>2</th>\n",
       "      <td>2023-04-10T01:13:38Z</td>\n",
       "      <td>album</td>\n",
       "      <td>album</td>\n",
       "      <td>[{'external_urls': {'spotify': 'https://open.s...</td>\n",
       "      <td>['AD', 'AE', 'AG', 'AL', 'AM', 'AO', 'AR', 'AT...</td>\n",
       "      <td>https://open.spotify.com/album/6kZ42qRrzov54Lc...</td>\n",
       "      <td>https://api.spotify.com/v1/albums/6kZ42qRrzov5...</td>\n",
       "      <td>6kZ42qRrzov54LcAk4onW9</td>\n",
       "      <td>[{'height': 640, 'url': 'https://i.scdn.co/ima...</td>\n",
       "      <td>True</td>\n",
       "      <td>...</td>\n",
       "      <td>https://api.spotify.com/v1/tracks/4OmFmE0fzcMG...</td>\n",
       "      <td>4OmFmE0fzcMG6g0Y8p4eSD</td>\n",
       "      <td>False</td>\n",
       "      <td>Better Man (Taylor's Version) (From The Vault)</td>\n",
       "      <td>70</td>\n",
       "      <td>https://p.scdn.co/mp3-preview/63cfaaef1a487995...</td>\n",
       "      <td>22</td>\n",
       "      <td>track</td>\n",
       "      <td>spotify:track:4OmFmE0fzcMG6g0Y8p4eSD</td>\n",
       "      <td>['pop']</td>\n",
       "    </tr>\n",
       "    <tr>\n",
       "      <th>3</th>\n",
       "      <td>2023-04-09T07:18:17Z</td>\n",
       "      <td>single</td>\n",
       "      <td>single</td>\n",
       "      <td>[{'external_urls': {'spotify': 'https://open.s...</td>\n",
       "      <td>['AD', 'AE', 'AG', 'AL', 'AM', 'AO', 'AR', 'AT...</td>\n",
       "      <td>https://open.spotify.com/album/2OZO8I4Z79M8VN2...</td>\n",
       "      <td>https://api.spotify.com/v1/albums/2OZO8I4Z79M8...</td>\n",
       "      <td>2OZO8I4Z79M8VN2H0wgjEp</td>\n",
       "      <td>[{'height': 640, 'url': 'https://i.scdn.co/ima...</td>\n",
       "      <td>True</td>\n",
       "      <td>...</td>\n",
       "      <td>https://api.spotify.com/v1/tracks/5ZjFa8NE9MHK...</td>\n",
       "      <td>5ZjFa8NE9MHKBPNefxIh88</td>\n",
       "      <td>False</td>\n",
       "      <td>Give It To Me - Sped Up Version</td>\n",
       "      <td>66</td>\n",
       "      <td>https://p.scdn.co/mp3-preview/eaf69b89d382a2e1...</td>\n",
       "      <td>2</td>\n",
       "      <td>track</td>\n",
       "      <td>spotify:track:5ZjFa8NE9MHKBPNefxIh88</td>\n",
       "      <td>[]</td>\n",
       "    </tr>\n",
       "    <tr>\n",
       "      <th>4</th>\n",
       "      <td>2023-04-09T02:07:04Z</td>\n",
       "      <td>album</td>\n",
       "      <td>album</td>\n",
       "      <td>[{'external_urls': {'spotify': 'https://open.s...</td>\n",
       "      <td>['AD', 'AE', 'AG', 'AL', 'AM', 'AO', 'AR', 'AT...</td>\n",
       "      <td>https://open.spotify.com/album/4aJQ9c9XNSJ9eiC...</td>\n",
       "      <td>https://api.spotify.com/v1/albums/4aJQ9c9XNSJ9...</td>\n",
       "      <td>4aJQ9c9XNSJ9eiCrmqH3S3</td>\n",
       "      <td>[{'height': 640, 'url': 'https://i.scdn.co/ima...</td>\n",
       "      <td>True</td>\n",
       "      <td>...</td>\n",
       "      <td>https://api.spotify.com/v1/tracks/171SFtWNviZ7...</td>\n",
       "      <td>171SFtWNviZ7Tp10zxNdpN</td>\n",
       "      <td>False</td>\n",
       "      <td>Union Maid</td>\n",
       "      <td>9</td>\n",
       "      <td>https://p.scdn.co/mp3-preview/81fa22cf7f759d9c...</td>\n",
       "      <td>24</td>\n",
       "      <td>track</td>\n",
       "      <td>spotify:track:171SFtWNviZ7Tp10zxNdpN</td>\n",
       "      <td>['american folk revival', 'folk', 'protest fol...</td>\n",
       "    </tr>\n",
       "    <tr>\n",
       "      <th>...</th>\n",
       "      <td>...</td>\n",
       "      <td>...</td>\n",
       "      <td>...</td>\n",
       "      <td>...</td>\n",
       "      <td>...</td>\n",
       "      <td>...</td>\n",
       "      <td>...</td>\n",
       "      <td>...</td>\n",
       "      <td>...</td>\n",
       "      <td>...</td>\n",
       "      <td>...</td>\n",
       "      <td>...</td>\n",
       "      <td>...</td>\n",
       "      <td>...</td>\n",
       "      <td>...</td>\n",
       "      <td>...</td>\n",
       "      <td>...</td>\n",
       "      <td>...</td>\n",
       "      <td>...</td>\n",
       "      <td>...</td>\n",
       "      <td>...</td>\n",
       "    </tr>\n",
       "    <tr>\n",
       "      <th>2008</th>\n",
       "      <td>2016-05-24T09:41:01Z</td>\n",
       "      <td>compilation</td>\n",
       "      <td>compilation</td>\n",
       "      <td>[{'external_urls': {'spotify': 'https://open.s...</td>\n",
       "      <td>['AD', 'AE', 'AG', 'AL', 'AM', 'AO', 'AR', 'AT...</td>\n",
       "      <td>https://open.spotify.com/album/5qENHeCSlwWpEzb...</td>\n",
       "      <td>https://api.spotify.com/v1/albums/5qENHeCSlwWp...</td>\n",
       "      <td>5qENHeCSlwWpEzb25peRmQ</td>\n",
       "      <td>[{'height': 640, 'url': 'https://i.scdn.co/ima...</td>\n",
       "      <td>True</td>\n",
       "      <td>...</td>\n",
       "      <td>https://api.spotify.com/v1/tracks/5Z01UMMf7V1o...</td>\n",
       "      <td>5Z01UMMf7V1o0MzF86s6WJ</td>\n",
       "      <td>False</td>\n",
       "      <td>Lose Yourself - From \"8 Mile\" Soundtrack</td>\n",
       "      <td>78</td>\n",
       "      <td>https://p.scdn.co/mp3-preview/f943c5b5954918a2...</td>\n",
       "      <td>6</td>\n",
       "      <td>track</td>\n",
       "      <td>spotify:track:5Z01UMMf7V1o0MzF86s6WJ</td>\n",
       "      <td>['detroit hip hop', 'hip hop', 'pop', 'rap']</td>\n",
       "    </tr>\n",
       "    <tr>\n",
       "      <th>2009</th>\n",
       "      <td>2016-05-24T09:40:58Z</td>\n",
       "      <td>album</td>\n",
       "      <td>album</td>\n",
       "      <td>[{'external_urls': {'spotify': 'https://open.s...</td>\n",
       "      <td>['AD', 'AE', 'AG', 'AL', 'AM', 'AO', 'AR', 'AT...</td>\n",
       "      <td>https://open.spotify.com/album/2cWBwpqMsDJC1ZU...</td>\n",
       "      <td>https://api.spotify.com/v1/albums/2cWBwpqMsDJC...</td>\n",
       "      <td>2cWBwpqMsDJC1ZUwz813lo</td>\n",
       "      <td>[{'height': 640, 'url': 'https://i.scdn.co/ima...</td>\n",
       "      <td>True</td>\n",
       "      <td>...</td>\n",
       "      <td>https://api.spotify.com/v1/tracks/4xkOaSrkexMc...</td>\n",
       "      <td>4xkOaSrkexMciUUogZKVTS</td>\n",
       "      <td>False</td>\n",
       "      <td>Till I Collapse</td>\n",
       "      <td>86</td>\n",
       "      <td>https://p.scdn.co/mp3-preview/646f0a143151af01...</td>\n",
       "      <td>18</td>\n",
       "      <td>track</td>\n",
       "      <td>spotify:track:4xkOaSrkexMciUUogZKVTS</td>\n",
       "      <td>['detroit hip hop', 'hip hop', 'pop', 'rap']</td>\n",
       "    </tr>\n",
       "    <tr>\n",
       "      <th>2010</th>\n",
       "      <td>2016-05-24T09:40:11Z</td>\n",
       "      <td>album</td>\n",
       "      <td>album</td>\n",
       "      <td>[{'external_urls': {'spotify': 'https://open.s...</td>\n",
       "      <td>['MX']</td>\n",
       "      <td>https://open.spotify.com/album/63WdJvk8G9hxJn8...</td>\n",
       "      <td>https://api.spotify.com/v1/albums/63WdJvk8G9hx...</td>\n",
       "      <td>63WdJvk8G9hxJn8u5rswNh</td>\n",
       "      <td>[{'height': 640, 'url': 'https://i.scdn.co/ima...</td>\n",
       "      <td>True</td>\n",
       "      <td>...</td>\n",
       "      <td>https://api.spotify.com/v1/tracks/0pN1Ld0Fr9DT...</td>\n",
       "      <td>0pN1Ld0Fr9DTUaCGbKRvlF</td>\n",
       "      <td>False</td>\n",
       "      <td>Make Me Proud</td>\n",
       "      <td>29</td>\n",
       "      <td>https://p.scdn.co/mp3-preview/206a9910606c7df9...</td>\n",
       "      <td>10</td>\n",
       "      <td>track</td>\n",
       "      <td>spotify:track:0pN1Ld0Fr9DTUaCGbKRvlF</td>\n",
       "      <td>['canadian hip hop', 'canadian pop', 'hip hop'...</td>\n",
       "    </tr>\n",
       "    <tr>\n",
       "      <th>2011</th>\n",
       "      <td>2016-05-24T09:39:42Z</td>\n",
       "      <td>album</td>\n",
       "      <td>album</td>\n",
       "      <td>[{'external_urls': {'spotify': 'https://open.s...</td>\n",
       "      <td>['MX']</td>\n",
       "      <td>https://open.spotify.com/album/63WdJvk8G9hxJn8...</td>\n",
       "      <td>https://api.spotify.com/v1/albums/63WdJvk8G9hx...</td>\n",
       "      <td>63WdJvk8G9hxJn8u5rswNh</td>\n",
       "      <td>[{'height': 640, 'url': 'https://i.scdn.co/ima...</td>\n",
       "      <td>True</td>\n",
       "      <td>...</td>\n",
       "      <td>https://api.spotify.com/v1/tracks/7kfTqGMzIHFW...</td>\n",
       "      <td>7kfTqGMzIHFWeBeOJALzRf</td>\n",
       "      <td>False</td>\n",
       "      <td>Headlines</td>\n",
       "      <td>38</td>\n",
       "      <td>https://p.scdn.co/mp3-preview/570ddea0adb2c0bf...</td>\n",
       "      <td>3</td>\n",
       "      <td>track</td>\n",
       "      <td>spotify:track:7kfTqGMzIHFWeBeOJALzRf</td>\n",
       "      <td>['canadian hip hop', 'canadian pop', 'hip hop'...</td>\n",
       "    </tr>\n",
       "    <tr>\n",
       "      <th>2012</th>\n",
       "      <td>2016-05-24T09:35:11Z</td>\n",
       "      <td>album</td>\n",
       "      <td>album</td>\n",
       "      <td>[{'external_urls': {'spotify': 'https://open.s...</td>\n",
       "      <td>['MX']</td>\n",
       "      <td>https://open.spotify.com/album/63WdJvk8G9hxJn8...</td>\n",
       "      <td>https://api.spotify.com/v1/albums/63WdJvk8G9hx...</td>\n",
       "      <td>63WdJvk8G9hxJn8u5rswNh</td>\n",
       "      <td>[{'height': 640, 'url': 'https://i.scdn.co/ima...</td>\n",
       "      <td>True</td>\n",
       "      <td>...</td>\n",
       "      <td>https://api.spotify.com/v1/tracks/2z3htsNRuhDN...</td>\n",
       "      <td>2z3htsNRuhDN923ITatc56</td>\n",
       "      <td>False</td>\n",
       "      <td>Marvins Room</td>\n",
       "      <td>34</td>\n",
       "      <td>https://p.scdn.co/mp3-preview/162e35b99b14ee33...</td>\n",
       "      <td>6</td>\n",
       "      <td>track</td>\n",
       "      <td>spotify:track:2z3htsNRuhDN923ITatc56</td>\n",
       "      <td>['canadian hip hop', 'canadian pop', 'hip hop'...</td>\n",
       "    </tr>\n",
       "  </tbody>\n",
       "</table>\n",
       "<p>2013 rows × 33 columns</p>\n",
       "</div>"
      ],
      "text/plain": [
       "                  added_at track.album.album_group track.album.album_type  \\\n",
       "0     2023-04-11T15:06:37Z                   album                  album   \n",
       "1     2023-04-11T11:33:20Z                   album                  album   \n",
       "2     2023-04-10T01:13:38Z                   album                  album   \n",
       "3     2023-04-09T07:18:17Z                  single                 single   \n",
       "4     2023-04-09T02:07:04Z                   album                  album   \n",
       "...                    ...                     ...                    ...   \n",
       "2008  2016-05-24T09:41:01Z             compilation            compilation   \n",
       "2009  2016-05-24T09:40:58Z                   album                  album   \n",
       "2010  2016-05-24T09:40:11Z                   album                  album   \n",
       "2011  2016-05-24T09:39:42Z                   album                  album   \n",
       "2012  2016-05-24T09:35:11Z                   album                  album   \n",
       "\n",
       "                                    track.album.artists  \\\n",
       "0     [{'external_urls': {'spotify': 'https://open.s...   \n",
       "1     [{'external_urls': {'spotify': 'https://open.s...   \n",
       "2     [{'external_urls': {'spotify': 'https://open.s...   \n",
       "3     [{'external_urls': {'spotify': 'https://open.s...   \n",
       "4     [{'external_urls': {'spotify': 'https://open.s...   \n",
       "...                                                 ...   \n",
       "2008  [{'external_urls': {'spotify': 'https://open.s...   \n",
       "2009  [{'external_urls': {'spotify': 'https://open.s...   \n",
       "2010  [{'external_urls': {'spotify': 'https://open.s...   \n",
       "2011  [{'external_urls': {'spotify': 'https://open.s...   \n",
       "2012  [{'external_urls': {'spotify': 'https://open.s...   \n",
       "\n",
       "                          track.album.available_markets  \\\n",
       "0     ['AD', 'AE', 'AG', 'AL', 'AM', 'AO', 'AR', 'AT...   \n",
       "1     ['AD', 'AE', 'AG', 'AL', 'AM', 'AO', 'AR', 'AT...   \n",
       "2     ['AD', 'AE', 'AG', 'AL', 'AM', 'AO', 'AR', 'AT...   \n",
       "3     ['AD', 'AE', 'AG', 'AL', 'AM', 'AO', 'AR', 'AT...   \n",
       "4     ['AD', 'AE', 'AG', 'AL', 'AM', 'AO', 'AR', 'AT...   \n",
       "...                                                 ...   \n",
       "2008  ['AD', 'AE', 'AG', 'AL', 'AM', 'AO', 'AR', 'AT...   \n",
       "2009  ['AD', 'AE', 'AG', 'AL', 'AM', 'AO', 'AR', 'AT...   \n",
       "2010                                             ['MX']   \n",
       "2011                                             ['MX']   \n",
       "2012                                             ['MX']   \n",
       "\n",
       "                      track.album.external_urls.spotify  \\\n",
       "0     https://open.spotify.com/album/6tG8sCK4htJOLjl...   \n",
       "1     https://open.spotify.com/album/1nJzOScwb2SsJte...   \n",
       "2     https://open.spotify.com/album/6kZ42qRrzov54Lc...   \n",
       "3     https://open.spotify.com/album/2OZO8I4Z79M8VN2...   \n",
       "4     https://open.spotify.com/album/4aJQ9c9XNSJ9eiC...   \n",
       "...                                                 ...   \n",
       "2008  https://open.spotify.com/album/5qENHeCSlwWpEzb...   \n",
       "2009  https://open.spotify.com/album/2cWBwpqMsDJC1ZU...   \n",
       "2010  https://open.spotify.com/album/63WdJvk8G9hxJn8...   \n",
       "2011  https://open.spotify.com/album/63WdJvk8G9hxJn8...   \n",
       "2012  https://open.spotify.com/album/63WdJvk8G9hxJn8...   \n",
       "\n",
       "                                       track.album.href  \\\n",
       "0     https://api.spotify.com/v1/albums/6tG8sCK4htJO...   \n",
       "1     https://api.spotify.com/v1/albums/1nJzOScwb2Ss...   \n",
       "2     https://api.spotify.com/v1/albums/6kZ42qRrzov5...   \n",
       "3     https://api.spotify.com/v1/albums/2OZO8I4Z79M8...   \n",
       "4     https://api.spotify.com/v1/albums/4aJQ9c9XNSJ9...   \n",
       "...                                                 ...   \n",
       "2008  https://api.spotify.com/v1/albums/5qENHeCSlwWp...   \n",
       "2009  https://api.spotify.com/v1/albums/2cWBwpqMsDJC...   \n",
       "2010  https://api.spotify.com/v1/albums/63WdJvk8G9hx...   \n",
       "2011  https://api.spotify.com/v1/albums/63WdJvk8G9hx...   \n",
       "2012  https://api.spotify.com/v1/albums/63WdJvk8G9hx...   \n",
       "\n",
       "              track.album.id  \\\n",
       "0     6tG8sCK4htJOLjlWwb7gZB   \n",
       "1     1nJzOScwb2SsJtemleHGrI   \n",
       "2     6kZ42qRrzov54LcAk4onW9   \n",
       "3     2OZO8I4Z79M8VN2H0wgjEp   \n",
       "4     4aJQ9c9XNSJ9eiCrmqH3S3   \n",
       "...                      ...   \n",
       "2008  5qENHeCSlwWpEzb25peRmQ   \n",
       "2009  2cWBwpqMsDJC1ZUwz813lo   \n",
       "2010  63WdJvk8G9hxJn8u5rswNh   \n",
       "2011  63WdJvk8G9hxJn8u5rswNh   \n",
       "2012  63WdJvk8G9hxJn8u5rswNh   \n",
       "\n",
       "                                     track.album.images  \\\n",
       "0     [{'height': 640, 'url': 'https://i.scdn.co/ima...   \n",
       "1     [{'height': 640, 'url': 'https://i.scdn.co/ima...   \n",
       "2     [{'height': 640, 'url': 'https://i.scdn.co/ima...   \n",
       "3     [{'height': 640, 'url': 'https://i.scdn.co/ima...   \n",
       "4     [{'height': 640, 'url': 'https://i.scdn.co/ima...   \n",
       "...                                                 ...   \n",
       "2008  [{'height': 640, 'url': 'https://i.scdn.co/ima...   \n",
       "2009  [{'height': 640, 'url': 'https://i.scdn.co/ima...   \n",
       "2010  [{'height': 640, 'url': 'https://i.scdn.co/ima...   \n",
       "2011  [{'height': 640, 'url': 'https://i.scdn.co/ima...   \n",
       "2012  [{'height': 640, 'url': 'https://i.scdn.co/ima...   \n",
       "\n",
       "      track.album.is_playable  ...  \\\n",
       "0                        True  ...   \n",
       "1                        True  ...   \n",
       "2                        True  ...   \n",
       "3                        True  ...   \n",
       "4                        True  ...   \n",
       "...                       ...  ...   \n",
       "2008                     True  ...   \n",
       "2009                     True  ...   \n",
       "2010                     True  ...   \n",
       "2011                     True  ...   \n",
       "2012                     True  ...   \n",
       "\n",
       "                                             track.href  \\\n",
       "0     https://api.spotify.com/v1/tracks/7HdXRMw14roD...   \n",
       "1     https://api.spotify.com/v1/tracks/1p14xNSMBasf...   \n",
       "2     https://api.spotify.com/v1/tracks/4OmFmE0fzcMG...   \n",
       "3     https://api.spotify.com/v1/tracks/5ZjFa8NE9MHK...   \n",
       "4     https://api.spotify.com/v1/tracks/171SFtWNviZ7...   \n",
       "...                                                 ...   \n",
       "2008  https://api.spotify.com/v1/tracks/5Z01UMMf7V1o...   \n",
       "2009  https://api.spotify.com/v1/tracks/4xkOaSrkexMc...   \n",
       "2010  https://api.spotify.com/v1/tracks/0pN1Ld0Fr9DT...   \n",
       "2011  https://api.spotify.com/v1/tracks/7kfTqGMzIHFW...   \n",
       "2012  https://api.spotify.com/v1/tracks/2z3htsNRuhDN...   \n",
       "\n",
       "                    track.id track.is_local  \\\n",
       "0     7HdXRMw14roDx2a0COWk3M          False   \n",
       "1     1p14xNSMBasfxLqTBn7k6L          False   \n",
       "2     4OmFmE0fzcMG6g0Y8p4eSD          False   \n",
       "3     5ZjFa8NE9MHKBPNefxIh88          False   \n",
       "4     171SFtWNviZ7Tp10zxNdpN          False   \n",
       "...                      ...            ...   \n",
       "2008  5Z01UMMf7V1o0MzF86s6WJ          False   \n",
       "2009  4xkOaSrkexMciUUogZKVTS          False   \n",
       "2010  0pN1Ld0Fr9DTUaCGbKRvlF          False   \n",
       "2011  7kfTqGMzIHFWeBeOJALzRf          False   \n",
       "2012  2z3htsNRuhDN923ITatc56          False   \n",
       "\n",
       "                                          track.name track.popularity  \\\n",
       "0                                        This Is Why               74   \n",
       "1                                 Pistoleros Famosos               65   \n",
       "2     Better Man (Taylor's Version) (From The Vault)               70   \n",
       "3                    Give It To Me - Sped Up Version               66   \n",
       "4                                         Union Maid                9   \n",
       "...                                              ...              ...   \n",
       "2008        Lose Yourself - From \"8 Mile\" Soundtrack               78   \n",
       "2009                                 Till I Collapse               86   \n",
       "2010                                   Make Me Proud               29   \n",
       "2011                                       Headlines               38   \n",
       "2012                                    Marvins Room               34   \n",
       "\n",
       "                                      track.preview_url track.track_number  \\\n",
       "0     https://p.scdn.co/mp3-preview/41728b2155b6603b...                  1   \n",
       "1     https://p.scdn.co/mp3-preview/fd184e0a47c712fa...                  1   \n",
       "2     https://p.scdn.co/mp3-preview/63cfaaef1a487995...                 22   \n",
       "3     https://p.scdn.co/mp3-preview/eaf69b89d382a2e1...                  2   \n",
       "4     https://p.scdn.co/mp3-preview/81fa22cf7f759d9c...                 24   \n",
       "...                                                 ...                ...   \n",
       "2008  https://p.scdn.co/mp3-preview/f943c5b5954918a2...                  6   \n",
       "2009  https://p.scdn.co/mp3-preview/646f0a143151af01...                 18   \n",
       "2010  https://p.scdn.co/mp3-preview/206a9910606c7df9...                 10   \n",
       "2011  https://p.scdn.co/mp3-preview/570ddea0adb2c0bf...                  3   \n",
       "2012  https://p.scdn.co/mp3-preview/162e35b99b14ee33...                  6   \n",
       "\n",
       "     track.type                             track.uri  \\\n",
       "0         track  spotify:track:7HdXRMw14roDx2a0COWk3M   \n",
       "1         track  spotify:track:1p14xNSMBasfxLqTBn7k6L   \n",
       "2         track  spotify:track:4OmFmE0fzcMG6g0Y8p4eSD   \n",
       "3         track  spotify:track:5ZjFa8NE9MHKBPNefxIh88   \n",
       "4         track  spotify:track:171SFtWNviZ7Tp10zxNdpN   \n",
       "...         ...                                   ...   \n",
       "2008      track  spotify:track:5Z01UMMf7V1o0MzF86s6WJ   \n",
       "2009      track  spotify:track:4xkOaSrkexMciUUogZKVTS   \n",
       "2010      track  spotify:track:0pN1Ld0Fr9DTUaCGbKRvlF   \n",
       "2011      track  spotify:track:7kfTqGMzIHFWeBeOJALzRf   \n",
       "2012      track  spotify:track:2z3htsNRuhDN923ITatc56   \n",
       "\n",
       "                                                  genre  \n",
       "0     ['candy pop', 'modern rock', 'pixie', 'pop', '...  \n",
       "1     ['banda', 'corridos clasicos', 'musica mexican...  \n",
       "2                                               ['pop']  \n",
       "3                                                    []  \n",
       "4     ['american folk revival', 'folk', 'protest fol...  \n",
       "...                                                 ...  \n",
       "2008       ['detroit hip hop', 'hip hop', 'pop', 'rap']  \n",
       "2009       ['detroit hip hop', 'hip hop', 'pop', 'rap']  \n",
       "2010  ['canadian hip hop', 'canadian pop', 'hip hop'...  \n",
       "2011  ['canadian hip hop', 'canadian pop', 'hip hop'...  \n",
       "2012  ['canadian hip hop', 'canadian pop', 'hip hop'...  \n",
       "\n",
       "[2013 rows x 33 columns]"
      ]
     },
     "execution_count": 2,
     "metadata": {},
     "output_type": "execute_result"
    }
   ],
   "source": [
    "LIB = pd.read_csv('datasets/LIB.csv')\n",
    "LIB"
   ]
  },
  {
   "cell_type": "code",
   "execution_count": 3,
   "id": "cb7682fa",
   "metadata": {},
   "outputs": [
    {
     "data": {
      "text/html": [
       "<div>\n",
       "<style scoped>\n",
       "    .dataframe tbody tr th:only-of-type {\n",
       "        vertical-align: middle;\n",
       "    }\n",
       "\n",
       "    .dataframe tbody tr th {\n",
       "        vertical-align: top;\n",
       "    }\n",
       "\n",
       "    .dataframe thead th {\n",
       "        text-align: right;\n",
       "    }\n",
       "</style>\n",
       "<table border=\"1\" class=\"dataframe\">\n",
       "  <thead>\n",
       "    <tr style=\"text-align: right;\">\n",
       "      <th></th>\n",
       "      <th>artist</th>\n",
       "      <th>song</th>\n",
       "      <th>lyrics</th>\n",
       "      <th>language</th>\n",
       "      <th>language_name</th>\n",
       "    </tr>\n",
       "  </thead>\n",
       "  <tbody>\n",
       "    <tr>\n",
       "      <th>0</th>\n",
       "      <td>Paramore</td>\n",
       "      <td>This Is Why</td>\n",
       "      <td>[Verse 1]\\nIf you have an opinion\\nMaybe you s...</td>\n",
       "      <td>en</td>\n",
       "      <td>English</td>\n",
       "    </tr>\n",
       "    <tr>\n",
       "      <th>1</th>\n",
       "      <td>Los Cadetes De Linares</td>\n",
       "      <td>Pistoleros Famosos</td>\n",
       "      <td>Por las márgenes del rio\\nDe reinos hasta lare...</td>\n",
       "      <td>es</td>\n",
       "      <td>Spanish, Castilian</td>\n",
       "    </tr>\n",
       "    <tr>\n",
       "      <th>2</th>\n",
       "      <td>Taylor Swift</td>\n",
       "      <td>Better Man (Taylor's Version) (From The Vault)</td>\n",
       "      <td>[Verse 1]\\nI know I'm probably better off on m...</td>\n",
       "      <td>en</td>\n",
       "      <td>English</td>\n",
       "    </tr>\n",
       "    <tr>\n",
       "      <th>3</th>\n",
       "      <td>FYLOW</td>\n",
       "      <td>Give It To Me - Sped Up Version</td>\n",
       "      <td>[Verse 1: ReyTheStinger]\\nI was scrolling down...</td>\n",
       "      <td>en</td>\n",
       "      <td>English</td>\n",
       "    </tr>\n",
       "    <tr>\n",
       "      <th>4</th>\n",
       "      <td>Woody Guthrie</td>\n",
       "      <td>Union Maid</td>\n",
       "      <td>There once was a union maid, she never was afr...</td>\n",
       "      <td>en</td>\n",
       "      <td>English</td>\n",
       "    </tr>\n",
       "    <tr>\n",
       "      <th>...</th>\n",
       "      <td>...</td>\n",
       "      <td>...</td>\n",
       "      <td>...</td>\n",
       "      <td>...</td>\n",
       "      <td>...</td>\n",
       "    </tr>\n",
       "    <tr>\n",
       "      <th>2008</th>\n",
       "      <td>Eminem</td>\n",
       "      <td>Lose Yourself - From \"8 Mile\" Soundtrack</td>\n",
       "      <td>1. Eminem- Higher\\n2. Eminem- Gnat\\n3. Eminem-...</td>\n",
       "      <td>en</td>\n",
       "      <td>English</td>\n",
       "    </tr>\n",
       "    <tr>\n",
       "      <th>2009</th>\n",
       "      <td>Eminem</td>\n",
       "      <td>Till I Collapse</td>\n",
       "      <td>[Intro: Eminem]\\n'Cause sometimes you just fee...</td>\n",
       "      <td>en</td>\n",
       "      <td>English</td>\n",
       "    </tr>\n",
       "    <tr>\n",
       "      <th>2010</th>\n",
       "      <td>Drake</td>\n",
       "      <td>Make Me Proud</td>\n",
       "      <td>[Verse 1: Drake]\\nI like a woman with a future...</td>\n",
       "      <td>en</td>\n",
       "      <td>English</td>\n",
       "    </tr>\n",
       "    <tr>\n",
       "      <th>2011</th>\n",
       "      <td>Drake</td>\n",
       "      <td>Headlines</td>\n",
       "      <td>[Verse 1]\\nI might be too strung out on compli...</td>\n",
       "      <td>en</td>\n",
       "      <td>English</td>\n",
       "    </tr>\n",
       "    <tr>\n",
       "      <th>2012</th>\n",
       "      <td>Drake</td>\n",
       "      <td>Marvins Room</td>\n",
       "      <td>[Intro: Ericka Lee]\\nHello?\\nYeah, I just walk...</td>\n",
       "      <td>en</td>\n",
       "      <td>English</td>\n",
       "    </tr>\n",
       "  </tbody>\n",
       "</table>\n",
       "<p>2013 rows × 5 columns</p>\n",
       "</div>"
      ],
      "text/plain": [
       "                      artist                                            song  \\\n",
       "0                   Paramore                                     This Is Why   \n",
       "1     Los Cadetes De Linares                              Pistoleros Famosos   \n",
       "2               Taylor Swift  Better Man (Taylor's Version) (From The Vault)   \n",
       "3                      FYLOW                 Give It To Me - Sped Up Version   \n",
       "4              Woody Guthrie                                      Union Maid   \n",
       "...                      ...                                             ...   \n",
       "2008                  Eminem        Lose Yourself - From \"8 Mile\" Soundtrack   \n",
       "2009                  Eminem                                 Till I Collapse   \n",
       "2010                   Drake                                   Make Me Proud   \n",
       "2011                   Drake                                       Headlines   \n",
       "2012                   Drake                                    Marvins Room   \n",
       "\n",
       "                                                 lyrics language  \\\n",
       "0     [Verse 1]\\nIf you have an opinion\\nMaybe you s...       en   \n",
       "1     Por las márgenes del rio\\nDe reinos hasta lare...       es   \n",
       "2     [Verse 1]\\nI know I'm probably better off on m...       en   \n",
       "3     [Verse 1: ReyTheStinger]\\nI was scrolling down...       en   \n",
       "4     There once was a union maid, she never was afr...       en   \n",
       "...                                                 ...      ...   \n",
       "2008  1. Eminem- Higher\\n2. Eminem- Gnat\\n3. Eminem-...       en   \n",
       "2009  [Intro: Eminem]\\n'Cause sometimes you just fee...       en   \n",
       "2010  [Verse 1: Drake]\\nI like a woman with a future...       en   \n",
       "2011  [Verse 1]\\nI might be too strung out on compli...       en   \n",
       "2012  [Intro: Ericka Lee]\\nHello?\\nYeah, I just walk...       en   \n",
       "\n",
       "           language_name  \n",
       "0                English  \n",
       "1     Spanish, Castilian  \n",
       "2                English  \n",
       "3                English  \n",
       "4                English  \n",
       "...                  ...  \n",
       "2008             English  \n",
       "2009             English  \n",
       "2010             English  \n",
       "2011             English  \n",
       "2012             English  \n",
       "\n",
       "[2013 rows x 5 columns]"
      ]
     },
     "execution_count": 3,
     "metadata": {},
     "output_type": "execute_result"
    }
   ],
   "source": [
    "CORPUS = pd.read_csv('datasets/CORPUS.csv')\n",
    "CORPUS"
   ]
  },
  {
   "cell_type": "markdown",
   "id": "8e7cdf7d",
   "metadata": {},
   "source": [
    "## 2.0 Language Statistics"
   ]
  },
  {
   "cell_type": "code",
   "execution_count": 4,
   "id": "acdf0f4c",
   "metadata": {},
   "outputs": [
    {
     "data": {
      "application/vnd.plotly.v1+json": {
       "config": {
        "plotlyServerURL": "https://plot.ly"
       },
       "data": [
        {
         "alignmentgroup": "True",
         "bingroup": "x",
         "hovertemplate": "language_name=%{x}<br>count=%{y}<extra></extra>",
         "legendgroup": "",
         "marker": {
          "color": "#636efa",
          "pattern": {
           "shape": ""
          }
         },
         "name": "",
         "offsetgroup": "",
         "orientation": "v",
         "showlegend": false,
         "texttemplate": "%{value}",
         "type": "histogram",
         "x": [
          "English",
          "Spanish, Castilian",
          "English",
          "English",
          "English",
          "English",
          "English",
          null,
          "English",
          "English",
          "English",
          "English",
          "English",
          "English",
          "English",
          "English",
          "English",
          "English",
          "English",
          "English",
          "English",
          "English",
          "English",
          "English",
          "English",
          "English",
          "English",
          "English",
          "English",
          "English",
          "English",
          "English",
          "English",
          "English",
          "English",
          null,
          "English",
          "English",
          "Spanish, Castilian",
          "English",
          "English",
          "Spanish, Castilian",
          "Spanish, Castilian",
          "English",
          "Portuguese",
          "English",
          null,
          "English",
          "English",
          "English",
          "English",
          "English",
          "English",
          "English",
          "English",
          null,
          "English",
          "English",
          "English",
          "English",
          "English",
          "English",
          "English",
          "English",
          "English",
          null,
          "English",
          "Portuguese",
          "Russian",
          null,
          null,
          "English",
          "English",
          null,
          "English",
          "English",
          "English",
          "English",
          "English",
          "English",
          "Spanish, Castilian",
          "English",
          "English",
          "English",
          "English",
          "Spanish, Castilian",
          "English",
          "English",
          "English",
          "English",
          "English",
          "English",
          null,
          "English",
          "Spanish, Castilian",
          "Portuguese",
          "English",
          "English",
          "English",
          null,
          "English",
          "Spanish, Castilian",
          "English",
          "English",
          "English",
          "Spanish, Castilian",
          "English",
          "English",
          "English",
          "Spanish, Castilian",
          "Spanish, Castilian",
          "English",
          "English",
          "English",
          "English",
          "English",
          "English",
          "English",
          "English",
          "English",
          "English",
          "Spanish, Castilian",
          "English",
          "English",
          "English",
          "English",
          "English",
          "English",
          "English",
          "English",
          "English",
          "English",
          null,
          "English",
          "English",
          "Spanish, Castilian",
          "Spanish, Castilian",
          "Spanish, Castilian",
          "English",
          "English",
          "Spanish, Castilian",
          "English",
          "English",
          "English",
          "English",
          "Spanish, Castilian",
          "English",
          "English",
          "English",
          "Spanish, Castilian",
          "English",
          "Spanish, Castilian",
          "English",
          "English",
          "English",
          "English",
          "English",
          "Spanish, Castilian",
          "Spanish, Castilian",
          "Spanish, Castilian",
          "English",
          "English",
          "English",
          "English",
          null,
          "English",
          "Spanish, Castilian",
          "Spanish, Castilian",
          null,
          "English",
          "English",
          "English",
          "English",
          "English",
          "English",
          "English",
          "English",
          "English",
          "English",
          "Spanish, Castilian",
          "Spanish, Castilian",
          "English",
          "English",
          "Spanish, Castilian",
          "English",
          "English",
          "English",
          "English",
          "English",
          null,
          "English",
          null,
          "English",
          "English",
          "English",
          "English",
          "English",
          "English",
          "English",
          "English",
          "Spanish, Castilian",
          "English",
          "Spanish, Castilian",
          "English",
          "Spanish, Castilian",
          "Spanish, Castilian",
          "Spanish, Castilian",
          "Spanish, Castilian",
          "Spanish, Castilian",
          "Spanish, Castilian",
          "English",
          "Spanish, Castilian",
          "Spanish, Castilian",
          "English",
          "English",
          "English",
          "English",
          "English",
          "English",
          "English",
          "English",
          null,
          null,
          null,
          "Spanish, Castilian",
          "English",
          "Turkish",
          "Spanish, Castilian",
          "Spanish, Castilian",
          "Spanish, Castilian",
          "Spanish, Castilian",
          "English",
          "English",
          "Spanish, Castilian",
          "Spanish, Castilian",
          "English",
          "English",
          "English",
          "English",
          "English",
          "English",
          "English",
          "English",
          "French",
          null,
          "English",
          "English",
          null,
          "English",
          null,
          "Spanish, Castilian",
          "English",
          null,
          "English",
          "Spanish, Castilian",
          "English",
          "Spanish, Castilian",
          "English",
          "English",
          "English",
          "English",
          "English",
          "English",
          "Spanish, Castilian",
          "English",
          "Polish",
          "English",
          "English",
          "English",
          "English",
          "English",
          "English",
          "English",
          "English",
          "English",
          "English",
          "English",
          "English",
          "Spanish, Castilian",
          "English",
          "English",
          "English",
          "Spanish, Castilian",
          "Spanish, Castilian",
          "English",
          "English",
          "Spanish, Castilian",
          "English",
          "English",
          "English",
          null,
          "Spanish, Castilian",
          null,
          "English",
          "English",
          "English",
          "English",
          "English",
          "English",
          "English",
          "English",
          "English",
          "Spanish, Castilian",
          "English",
          "English",
          "English",
          "English",
          "Spanish, Castilian",
          "Spanish, Castilian",
          "Spanish, Castilian",
          null,
          "Spanish, Castilian",
          "Spanish, Castilian",
          "English",
          "English",
          "English",
          "Spanish, Castilian",
          "English",
          "English",
          "English",
          "English",
          "English",
          "English",
          "English",
          "English",
          "English",
          "English",
          "English",
          "English",
          "Spanish, Castilian",
          null,
          null,
          "English",
          null,
          "English",
          "English",
          "English",
          "English",
          "English",
          "English",
          "Spanish, Castilian",
          "English",
          "English",
          "English",
          "Spanish, Castilian",
          null,
          "Spanish, Castilian",
          "Spanish, Castilian",
          "Spanish, Castilian",
          "English",
          "Spanish, Castilian",
          "Spanish, Castilian",
          "Spanish, Castilian",
          "English",
          "English",
          "English",
          "English",
          "Spanish, Castilian",
          "English",
          "English",
          "Spanish, Castilian",
          "Spanish, Castilian",
          "English",
          "English",
          "English",
          "Spanish, Castilian",
          "English",
          "English",
          "English",
          "Spanish, Castilian",
          "Spanish, Castilian",
          "Spanish, Castilian",
          "English",
          "English",
          "Spanish, Castilian",
          "English",
          "Spanish, Castilian",
          "English",
          "English",
          "English",
          "English",
          "English",
          "English",
          "English",
          "Spanish, Castilian",
          "Spanish, Castilian",
          "Spanish, Castilian",
          "Spanish, Castilian",
          "Spanish, Castilian",
          "Portuguese",
          "English",
          "Italian",
          "English",
          "English",
          "English",
          "English",
          "English",
          "English",
          "English",
          "English",
          "English",
          "English",
          "English",
          "English",
          "English",
          "English",
          "English",
          "English",
          "Spanish, Castilian",
          "English",
          "English",
          "Spanish, Castilian",
          "Spanish, Castilian",
          "English",
          "English",
          "English",
          "English",
          "English",
          "English",
          "Spanish, Castilian",
          "English",
          "Spanish, Castilian",
          "English",
          "English",
          "Spanish, Castilian",
          "Spanish, Castilian",
          "Spanish, Castilian",
          "Spanish, Castilian",
          "Spanish, Castilian",
          "English",
          "Swahili",
          "English",
          "English",
          "English",
          "English",
          "English",
          "English",
          "English",
          "English",
          "Spanish, Castilian",
          "English",
          "English",
          "Spanish, Castilian",
          "Spanish, Castilian",
          "English",
          "English",
          "English",
          "English",
          "English",
          "Spanish, Castilian",
          "English",
          "English",
          "English",
          "English",
          "English",
          "English",
          "English",
          "English",
          "English",
          "English",
          "English",
          "English",
          "English",
          "English",
          "English",
          "English",
          "English",
          "English",
          "English",
          "English",
          "English",
          "English",
          "English",
          "English",
          "Spanish, Castilian",
          "English",
          "English",
          "English",
          "English",
          "Spanish, Castilian",
          "Spanish, Castilian",
          "English",
          "English",
          "English",
          "Spanish, Castilian",
          "Spanish, Castilian",
          "Spanish, Castilian",
          "English",
          "English",
          "English",
          "English",
          "Spanish, Castilian",
          "English",
          "English",
          "English",
          "English",
          "English",
          "English",
          "English",
          "English",
          "English",
          "English",
          "Spanish, Castilian",
          "English",
          "English",
          "English",
          "Spanish, Castilian",
          "Spanish, Castilian",
          "English",
          "English",
          "English",
          "English",
          "Spanish, Castilian",
          "Spanish, Castilian",
          "English",
          "English",
          "English",
          "English",
          "English",
          "English",
          "English",
          "English",
          "English",
          "English",
          "English",
          "English",
          "English",
          "English",
          "English",
          "Spanish, Castilian",
          "Spanish, Castilian",
          "Spanish, Castilian",
          "Spanish, Castilian",
          "Spanish, Castilian",
          "Spanish, Castilian",
          "Spanish, Castilian",
          "Spanish, Castilian",
          "Spanish, Castilian",
          "English",
          "English",
          "English",
          "English",
          "English",
          "English",
          "English",
          "English",
          "English",
          "English",
          "German",
          "English",
          "English",
          "English",
          "English",
          "English",
          "English",
          "English",
          "English",
          "English",
          "English",
          "Spanish, Castilian",
          "English",
          "English",
          "English",
          "Spanish, Castilian",
          null,
          null,
          null,
          null,
          null,
          null,
          "Spanish, Castilian",
          "English",
          "English",
          null,
          null,
          null,
          null,
          null,
          "Spanish, Castilian",
          "Spanish, Castilian",
          "Spanish, Castilian",
          "English",
          "English",
          "Spanish, Castilian",
          "English",
          "English",
          "English",
          "Spanish, Castilian",
          "Spanish, Castilian",
          "Spanish, Castilian",
          "Spanish, Castilian",
          "Spanish, Castilian",
          "Spanish, Castilian",
          "English",
          "English",
          "English",
          "English",
          null,
          "English",
          "Spanish, Castilian",
          "Spanish, Castilian",
          "English",
          "English",
          "English",
          "Spanish, Castilian",
          "Spanish, Castilian",
          "English",
          "English",
          "English",
          "English",
          "English",
          "English",
          "English",
          "English",
          "English",
          "English",
          "English",
          "English",
          "English",
          "English",
          "English",
          "English",
          "English",
          "English",
          "English",
          "English",
          "English",
          "English",
          "English",
          "English",
          "English",
          "English",
          "English",
          "English",
          "English",
          "English",
          "Spanish, Castilian",
          "English",
          "Spanish, Castilian",
          "Spanish, Castilian",
          "English",
          "English",
          "English",
          "Spanish, Castilian",
          "Spanish, Castilian",
          "Spanish, Castilian",
          "Spanish, Castilian",
          "Spanish, Castilian",
          "Spanish, Castilian",
          "Spanish, Castilian",
          "English",
          "English",
          "English",
          "Spanish, Castilian",
          "Spanish, Castilian",
          "Spanish, Castilian",
          "Spanish, Castilian",
          "English",
          "English",
          "English",
          "English",
          "English",
          "English",
          "Spanish, Castilian",
          "Spanish, Castilian",
          "English",
          "English",
          "English",
          "Spanish, Castilian",
          "English",
          "English",
          "English",
          "English",
          "English",
          "English",
          "English",
          "English",
          "English",
          "English",
          "English",
          "English",
          "English",
          "English",
          "English",
          "English",
          "English",
          "English",
          "English",
          "English",
          "Spanish, Castilian",
          "English",
          "English",
          "English",
          "English",
          "Spanish, Castilian",
          "English",
          "English",
          "English",
          "Spanish, Castilian",
          null,
          "English",
          "English",
          "English",
          "Spanish, Castilian",
          "English",
          "English",
          "English",
          "English",
          "English",
          "English",
          "English",
          "English",
          "English",
          "English",
          "English",
          "English",
          "English",
          "English",
          "English",
          "English",
          "English",
          "English",
          "English",
          "English",
          "English",
          "English",
          "English",
          "English",
          "English",
          "English",
          "English",
          "English",
          "English",
          "English",
          "English",
          "English",
          "English",
          "English",
          "English",
          "English",
          "English",
          "English",
          "English",
          "English",
          "English",
          "English",
          "English",
          "English",
          "Spanish, Castilian",
          "English",
          "English",
          "English",
          "English",
          "English",
          "English",
          "English",
          "English",
          "English",
          "English",
          "English",
          "Spanish, Castilian",
          "Spanish, Castilian",
          "Spanish, Castilian",
          "Spanish, Castilian",
          "Spanish, Castilian",
          "English",
          "Spanish, Castilian",
          "Spanish, Castilian",
          "English",
          "Spanish, Castilian",
          "English",
          "English",
          "Spanish, Castilian",
          "Spanish, Castilian",
          "Spanish, Castilian",
          "Spanish, Castilian",
          "Spanish, Castilian",
          "Spanish, Castilian",
          "Spanish, Castilian",
          "Spanish, Castilian",
          "Spanish, Castilian",
          "Spanish, Castilian",
          "Spanish, Castilian",
          "Spanish, Castilian",
          "Spanish, Castilian",
          "Spanish, Castilian",
          "Spanish, Castilian",
          "Spanish, Castilian",
          "Spanish, Castilian",
          "Spanish, Castilian",
          "Spanish, Castilian",
          "Spanish, Castilian",
          "Spanish, Castilian",
          "Spanish, Castilian",
          "Spanish, Castilian",
          "English",
          "English",
          "English",
          "English",
          "English",
          "English",
          "English",
          "English",
          "English",
          "English",
          "English",
          "English",
          "English",
          "English",
          "English",
          "Spanish, Castilian",
          "Spanish, Castilian",
          "Spanish, Castilian",
          "Spanish, Castilian",
          "Spanish, Castilian",
          "English",
          "Spanish, Castilian",
          "Spanish, Castilian",
          "Spanish, Castilian",
          "Spanish, Castilian",
          "Spanish, Castilian",
          "Spanish, Castilian",
          "Spanish, Castilian",
          "Spanish, Castilian",
          "Spanish, Castilian",
          "Spanish, Castilian",
          null,
          "Spanish, Castilian",
          "Spanish, Castilian",
          "Spanish, Castilian",
          "Spanish, Castilian",
          "Spanish, Castilian",
          null,
          "Spanish, Castilian",
          "Spanish, Castilian",
          "Spanish, Castilian",
          "Spanish, Castilian",
          "Spanish, Castilian",
          "Spanish, Castilian",
          "Spanish, Castilian",
          "Spanish, Castilian",
          null,
          "Spanish, Castilian",
          "Spanish, Castilian",
          "Spanish, Castilian",
          null,
          null,
          "Spanish, Castilian",
          "Spanish, Castilian",
          "Spanish, Castilian",
          "Spanish, Castilian",
          "English",
          "Spanish, Castilian",
          "Spanish, Castilian",
          null,
          null,
          "Spanish, Castilian",
          "Spanish, Castilian",
          "Spanish, Castilian",
          "English",
          "English",
          null,
          null,
          "English",
          "English",
          "English",
          "English",
          "English",
          "English",
          "English",
          "English",
          "English",
          "English",
          "English",
          "Spanish, Castilian",
          "Spanish, Castilian",
          "Spanish, Castilian",
          "English",
          "English",
          "English",
          "English",
          "English",
          "English",
          "Spanish, Castilian",
          "English",
          "English",
          "English",
          "Spanish, Castilian",
          "Spanish, Castilian",
          "Spanish, Castilian",
          "English",
          "English",
          null,
          "English",
          "English",
          "Spanish, Castilian",
          "Spanish, Castilian",
          "English",
          "English",
          "English",
          "English",
          "English",
          "English",
          "Spanish, Castilian",
          "English",
          "English",
          "English",
          "English",
          "English",
          "English",
          "English",
          "English",
          "English",
          "English",
          "English",
          "English",
          "English",
          "English",
          "English",
          "English",
          "English",
          "English",
          "English",
          "English",
          "English",
          "Spanish, Castilian",
          "Spanish, Castilian",
          "Spanish, Castilian",
          "English",
          "Spanish, Castilian",
          "English",
          "Spanish, Castilian",
          "English",
          "Spanish, Castilian",
          "English",
          "Spanish, Castilian",
          "Spanish, Castilian",
          "Spanish, Castilian",
          "Spanish, Castilian",
          "English",
          "Spanish, Castilian",
          "Spanish, Castilian",
          "English",
          null,
          "English",
          "English",
          "English",
          "Spanish, Castilian",
          "English",
          "English",
          "English",
          "English",
          "English",
          "English",
          "Spanish, Castilian",
          "Spanish, Castilian",
          "Spanish, Castilian",
          "Spanish, Castilian",
          "Spanish, Castilian",
          "Spanish, Castilian",
          "Spanish, Castilian",
          "English",
          "Spanish, Castilian",
          "Spanish, Castilian",
          "Spanish, Castilian",
          "Spanish, Castilian",
          "Spanish, Castilian",
          "English",
          "English",
          "English",
          "English",
          "English",
          "English",
          "English",
          "English",
          "English",
          "English",
          "English",
          "English",
          "English",
          "English",
          "English",
          "English",
          "English",
          "English",
          "English",
          "English",
          "English",
          "English",
          "English",
          "Welsh",
          "English",
          "English",
          "English",
          "Spanish, Castilian",
          "English",
          "English",
          "English",
          "English",
          "English",
          "English",
          "English",
          "English",
          "English",
          "English",
          "Spanish, Castilian",
          "Spanish, Castilian",
          "Spanish, Castilian",
          "Spanish, Castilian",
          "Spanish, Castilian",
          "English",
          "English",
          "Spanish, Castilian",
          "English",
          "English",
          "Spanish, Castilian",
          "English",
          "English",
          "English",
          "English",
          "English",
          "Spanish, Castilian",
          "English",
          "English",
          "English",
          "English",
          "English",
          "English",
          "Spanish, Castilian",
          "Spanish, Castilian",
          "Spanish, Castilian",
          "Spanish, Castilian",
          "English",
          "English",
          "English",
          "English",
          "English",
          "English",
          "Spanish, Castilian",
          "English",
          "English",
          "English",
          "English",
          "English",
          "English",
          "English",
          "English",
          "English",
          "Spanish, Castilian",
          "English",
          "English",
          "English",
          "English",
          "English",
          "English",
          "English",
          "English",
          "English",
          "English",
          "English",
          "Spanish, Castilian",
          "English",
          "English",
          "English",
          "English",
          "English",
          "English",
          "English",
          null,
          "English",
          "Spanish, Castilian",
          "Spanish, Castilian",
          "Spanish, Castilian",
          "Spanish, Castilian",
          "Spanish, Castilian",
          "Spanish, Castilian",
          "Spanish, Castilian",
          "Spanish, Castilian",
          "Spanish, Castilian",
          "Spanish, Castilian",
          "English",
          "English",
          "English",
          "English",
          "English",
          "English",
          "Spanish, Castilian",
          "English",
          "English",
          "English",
          "English",
          "English",
          "English",
          "Spanish, Castilian",
          "English",
          "English",
          "English",
          "English",
          "English",
          "English",
          "English",
          "English",
          "English",
          "Spanish, Castilian",
          "Spanish, Castilian",
          "English",
          null,
          "English",
          "English",
          "English",
          "English",
          "English",
          "English",
          "Spanish, Castilian",
          "Spanish, Castilian",
          "English",
          "English",
          "English",
          "English",
          null,
          "English",
          null,
          "English",
          null,
          "English",
          "English",
          "English",
          "English",
          "English",
          "English",
          "English",
          "English",
          "English",
          "English",
          "English",
          "English",
          "Spanish, Castilian",
          "English",
          "English",
          "English",
          "English",
          "English",
          "English",
          "English",
          "English",
          "English",
          "English",
          "English",
          "English",
          "Spanish, Castilian",
          "English",
          "English",
          "English",
          "English",
          "Spanish, Castilian",
          "English",
          "English",
          "English",
          "Spanish, Castilian",
          "Spanish, Castilian",
          "Spanish, Castilian",
          "English",
          "English",
          "English",
          "English",
          "English",
          "English",
          "English",
          "English",
          "Spanish, Castilian",
          "Spanish, Castilian",
          "Spanish, Castilian",
          "Spanish, Castilian",
          "Spanish, Castilian",
          "Spanish, Castilian",
          "Spanish, Castilian",
          "Spanish, Castilian",
          "Spanish, Castilian",
          "Spanish, Castilian",
          "Spanish, Castilian",
          "English",
          "English",
          "English",
          "English",
          "English",
          "Spanish, Castilian",
          "English",
          "English",
          "English",
          "English",
          "English",
          "English",
          "English",
          "English",
          "English",
          "English",
          "English",
          "English",
          "English",
          "English",
          "English",
          "English",
          "German",
          "English",
          "English",
          "English",
          "English",
          "English",
          null,
          "English",
          "English",
          "English",
          "English",
          "English",
          "English",
          "English",
          "English",
          "English",
          "English",
          "English",
          "English",
          "English",
          null,
          "English",
          "English",
          "English",
          "English",
          "English",
          "English",
          "English",
          "English",
          "English",
          "Spanish, Castilian",
          "English",
          "English",
          "English",
          "English",
          "English",
          "English",
          "English",
          "English",
          null,
          null,
          "English",
          "English",
          "English",
          "Spanish, Castilian",
          "English",
          "English",
          "English",
          "English",
          "English",
          "English",
          "English",
          "English",
          "English",
          "English",
          "Spanish, Castilian",
          "English",
          "English",
          "English",
          "English",
          "English",
          "English",
          "English",
          "English",
          "English",
          "English",
          "English",
          "English",
          "English",
          "English",
          "Spanish, Castilian",
          "Spanish, Castilian",
          "English",
          "English",
          "English",
          "English",
          "English",
          "English",
          "English",
          "English",
          null,
          null,
          "English",
          null,
          null,
          "English",
          "English",
          "English",
          null,
          "English",
          "English",
          "English",
          "English",
          "English",
          "English",
          "English",
          "English",
          "English",
          "Spanish, Castilian",
          "Spanish, Castilian",
          "Spanish, Castilian",
          "Spanish, Castilian",
          "Spanish, Castilian",
          null,
          null,
          "Spanish, Castilian",
          null,
          "Spanish, Castilian",
          "Spanish, Castilian",
          "Spanish, Castilian",
          null,
          null,
          "Spanish, Castilian",
          "Spanish, Castilian",
          "Spanish, Castilian",
          "Spanish, Castilian",
          "Spanish, Castilian",
          "Spanish, Castilian",
          null,
          null,
          "Spanish, Castilian",
          "Spanish, Castilian",
          "English",
          "Spanish, Castilian",
          "Spanish, Castilian",
          "Spanish, Castilian",
          "Spanish, Castilian",
          "Spanish, Castilian",
          "Spanish, Castilian",
          "Spanish, Castilian",
          "Spanish, Castilian",
          "Spanish, Castilian",
          "Spanish, Castilian",
          "Spanish, Castilian",
          "English",
          "Spanish, Castilian",
          null,
          "Spanish, Castilian",
          "Spanish, Castilian",
          "Spanish, Castilian",
          "Spanish, Castilian",
          "English",
          "Spanish, Castilian",
          "Spanish, Castilian",
          "Spanish, Castilian",
          "English",
          "Spanish, Castilian",
          "Spanish, Castilian",
          "Spanish, Castilian",
          "English",
          "English",
          "English",
          "English",
          "English",
          "English",
          "Spanish, Castilian",
          "Spanish, Castilian",
          "English",
          "English",
          "English",
          "English",
          "English",
          "English",
          "English",
          "English",
          "English",
          "English",
          "English",
          "English",
          "English",
          "Spanish, Castilian",
          "Spanish, Castilian",
          "English",
          "English",
          "English",
          "Spanish, Castilian",
          "Spanish, Castilian",
          "Turkish",
          "Spanish, Castilian",
          "Spanish, Castilian",
          "English",
          "Spanish, Castilian",
          "Spanish, Castilian",
          "Spanish, Castilian",
          "Spanish, Castilian",
          "Spanish, Castilian",
          "Spanish, Castilian",
          "Spanish, Castilian",
          "English",
          "Spanish, Castilian",
          "English",
          "English",
          "English",
          "English",
          "English",
          "English",
          "Spanish, Castilian",
          "English",
          "English",
          "English",
          "Spanish, Castilian",
          "Spanish, Castilian",
          "English",
          "English",
          "English",
          "English",
          "English",
          "English",
          "English",
          "English",
          "English",
          "English",
          "English",
          "English",
          "Spanish, Castilian",
          "Spanish, Castilian",
          "English",
          "English",
          "English",
          "English",
          null,
          "English",
          "English",
          "English",
          "English",
          "English",
          "English",
          "English",
          "English",
          null,
          null,
          null,
          null,
          "English",
          "English",
          "English",
          "English",
          "Spanish, Castilian",
          "Spanish, Castilian",
          "English",
          "English",
          "English",
          "English",
          "English",
          "English",
          "English",
          "English",
          "English",
          "English",
          "English",
          "English",
          "English",
          "English",
          "English",
          "English",
          "English",
          "English",
          "English",
          "English",
          "English",
          "English",
          "English",
          "English",
          "English",
          "English",
          "English",
          "English",
          "English",
          "English",
          "English",
          "English",
          "English",
          "English",
          "English",
          "English",
          "English",
          "English",
          "English",
          "English",
          "English",
          "English",
          "English",
          "English",
          "English",
          "English",
          "English",
          "English",
          "English",
          "English",
          "English",
          "Portuguese",
          "Spanish, Castilian",
          "English",
          "English",
          "English",
          "English",
          "English",
          null,
          null,
          "Spanish, Castilian",
          "Spanish, Castilian",
          "Spanish, Castilian",
          "English",
          null,
          "Spanish, Castilian",
          "Spanish, Castilian",
          "Spanish, Castilian",
          "Spanish, Castilian",
          "Spanish, Castilian",
          "Spanish, Castilian",
          "Spanish, Castilian",
          "Spanish, Castilian",
          "English",
          "Spanish, Castilian",
          "English",
          "English",
          "English",
          "English",
          "English",
          "English",
          "English",
          "Spanish, Castilian",
          "Spanish, Castilian",
          "Spanish, Castilian",
          "Spanish, Castilian",
          "Spanish, Castilian",
          "English",
          "English",
          "English",
          "English",
          "English",
          "Spanish, Castilian",
          "English",
          "Spanish, Castilian",
          "English",
          "English",
          "English",
          "Spanish, Castilian",
          "English",
          "English",
          null,
          null,
          "English",
          "English",
          "English",
          "English",
          "English",
          "English",
          "English",
          "English",
          null,
          null,
          null,
          null,
          "English",
          "English",
          "English",
          "English",
          "English",
          "English",
          "English",
          "English",
          "English",
          "English",
          "English",
          "English",
          "English",
          "English",
          "English",
          "English",
          "English",
          "English",
          "English",
          "Spanish, Castilian",
          "Spanish, Castilian",
          "English",
          "English",
          "English",
          "English",
          "English",
          "English",
          "English",
          "English",
          "English",
          "English",
          "English",
          "English",
          "English",
          "English",
          "English",
          "English",
          "English",
          "English",
          "English",
          "English",
          null,
          "Spanish, Castilian",
          "English",
          "English",
          "Spanish, Castilian",
          "English",
          "Spanish, Castilian",
          "Spanish, Castilian",
          "Spanish, Castilian",
          "Spanish, Castilian",
          "Spanish, Castilian",
          "Spanish, Castilian",
          "English",
          "English",
          "English",
          "English",
          "English",
          "English",
          "English",
          "English",
          "English",
          "English",
          "English",
          "English",
          "English",
          "English",
          "English",
          "English",
          "Spanish, Castilian",
          "Spanish, Castilian",
          "English",
          "Spanish, Castilian",
          "English",
          "English",
          "English",
          "English",
          null,
          "Spanish, Castilian",
          "Spanish, Castilian",
          "English",
          "English",
          "Spanish, Castilian",
          "English",
          "English",
          "English",
          "English",
          "English",
          "English",
          "English",
          "English",
          "English",
          "English",
          "English",
          "English",
          "English",
          "English",
          "English",
          "English",
          "English",
          "English",
          "English",
          "English",
          "English",
          "English",
          "English",
          "English",
          "English",
          "English",
          "English",
          "English",
          "English",
          "English",
          "English",
          "English",
          "English",
          "English",
          "English",
          "English",
          "English",
          "English",
          "English",
          "English",
          "English",
          "English",
          "English",
          "English",
          "English",
          "English",
          "English",
          "English",
          "English",
          "English",
          "English",
          "English",
          "English",
          "English",
          "English",
          "English",
          "English",
          "English",
          "English",
          "English",
          "English",
          "English",
          "English",
          "Indonesian",
          "English",
          "English",
          "English",
          "English",
          "English",
          "English",
          "English",
          "English",
          "English",
          "English",
          "English",
          "English",
          "English",
          "English",
          "English",
          "English",
          "English",
          "English",
          "Spanish, Castilian",
          "Spanish, Castilian",
          "English",
          "Portuguese",
          "English",
          "English",
          "English",
          "English",
          "English",
          "English",
          "English",
          "English",
          "English",
          "English",
          "English",
          "English",
          "English",
          "English",
          "English",
          "English",
          "English",
          "English",
          "English",
          "English",
          "English",
          "English",
          "English",
          "English",
          "English",
          "English",
          "English",
          "English",
          "English",
          "English",
          "English",
          "English",
          "English",
          "English",
          "English",
          "English",
          "English",
          "English",
          "English",
          "English",
          "English",
          "English",
          "English",
          "English",
          "English",
          "English",
          "English",
          "English",
          "English",
          "English",
          "English",
          "English",
          "English",
          "English",
          "English",
          "English",
          "English",
          "English",
          "English",
          "English",
          null,
          "Portuguese",
          "English",
          "English",
          "Spanish, Castilian",
          "French",
          null,
          "English",
          "English",
          null,
          "English",
          "English",
          "English",
          "English",
          "English",
          "English",
          "English",
          "English",
          "English",
          "English",
          null,
          null,
          "Spanish, Castilian",
          "English",
          null,
          "English",
          "English",
          "English",
          "Spanish, Castilian",
          "Spanish, Castilian",
          "Spanish, Castilian",
          null,
          null,
          "English",
          "English",
          "English",
          "English",
          "English",
          "English",
          "English",
          "Portuguese",
          "English",
          "English",
          "English",
          "English",
          "English",
          "English",
          "English",
          "English",
          "English",
          "English",
          "English",
          "English",
          "Spanish, Castilian",
          "English",
          null,
          "English",
          "English",
          "English",
          "English",
          "English",
          "English",
          "English",
          "English",
          "English",
          "English",
          "English",
          "English",
          "English",
          "English",
          "English",
          "English",
          "English",
          "English",
          "English",
          "English",
          "English",
          "English",
          "English",
          "English",
          "English",
          "English",
          "English",
          "English",
          "English",
          "English",
          "English",
          "English",
          "English",
          "English",
          "English",
          "English",
          "English",
          "English",
          "English",
          "English",
          "English",
          "English",
          "English",
          "English",
          "English",
          "English",
          "English",
          "English",
          "English",
          "Spanish, Castilian",
          "Spanish, Castilian",
          null,
          "Spanish, Castilian",
          "Spanish, Castilian",
          "Spanish, Castilian",
          "Spanish, Castilian",
          "Spanish, Castilian",
          "Spanish, Castilian",
          "Spanish, Castilian",
          "Spanish, Castilian",
          "Spanish, Castilian",
          "Spanish, Castilian",
          "Spanish, Castilian",
          "Spanish, Castilian",
          "Spanish, Castilian",
          "Spanish, Castilian",
          "Spanish, Castilian",
          "English",
          "English",
          "English",
          null,
          "English",
          null,
          "English",
          "English",
          "English",
          "English",
          "English",
          "English",
          "English",
          "English",
          "English",
          "English",
          "English",
          "English",
          "English",
          "English",
          "English",
          "English",
          "English",
          "English",
          "English",
          "English",
          "English",
          "English",
          "Portuguese",
          "English",
          "English",
          "English",
          "English",
          "English",
          "English",
          "English",
          "English",
          "English",
          "English",
          "English",
          "English",
          "English",
          "English",
          "English",
          "English",
          "English",
          "English",
          "English",
          "English",
          "English",
          "English",
          "English",
          "English",
          "English",
          "English",
          "English",
          "English",
          "English",
          "English",
          "English",
          "English",
          "English",
          "English",
          "English",
          "English",
          "English",
          "English",
          "English",
          "English",
          "English",
          "English",
          "English",
          "English",
          "English",
          "English",
          "English",
          "English",
          "English",
          "English",
          "English",
          "English",
          "English",
          "English",
          "English",
          "English",
          "English",
          "English",
          "English",
          "English",
          "English",
          "English",
          "English",
          "English",
          "English",
          "English",
          "English",
          "English",
          "English",
          "English",
          "English",
          "English",
          "English",
          "English",
          "English",
          "English"
         ],
         "xaxis": "x",
         "yaxis": "y"
        }
       ],
       "layout": {
        "barmode": "relative",
        "legend": {
         "tracegroupgap": 0
        },
        "margin": {
         "t": 60
        },
        "template": {
         "data": {
          "bar": [
           {
            "error_x": {
             "color": "#2a3f5f"
            },
            "error_y": {
             "color": "#2a3f5f"
            },
            "marker": {
             "line": {
              "color": "#E5ECF6",
              "width": 0.5
             },
             "pattern": {
              "fillmode": "overlay",
              "size": 10,
              "solidity": 0.2
             }
            },
            "type": "bar"
           }
          ],
          "barpolar": [
           {
            "marker": {
             "line": {
              "color": "#E5ECF6",
              "width": 0.5
             },
             "pattern": {
              "fillmode": "overlay",
              "size": 10,
              "solidity": 0.2
             }
            },
            "type": "barpolar"
           }
          ],
          "carpet": [
           {
            "aaxis": {
             "endlinecolor": "#2a3f5f",
             "gridcolor": "white",
             "linecolor": "white",
             "minorgridcolor": "white",
             "startlinecolor": "#2a3f5f"
            },
            "baxis": {
             "endlinecolor": "#2a3f5f",
             "gridcolor": "white",
             "linecolor": "white",
             "minorgridcolor": "white",
             "startlinecolor": "#2a3f5f"
            },
            "type": "carpet"
           }
          ],
          "choropleth": [
           {
            "colorbar": {
             "outlinewidth": 0,
             "ticks": ""
            },
            "type": "choropleth"
           }
          ],
          "contour": [
           {
            "colorbar": {
             "outlinewidth": 0,
             "ticks": ""
            },
            "colorscale": [
             [
              0,
              "#0d0887"
             ],
             [
              0.1111111111111111,
              "#46039f"
             ],
             [
              0.2222222222222222,
              "#7201a8"
             ],
             [
              0.3333333333333333,
              "#9c179e"
             ],
             [
              0.4444444444444444,
              "#bd3786"
             ],
             [
              0.5555555555555556,
              "#d8576b"
             ],
             [
              0.6666666666666666,
              "#ed7953"
             ],
             [
              0.7777777777777778,
              "#fb9f3a"
             ],
             [
              0.8888888888888888,
              "#fdca26"
             ],
             [
              1,
              "#f0f921"
             ]
            ],
            "type": "contour"
           }
          ],
          "contourcarpet": [
           {
            "colorbar": {
             "outlinewidth": 0,
             "ticks": ""
            },
            "type": "contourcarpet"
           }
          ],
          "heatmap": [
           {
            "colorbar": {
             "outlinewidth": 0,
             "ticks": ""
            },
            "colorscale": [
             [
              0,
              "#0d0887"
             ],
             [
              0.1111111111111111,
              "#46039f"
             ],
             [
              0.2222222222222222,
              "#7201a8"
             ],
             [
              0.3333333333333333,
              "#9c179e"
             ],
             [
              0.4444444444444444,
              "#bd3786"
             ],
             [
              0.5555555555555556,
              "#d8576b"
             ],
             [
              0.6666666666666666,
              "#ed7953"
             ],
             [
              0.7777777777777778,
              "#fb9f3a"
             ],
             [
              0.8888888888888888,
              "#fdca26"
             ],
             [
              1,
              "#f0f921"
             ]
            ],
            "type": "heatmap"
           }
          ],
          "heatmapgl": [
           {
            "colorbar": {
             "outlinewidth": 0,
             "ticks": ""
            },
            "colorscale": [
             [
              0,
              "#0d0887"
             ],
             [
              0.1111111111111111,
              "#46039f"
             ],
             [
              0.2222222222222222,
              "#7201a8"
             ],
             [
              0.3333333333333333,
              "#9c179e"
             ],
             [
              0.4444444444444444,
              "#bd3786"
             ],
             [
              0.5555555555555556,
              "#d8576b"
             ],
             [
              0.6666666666666666,
              "#ed7953"
             ],
             [
              0.7777777777777778,
              "#fb9f3a"
             ],
             [
              0.8888888888888888,
              "#fdca26"
             ],
             [
              1,
              "#f0f921"
             ]
            ],
            "type": "heatmapgl"
           }
          ],
          "histogram": [
           {
            "marker": {
             "pattern": {
              "fillmode": "overlay",
              "size": 10,
              "solidity": 0.2
             }
            },
            "type": "histogram"
           }
          ],
          "histogram2d": [
           {
            "colorbar": {
             "outlinewidth": 0,
             "ticks": ""
            },
            "colorscale": [
             [
              0,
              "#0d0887"
             ],
             [
              0.1111111111111111,
              "#46039f"
             ],
             [
              0.2222222222222222,
              "#7201a8"
             ],
             [
              0.3333333333333333,
              "#9c179e"
             ],
             [
              0.4444444444444444,
              "#bd3786"
             ],
             [
              0.5555555555555556,
              "#d8576b"
             ],
             [
              0.6666666666666666,
              "#ed7953"
             ],
             [
              0.7777777777777778,
              "#fb9f3a"
             ],
             [
              0.8888888888888888,
              "#fdca26"
             ],
             [
              1,
              "#f0f921"
             ]
            ],
            "type": "histogram2d"
           }
          ],
          "histogram2dcontour": [
           {
            "colorbar": {
             "outlinewidth": 0,
             "ticks": ""
            },
            "colorscale": [
             [
              0,
              "#0d0887"
             ],
             [
              0.1111111111111111,
              "#46039f"
             ],
             [
              0.2222222222222222,
              "#7201a8"
             ],
             [
              0.3333333333333333,
              "#9c179e"
             ],
             [
              0.4444444444444444,
              "#bd3786"
             ],
             [
              0.5555555555555556,
              "#d8576b"
             ],
             [
              0.6666666666666666,
              "#ed7953"
             ],
             [
              0.7777777777777778,
              "#fb9f3a"
             ],
             [
              0.8888888888888888,
              "#fdca26"
             ],
             [
              1,
              "#f0f921"
             ]
            ],
            "type": "histogram2dcontour"
           }
          ],
          "mesh3d": [
           {
            "colorbar": {
             "outlinewidth": 0,
             "ticks": ""
            },
            "type": "mesh3d"
           }
          ],
          "parcoords": [
           {
            "line": {
             "colorbar": {
              "outlinewidth": 0,
              "ticks": ""
             }
            },
            "type": "parcoords"
           }
          ],
          "pie": [
           {
            "automargin": true,
            "type": "pie"
           }
          ],
          "scatter": [
           {
            "fillpattern": {
             "fillmode": "overlay",
             "size": 10,
             "solidity": 0.2
            },
            "type": "scatter"
           }
          ],
          "scatter3d": [
           {
            "line": {
             "colorbar": {
              "outlinewidth": 0,
              "ticks": ""
             }
            },
            "marker": {
             "colorbar": {
              "outlinewidth": 0,
              "ticks": ""
             }
            },
            "type": "scatter3d"
           }
          ],
          "scattercarpet": [
           {
            "marker": {
             "colorbar": {
              "outlinewidth": 0,
              "ticks": ""
             }
            },
            "type": "scattercarpet"
           }
          ],
          "scattergeo": [
           {
            "marker": {
             "colorbar": {
              "outlinewidth": 0,
              "ticks": ""
             }
            },
            "type": "scattergeo"
           }
          ],
          "scattergl": [
           {
            "marker": {
             "colorbar": {
              "outlinewidth": 0,
              "ticks": ""
             }
            },
            "type": "scattergl"
           }
          ],
          "scattermapbox": [
           {
            "marker": {
             "colorbar": {
              "outlinewidth": 0,
              "ticks": ""
             }
            },
            "type": "scattermapbox"
           }
          ],
          "scatterpolar": [
           {
            "marker": {
             "colorbar": {
              "outlinewidth": 0,
              "ticks": ""
             }
            },
            "type": "scatterpolar"
           }
          ],
          "scatterpolargl": [
           {
            "marker": {
             "colorbar": {
              "outlinewidth": 0,
              "ticks": ""
             }
            },
            "type": "scatterpolargl"
           }
          ],
          "scatterternary": [
           {
            "marker": {
             "colorbar": {
              "outlinewidth": 0,
              "ticks": ""
             }
            },
            "type": "scatterternary"
           }
          ],
          "surface": [
           {
            "colorbar": {
             "outlinewidth": 0,
             "ticks": ""
            },
            "colorscale": [
             [
              0,
              "#0d0887"
             ],
             [
              0.1111111111111111,
              "#46039f"
             ],
             [
              0.2222222222222222,
              "#7201a8"
             ],
             [
              0.3333333333333333,
              "#9c179e"
             ],
             [
              0.4444444444444444,
              "#bd3786"
             ],
             [
              0.5555555555555556,
              "#d8576b"
             ],
             [
              0.6666666666666666,
              "#ed7953"
             ],
             [
              0.7777777777777778,
              "#fb9f3a"
             ],
             [
              0.8888888888888888,
              "#fdca26"
             ],
             [
              1,
              "#f0f921"
             ]
            ],
            "type": "surface"
           }
          ],
          "table": [
           {
            "cells": {
             "fill": {
              "color": "#EBF0F8"
             },
             "line": {
              "color": "white"
             }
            },
            "header": {
             "fill": {
              "color": "#C8D4E3"
             },
             "line": {
              "color": "white"
             }
            },
            "type": "table"
           }
          ]
         },
         "layout": {
          "annotationdefaults": {
           "arrowcolor": "#2a3f5f",
           "arrowhead": 0,
           "arrowwidth": 1
          },
          "autotypenumbers": "strict",
          "coloraxis": {
           "colorbar": {
            "outlinewidth": 0,
            "ticks": ""
           }
          },
          "colorscale": {
           "diverging": [
            [
             0,
             "#8e0152"
            ],
            [
             0.1,
             "#c51b7d"
            ],
            [
             0.2,
             "#de77ae"
            ],
            [
             0.3,
             "#f1b6da"
            ],
            [
             0.4,
             "#fde0ef"
            ],
            [
             0.5,
             "#f7f7f7"
            ],
            [
             0.6,
             "#e6f5d0"
            ],
            [
             0.7,
             "#b8e186"
            ],
            [
             0.8,
             "#7fbc41"
            ],
            [
             0.9,
             "#4d9221"
            ],
            [
             1,
             "#276419"
            ]
           ],
           "sequential": [
            [
             0,
             "#0d0887"
            ],
            [
             0.1111111111111111,
             "#46039f"
            ],
            [
             0.2222222222222222,
             "#7201a8"
            ],
            [
             0.3333333333333333,
             "#9c179e"
            ],
            [
             0.4444444444444444,
             "#bd3786"
            ],
            [
             0.5555555555555556,
             "#d8576b"
            ],
            [
             0.6666666666666666,
             "#ed7953"
            ],
            [
             0.7777777777777778,
             "#fb9f3a"
            ],
            [
             0.8888888888888888,
             "#fdca26"
            ],
            [
             1,
             "#f0f921"
            ]
           ],
           "sequentialminus": [
            [
             0,
             "#0d0887"
            ],
            [
             0.1111111111111111,
             "#46039f"
            ],
            [
             0.2222222222222222,
             "#7201a8"
            ],
            [
             0.3333333333333333,
             "#9c179e"
            ],
            [
             0.4444444444444444,
             "#bd3786"
            ],
            [
             0.5555555555555556,
             "#d8576b"
            ],
            [
             0.6666666666666666,
             "#ed7953"
            ],
            [
             0.7777777777777778,
             "#fb9f3a"
            ],
            [
             0.8888888888888888,
             "#fdca26"
            ],
            [
             1,
             "#f0f921"
            ]
           ]
          },
          "colorway": [
           "#636efa",
           "#EF553B",
           "#00cc96",
           "#ab63fa",
           "#FFA15A",
           "#19d3f3",
           "#FF6692",
           "#B6E880",
           "#FF97FF",
           "#FECB52"
          ],
          "font": {
           "color": "#2a3f5f"
          },
          "geo": {
           "bgcolor": "white",
           "lakecolor": "white",
           "landcolor": "#E5ECF6",
           "showlakes": true,
           "showland": true,
           "subunitcolor": "white"
          },
          "hoverlabel": {
           "align": "left"
          },
          "hovermode": "closest",
          "mapbox": {
           "style": "light"
          },
          "paper_bgcolor": "white",
          "plot_bgcolor": "#E5ECF6",
          "polar": {
           "angularaxis": {
            "gridcolor": "white",
            "linecolor": "white",
            "ticks": ""
           },
           "bgcolor": "#E5ECF6",
           "radialaxis": {
            "gridcolor": "white",
            "linecolor": "white",
            "ticks": ""
           }
          },
          "scene": {
           "xaxis": {
            "backgroundcolor": "#E5ECF6",
            "gridcolor": "white",
            "gridwidth": 2,
            "linecolor": "white",
            "showbackground": true,
            "ticks": "",
            "zerolinecolor": "white"
           },
           "yaxis": {
            "backgroundcolor": "#E5ECF6",
            "gridcolor": "white",
            "gridwidth": 2,
            "linecolor": "white",
            "showbackground": true,
            "ticks": "",
            "zerolinecolor": "white"
           },
           "zaxis": {
            "backgroundcolor": "#E5ECF6",
            "gridcolor": "white",
            "gridwidth": 2,
            "linecolor": "white",
            "showbackground": true,
            "ticks": "",
            "zerolinecolor": "white"
           }
          },
          "shapedefaults": {
           "line": {
            "color": "#2a3f5f"
           }
          },
          "ternary": {
           "aaxis": {
            "gridcolor": "white",
            "linecolor": "white",
            "ticks": ""
           },
           "baxis": {
            "gridcolor": "white",
            "linecolor": "white",
            "ticks": ""
           },
           "bgcolor": "#E5ECF6",
           "caxis": {
            "gridcolor": "white",
            "linecolor": "white",
            "ticks": ""
           }
          },
          "title": {
           "x": 0.05
          },
          "xaxis": {
           "automargin": true,
           "gridcolor": "white",
           "linecolor": "white",
           "ticks": "",
           "title": {
            "standoff": 15
           },
           "zerolinecolor": "white",
           "zerolinewidth": 2
          },
          "yaxis": {
           "automargin": true,
           "gridcolor": "white",
           "linecolor": "white",
           "ticks": "",
           "title": {
            "standoff": 15
           },
           "zerolinecolor": "white",
           "zerolinewidth": 2
          }
         }
        },
        "xaxis": {
         "anchor": "y",
         "domain": [
          0,
          1
         ],
         "title": {
          "text": "language_name"
         }
        },
        "yaxis": {
         "anchor": "x",
         "domain": [
          0,
          1
         ],
         "title": {
          "text": "count"
         }
        }
       }
      },
      "text/html": [
       "<div>                            <div id=\"4bdc7cd2-b7c7-4c35-8c30-00b8cece7b87\" class=\"plotly-graph-div\" style=\"height:525px; width:100%;\"></div>            <script type=\"text/javascript\">                require([\"plotly\"], function(Plotly) {                    window.PLOTLYENV=window.PLOTLYENV || {};                                    if (document.getElementById(\"4bdc7cd2-b7c7-4c35-8c30-00b8cece7b87\")) {                    Plotly.newPlot(                        \"4bdc7cd2-b7c7-4c35-8c30-00b8cece7b87\",                        [{\"alignmentgroup\":\"True\",\"bingroup\":\"x\",\"hovertemplate\":\"language_name=%{x}<br>count=%{y}<extra></extra>\",\"legendgroup\":\"\",\"marker\":{\"color\":\"#636efa\",\"pattern\":{\"shape\":\"\"}},\"name\":\"\",\"offsetgroup\":\"\",\"orientation\":\"v\",\"showlegend\":false,\"texttemplate\":\"%{value}\",\"x\":[\"English\",\"Spanish, Castilian\",\"English\",\"English\",\"English\",\"English\",\"English\",null,\"English\",\"English\",\"English\",\"English\",\"English\",\"English\",\"English\",\"English\",\"English\",\"English\",\"English\",\"English\",\"English\",\"English\",\"English\",\"English\",\"English\",\"English\",\"English\",\"English\",\"English\",\"English\",\"English\",\"English\",\"English\",\"English\",\"English\",null,\"English\",\"English\",\"Spanish, Castilian\",\"English\",\"English\",\"Spanish, Castilian\",\"Spanish, Castilian\",\"English\",\"Portuguese\",\"English\",null,\"English\",\"English\",\"English\",\"English\",\"English\",\"English\",\"English\",\"English\",null,\"English\",\"English\",\"English\",\"English\",\"English\",\"English\",\"English\",\"English\",\"English\",null,\"English\",\"Portuguese\",\"Russian\",null,null,\"English\",\"English\",null,\"English\",\"English\",\"English\",\"English\",\"English\",\"English\",\"Spanish, Castilian\",\"English\",\"English\",\"English\",\"English\",\"Spanish, Castilian\",\"English\",\"English\",\"English\",\"English\",\"English\",\"English\",null,\"English\",\"Spanish, Castilian\",\"Portuguese\",\"English\",\"English\",\"English\",null,\"English\",\"Spanish, Castilian\",\"English\",\"English\",\"English\",\"Spanish, Castilian\",\"English\",\"English\",\"English\",\"Spanish, Castilian\",\"Spanish, Castilian\",\"English\",\"English\",\"English\",\"English\",\"English\",\"English\",\"English\",\"English\",\"English\",\"English\",\"Spanish, Castilian\",\"English\",\"English\",\"English\",\"English\",\"English\",\"English\",\"English\",\"English\",\"English\",\"English\",null,\"English\",\"English\",\"Spanish, Castilian\",\"Spanish, Castilian\",\"Spanish, Castilian\",\"English\",\"English\",\"Spanish, Castilian\",\"English\",\"English\",\"English\",\"English\",\"Spanish, Castilian\",\"English\",\"English\",\"English\",\"Spanish, Castilian\",\"English\",\"Spanish, Castilian\",\"English\",\"English\",\"English\",\"English\",\"English\",\"Spanish, Castilian\",\"Spanish, Castilian\",\"Spanish, Castilian\",\"English\",\"English\",\"English\",\"English\",null,\"English\",\"Spanish, Castilian\",\"Spanish, Castilian\",null,\"English\",\"English\",\"English\",\"English\",\"English\",\"English\",\"English\",\"English\",\"English\",\"English\",\"Spanish, Castilian\",\"Spanish, Castilian\",\"English\",\"English\",\"Spanish, Castilian\",\"English\",\"English\",\"English\",\"English\",\"English\",null,\"English\",null,\"English\",\"English\",\"English\",\"English\",\"English\",\"English\",\"English\",\"English\",\"Spanish, Castilian\",\"English\",\"Spanish, Castilian\",\"English\",\"Spanish, Castilian\",\"Spanish, Castilian\",\"Spanish, Castilian\",\"Spanish, Castilian\",\"Spanish, Castilian\",\"Spanish, Castilian\",\"English\",\"Spanish, Castilian\",\"Spanish, Castilian\",\"English\",\"English\",\"English\",\"English\",\"English\",\"English\",\"English\",\"English\",null,null,null,\"Spanish, Castilian\",\"English\",\"Turkish\",\"Spanish, Castilian\",\"Spanish, Castilian\",\"Spanish, Castilian\",\"Spanish, Castilian\",\"English\",\"English\",\"Spanish, Castilian\",\"Spanish, Castilian\",\"English\",\"English\",\"English\",\"English\",\"English\",\"English\",\"English\",\"English\",\"French\",null,\"English\",\"English\",null,\"English\",null,\"Spanish, Castilian\",\"English\",null,\"English\",\"Spanish, Castilian\",\"English\",\"Spanish, Castilian\",\"English\",\"English\",\"English\",\"English\",\"English\",\"English\",\"Spanish, Castilian\",\"English\",\"Polish\",\"English\",\"English\",\"English\",\"English\",\"English\",\"English\",\"English\",\"English\",\"English\",\"English\",\"English\",\"English\",\"Spanish, Castilian\",\"English\",\"English\",\"English\",\"Spanish, Castilian\",\"Spanish, Castilian\",\"English\",\"English\",\"Spanish, Castilian\",\"English\",\"English\",\"English\",null,\"Spanish, Castilian\",null,\"English\",\"English\",\"English\",\"English\",\"English\",\"English\",\"English\",\"English\",\"English\",\"Spanish, Castilian\",\"English\",\"English\",\"English\",\"English\",\"Spanish, Castilian\",\"Spanish, Castilian\",\"Spanish, Castilian\",null,\"Spanish, Castilian\",\"Spanish, Castilian\",\"English\",\"English\",\"English\",\"Spanish, Castilian\",\"English\",\"English\",\"English\",\"English\",\"English\",\"English\",\"English\",\"English\",\"English\",\"English\",\"English\",\"English\",\"Spanish, Castilian\",null,null,\"English\",null,\"English\",\"English\",\"English\",\"English\",\"English\",\"English\",\"Spanish, Castilian\",\"English\",\"English\",\"English\",\"Spanish, Castilian\",null,\"Spanish, Castilian\",\"Spanish, Castilian\",\"Spanish, Castilian\",\"English\",\"Spanish, Castilian\",\"Spanish, Castilian\",\"Spanish, Castilian\",\"English\",\"English\",\"English\",\"English\",\"Spanish, Castilian\",\"English\",\"English\",\"Spanish, Castilian\",\"Spanish, Castilian\",\"English\",\"English\",\"English\",\"Spanish, Castilian\",\"English\",\"English\",\"English\",\"Spanish, Castilian\",\"Spanish, Castilian\",\"Spanish, Castilian\",\"English\",\"English\",\"Spanish, Castilian\",\"English\",\"Spanish, Castilian\",\"English\",\"English\",\"English\",\"English\",\"English\",\"English\",\"English\",\"Spanish, Castilian\",\"Spanish, Castilian\",\"Spanish, Castilian\",\"Spanish, Castilian\",\"Spanish, Castilian\",\"Portuguese\",\"English\",\"Italian\",\"English\",\"English\",\"English\",\"English\",\"English\",\"English\",\"English\",\"English\",\"English\",\"English\",\"English\",\"English\",\"English\",\"English\",\"English\",\"English\",\"Spanish, Castilian\",\"English\",\"English\",\"Spanish, Castilian\",\"Spanish, Castilian\",\"English\",\"English\",\"English\",\"English\",\"English\",\"English\",\"Spanish, Castilian\",\"English\",\"Spanish, Castilian\",\"English\",\"English\",\"Spanish, Castilian\",\"Spanish, Castilian\",\"Spanish, Castilian\",\"Spanish, Castilian\",\"Spanish, Castilian\",\"English\",\"Swahili\",\"English\",\"English\",\"English\",\"English\",\"English\",\"English\",\"English\",\"English\",\"Spanish, Castilian\",\"English\",\"English\",\"Spanish, Castilian\",\"Spanish, Castilian\",\"English\",\"English\",\"English\",\"English\",\"English\",\"Spanish, Castilian\",\"English\",\"English\",\"English\",\"English\",\"English\",\"English\",\"English\",\"English\",\"English\",\"English\",\"English\",\"English\",\"English\",\"English\",\"English\",\"English\",\"English\",\"English\",\"English\",\"English\",\"English\",\"English\",\"English\",\"English\",\"Spanish, Castilian\",\"English\",\"English\",\"English\",\"English\",\"Spanish, Castilian\",\"Spanish, Castilian\",\"English\",\"English\",\"English\",\"Spanish, Castilian\",\"Spanish, Castilian\",\"Spanish, Castilian\",\"English\",\"English\",\"English\",\"English\",\"Spanish, Castilian\",\"English\",\"English\",\"English\",\"English\",\"English\",\"English\",\"English\",\"English\",\"English\",\"English\",\"Spanish, Castilian\",\"English\",\"English\",\"English\",\"Spanish, Castilian\",\"Spanish, Castilian\",\"English\",\"English\",\"English\",\"English\",\"Spanish, Castilian\",\"Spanish, Castilian\",\"English\",\"English\",\"English\",\"English\",\"English\",\"English\",\"English\",\"English\",\"English\",\"English\",\"English\",\"English\",\"English\",\"English\",\"English\",\"Spanish, Castilian\",\"Spanish, Castilian\",\"Spanish, Castilian\",\"Spanish, Castilian\",\"Spanish, Castilian\",\"Spanish, Castilian\",\"Spanish, Castilian\",\"Spanish, Castilian\",\"Spanish, Castilian\",\"English\",\"English\",\"English\",\"English\",\"English\",\"English\",\"English\",\"English\",\"English\",\"English\",\"German\",\"English\",\"English\",\"English\",\"English\",\"English\",\"English\",\"English\",\"English\",\"English\",\"English\",\"Spanish, Castilian\",\"English\",\"English\",\"English\",\"Spanish, Castilian\",null,null,null,null,null,null,\"Spanish, Castilian\",\"English\",\"English\",null,null,null,null,null,\"Spanish, Castilian\",\"Spanish, Castilian\",\"Spanish, Castilian\",\"English\",\"English\",\"Spanish, Castilian\",\"English\",\"English\",\"English\",\"Spanish, Castilian\",\"Spanish, Castilian\",\"Spanish, Castilian\",\"Spanish, Castilian\",\"Spanish, Castilian\",\"Spanish, Castilian\",\"English\",\"English\",\"English\",\"English\",null,\"English\",\"Spanish, Castilian\",\"Spanish, Castilian\",\"English\",\"English\",\"English\",\"Spanish, Castilian\",\"Spanish, Castilian\",\"English\",\"English\",\"English\",\"English\",\"English\",\"English\",\"English\",\"English\",\"English\",\"English\",\"English\",\"English\",\"English\",\"English\",\"English\",\"English\",\"English\",\"English\",\"English\",\"English\",\"English\",\"English\",\"English\",\"English\",\"English\",\"English\",\"English\",\"English\",\"English\",\"English\",\"Spanish, Castilian\",\"English\",\"Spanish, Castilian\",\"Spanish, Castilian\",\"English\",\"English\",\"English\",\"Spanish, Castilian\",\"Spanish, Castilian\",\"Spanish, Castilian\",\"Spanish, Castilian\",\"Spanish, Castilian\",\"Spanish, Castilian\",\"Spanish, Castilian\",\"English\",\"English\",\"English\",\"Spanish, Castilian\",\"Spanish, Castilian\",\"Spanish, Castilian\",\"Spanish, Castilian\",\"English\",\"English\",\"English\",\"English\",\"English\",\"English\",\"Spanish, Castilian\",\"Spanish, Castilian\",\"English\",\"English\",\"English\",\"Spanish, Castilian\",\"English\",\"English\",\"English\",\"English\",\"English\",\"English\",\"English\",\"English\",\"English\",\"English\",\"English\",\"English\",\"English\",\"English\",\"English\",\"English\",\"English\",\"English\",\"English\",\"English\",\"Spanish, Castilian\",\"English\",\"English\",\"English\",\"English\",\"Spanish, Castilian\",\"English\",\"English\",\"English\",\"Spanish, Castilian\",null,\"English\",\"English\",\"English\",\"Spanish, Castilian\",\"English\",\"English\",\"English\",\"English\",\"English\",\"English\",\"English\",\"English\",\"English\",\"English\",\"English\",\"English\",\"English\",\"English\",\"English\",\"English\",\"English\",\"English\",\"English\",\"English\",\"English\",\"English\",\"English\",\"English\",\"English\",\"English\",\"English\",\"English\",\"English\",\"English\",\"English\",\"English\",\"English\",\"English\",\"English\",\"English\",\"English\",\"English\",\"English\",\"English\",\"English\",\"English\",\"English\",\"English\",\"Spanish, Castilian\",\"English\",\"English\",\"English\",\"English\",\"English\",\"English\",\"English\",\"English\",\"English\",\"English\",\"English\",\"Spanish, Castilian\",\"Spanish, Castilian\",\"Spanish, Castilian\",\"Spanish, Castilian\",\"Spanish, Castilian\",\"English\",\"Spanish, Castilian\",\"Spanish, Castilian\",\"English\",\"Spanish, Castilian\",\"English\",\"English\",\"Spanish, Castilian\",\"Spanish, Castilian\",\"Spanish, Castilian\",\"Spanish, Castilian\",\"Spanish, Castilian\",\"Spanish, Castilian\",\"Spanish, Castilian\",\"Spanish, Castilian\",\"Spanish, Castilian\",\"Spanish, Castilian\",\"Spanish, Castilian\",\"Spanish, Castilian\",\"Spanish, Castilian\",\"Spanish, Castilian\",\"Spanish, Castilian\",\"Spanish, Castilian\",\"Spanish, Castilian\",\"Spanish, Castilian\",\"Spanish, Castilian\",\"Spanish, Castilian\",\"Spanish, Castilian\",\"Spanish, Castilian\",\"Spanish, Castilian\",\"English\",\"English\",\"English\",\"English\",\"English\",\"English\",\"English\",\"English\",\"English\",\"English\",\"English\",\"English\",\"English\",\"English\",\"English\",\"Spanish, Castilian\",\"Spanish, Castilian\",\"Spanish, Castilian\",\"Spanish, Castilian\",\"Spanish, Castilian\",\"English\",\"Spanish, Castilian\",\"Spanish, Castilian\",\"Spanish, Castilian\",\"Spanish, Castilian\",\"Spanish, Castilian\",\"Spanish, Castilian\",\"Spanish, Castilian\",\"Spanish, Castilian\",\"Spanish, Castilian\",\"Spanish, Castilian\",null,\"Spanish, Castilian\",\"Spanish, Castilian\",\"Spanish, Castilian\",\"Spanish, Castilian\",\"Spanish, Castilian\",null,\"Spanish, Castilian\",\"Spanish, Castilian\",\"Spanish, Castilian\",\"Spanish, Castilian\",\"Spanish, Castilian\",\"Spanish, Castilian\",\"Spanish, Castilian\",\"Spanish, Castilian\",null,\"Spanish, Castilian\",\"Spanish, Castilian\",\"Spanish, Castilian\",null,null,\"Spanish, Castilian\",\"Spanish, Castilian\",\"Spanish, Castilian\",\"Spanish, Castilian\",\"English\",\"Spanish, Castilian\",\"Spanish, Castilian\",null,null,\"Spanish, Castilian\",\"Spanish, Castilian\",\"Spanish, Castilian\",\"English\",\"English\",null,null,\"English\",\"English\",\"English\",\"English\",\"English\",\"English\",\"English\",\"English\",\"English\",\"English\",\"English\",\"Spanish, Castilian\",\"Spanish, Castilian\",\"Spanish, Castilian\",\"English\",\"English\",\"English\",\"English\",\"English\",\"English\",\"Spanish, Castilian\",\"English\",\"English\",\"English\",\"Spanish, Castilian\",\"Spanish, Castilian\",\"Spanish, Castilian\",\"English\",\"English\",null,\"English\",\"English\",\"Spanish, Castilian\",\"Spanish, Castilian\",\"English\",\"English\",\"English\",\"English\",\"English\",\"English\",\"Spanish, Castilian\",\"English\",\"English\",\"English\",\"English\",\"English\",\"English\",\"English\",\"English\",\"English\",\"English\",\"English\",\"English\",\"English\",\"English\",\"English\",\"English\",\"English\",\"English\",\"English\",\"English\",\"English\",\"Spanish, Castilian\",\"Spanish, Castilian\",\"Spanish, Castilian\",\"English\",\"Spanish, Castilian\",\"English\",\"Spanish, Castilian\",\"English\",\"Spanish, Castilian\",\"English\",\"Spanish, Castilian\",\"Spanish, Castilian\",\"Spanish, Castilian\",\"Spanish, Castilian\",\"English\",\"Spanish, Castilian\",\"Spanish, Castilian\",\"English\",null,\"English\",\"English\",\"English\",\"Spanish, Castilian\",\"English\",\"English\",\"English\",\"English\",\"English\",\"English\",\"Spanish, Castilian\",\"Spanish, Castilian\",\"Spanish, Castilian\",\"Spanish, Castilian\",\"Spanish, Castilian\",\"Spanish, Castilian\",\"Spanish, Castilian\",\"English\",\"Spanish, Castilian\",\"Spanish, Castilian\",\"Spanish, Castilian\",\"Spanish, Castilian\",\"Spanish, Castilian\",\"English\",\"English\",\"English\",\"English\",\"English\",\"English\",\"English\",\"English\",\"English\",\"English\",\"English\",\"English\",\"English\",\"English\",\"English\",\"English\",\"English\",\"English\",\"English\",\"English\",\"English\",\"English\",\"English\",\"Welsh\",\"English\",\"English\",\"English\",\"Spanish, Castilian\",\"English\",\"English\",\"English\",\"English\",\"English\",\"English\",\"English\",\"English\",\"English\",\"English\",\"Spanish, Castilian\",\"Spanish, Castilian\",\"Spanish, Castilian\",\"Spanish, Castilian\",\"Spanish, Castilian\",\"English\",\"English\",\"Spanish, Castilian\",\"English\",\"English\",\"Spanish, Castilian\",\"English\",\"English\",\"English\",\"English\",\"English\",\"Spanish, Castilian\",\"English\",\"English\",\"English\",\"English\",\"English\",\"English\",\"Spanish, Castilian\",\"Spanish, Castilian\",\"Spanish, Castilian\",\"Spanish, Castilian\",\"English\",\"English\",\"English\",\"English\",\"English\",\"English\",\"Spanish, Castilian\",\"English\",\"English\",\"English\",\"English\",\"English\",\"English\",\"English\",\"English\",\"English\",\"Spanish, Castilian\",\"English\",\"English\",\"English\",\"English\",\"English\",\"English\",\"English\",\"English\",\"English\",\"English\",\"English\",\"Spanish, Castilian\",\"English\",\"English\",\"English\",\"English\",\"English\",\"English\",\"English\",null,\"English\",\"Spanish, Castilian\",\"Spanish, Castilian\",\"Spanish, Castilian\",\"Spanish, Castilian\",\"Spanish, Castilian\",\"Spanish, Castilian\",\"Spanish, Castilian\",\"Spanish, Castilian\",\"Spanish, Castilian\",\"Spanish, Castilian\",\"English\",\"English\",\"English\",\"English\",\"English\",\"English\",\"Spanish, Castilian\",\"English\",\"English\",\"English\",\"English\",\"English\",\"English\",\"Spanish, Castilian\",\"English\",\"English\",\"English\",\"English\",\"English\",\"English\",\"English\",\"English\",\"English\",\"Spanish, Castilian\",\"Spanish, Castilian\",\"English\",null,\"English\",\"English\",\"English\",\"English\",\"English\",\"English\",\"Spanish, Castilian\",\"Spanish, Castilian\",\"English\",\"English\",\"English\",\"English\",null,\"English\",null,\"English\",null,\"English\",\"English\",\"English\",\"English\",\"English\",\"English\",\"English\",\"English\",\"English\",\"English\",\"English\",\"English\",\"Spanish, Castilian\",\"English\",\"English\",\"English\",\"English\",\"English\",\"English\",\"English\",\"English\",\"English\",\"English\",\"English\",\"English\",\"Spanish, Castilian\",\"English\",\"English\",\"English\",\"English\",\"Spanish, Castilian\",\"English\",\"English\",\"English\",\"Spanish, Castilian\",\"Spanish, Castilian\",\"Spanish, Castilian\",\"English\",\"English\",\"English\",\"English\",\"English\",\"English\",\"English\",\"English\",\"Spanish, Castilian\",\"Spanish, Castilian\",\"Spanish, Castilian\",\"Spanish, Castilian\",\"Spanish, Castilian\",\"Spanish, Castilian\",\"Spanish, Castilian\",\"Spanish, Castilian\",\"Spanish, Castilian\",\"Spanish, Castilian\",\"Spanish, Castilian\",\"English\",\"English\",\"English\",\"English\",\"English\",\"Spanish, Castilian\",\"English\",\"English\",\"English\",\"English\",\"English\",\"English\",\"English\",\"English\",\"English\",\"English\",\"English\",\"English\",\"English\",\"English\",\"English\",\"English\",\"German\",\"English\",\"English\",\"English\",\"English\",\"English\",null,\"English\",\"English\",\"English\",\"English\",\"English\",\"English\",\"English\",\"English\",\"English\",\"English\",\"English\",\"English\",\"English\",null,\"English\",\"English\",\"English\",\"English\",\"English\",\"English\",\"English\",\"English\",\"English\",\"Spanish, Castilian\",\"English\",\"English\",\"English\",\"English\",\"English\",\"English\",\"English\",\"English\",null,null,\"English\",\"English\",\"English\",\"Spanish, Castilian\",\"English\",\"English\",\"English\",\"English\",\"English\",\"English\",\"English\",\"English\",\"English\",\"English\",\"Spanish, Castilian\",\"English\",\"English\",\"English\",\"English\",\"English\",\"English\",\"English\",\"English\",\"English\",\"English\",\"English\",\"English\",\"English\",\"English\",\"Spanish, Castilian\",\"Spanish, Castilian\",\"English\",\"English\",\"English\",\"English\",\"English\",\"English\",\"English\",\"English\",null,null,\"English\",null,null,\"English\",\"English\",\"English\",null,\"English\",\"English\",\"English\",\"English\",\"English\",\"English\",\"English\",\"English\",\"English\",\"Spanish, Castilian\",\"Spanish, Castilian\",\"Spanish, Castilian\",\"Spanish, Castilian\",\"Spanish, Castilian\",null,null,\"Spanish, Castilian\",null,\"Spanish, Castilian\",\"Spanish, Castilian\",\"Spanish, Castilian\",null,null,\"Spanish, Castilian\",\"Spanish, Castilian\",\"Spanish, Castilian\",\"Spanish, Castilian\",\"Spanish, Castilian\",\"Spanish, Castilian\",null,null,\"Spanish, Castilian\",\"Spanish, Castilian\",\"English\",\"Spanish, Castilian\",\"Spanish, Castilian\",\"Spanish, Castilian\",\"Spanish, Castilian\",\"Spanish, Castilian\",\"Spanish, Castilian\",\"Spanish, Castilian\",\"Spanish, Castilian\",\"Spanish, Castilian\",\"Spanish, Castilian\",\"Spanish, Castilian\",\"English\",\"Spanish, Castilian\",null,\"Spanish, Castilian\",\"Spanish, Castilian\",\"Spanish, Castilian\",\"Spanish, Castilian\",\"English\",\"Spanish, Castilian\",\"Spanish, Castilian\",\"Spanish, Castilian\",\"English\",\"Spanish, Castilian\",\"Spanish, Castilian\",\"Spanish, Castilian\",\"English\",\"English\",\"English\",\"English\",\"English\",\"English\",\"Spanish, Castilian\",\"Spanish, Castilian\",\"English\",\"English\",\"English\",\"English\",\"English\",\"English\",\"English\",\"English\",\"English\",\"English\",\"English\",\"English\",\"English\",\"Spanish, Castilian\",\"Spanish, Castilian\",\"English\",\"English\",\"English\",\"Spanish, Castilian\",\"Spanish, Castilian\",\"Turkish\",\"Spanish, Castilian\",\"Spanish, Castilian\",\"English\",\"Spanish, Castilian\",\"Spanish, Castilian\",\"Spanish, Castilian\",\"Spanish, Castilian\",\"Spanish, Castilian\",\"Spanish, Castilian\",\"Spanish, Castilian\",\"English\",\"Spanish, Castilian\",\"English\",\"English\",\"English\",\"English\",\"English\",\"English\",\"Spanish, Castilian\",\"English\",\"English\",\"English\",\"Spanish, Castilian\",\"Spanish, Castilian\",\"English\",\"English\",\"English\",\"English\",\"English\",\"English\",\"English\",\"English\",\"English\",\"English\",\"English\",\"English\",\"Spanish, Castilian\",\"Spanish, Castilian\",\"English\",\"English\",\"English\",\"English\",null,\"English\",\"English\",\"English\",\"English\",\"English\",\"English\",\"English\",\"English\",null,null,null,null,\"English\",\"English\",\"English\",\"English\",\"Spanish, Castilian\",\"Spanish, Castilian\",\"English\",\"English\",\"English\",\"English\",\"English\",\"English\",\"English\",\"English\",\"English\",\"English\",\"English\",\"English\",\"English\",\"English\",\"English\",\"English\",\"English\",\"English\",\"English\",\"English\",\"English\",\"English\",\"English\",\"English\",\"English\",\"English\",\"English\",\"English\",\"English\",\"English\",\"English\",\"English\",\"English\",\"English\",\"English\",\"English\",\"English\",\"English\",\"English\",\"English\",\"English\",\"English\",\"English\",\"English\",\"English\",\"English\",\"English\",\"English\",\"English\",\"English\",\"English\",\"Portuguese\",\"Spanish, Castilian\",\"English\",\"English\",\"English\",\"English\",\"English\",null,null,\"Spanish, Castilian\",\"Spanish, Castilian\",\"Spanish, Castilian\",\"English\",null,\"Spanish, Castilian\",\"Spanish, Castilian\",\"Spanish, Castilian\",\"Spanish, Castilian\",\"Spanish, Castilian\",\"Spanish, Castilian\",\"Spanish, Castilian\",\"Spanish, Castilian\",\"English\",\"Spanish, Castilian\",\"English\",\"English\",\"English\",\"English\",\"English\",\"English\",\"English\",\"Spanish, Castilian\",\"Spanish, Castilian\",\"Spanish, Castilian\",\"Spanish, Castilian\",\"Spanish, Castilian\",\"English\",\"English\",\"English\",\"English\",\"English\",\"Spanish, Castilian\",\"English\",\"Spanish, Castilian\",\"English\",\"English\",\"English\",\"Spanish, Castilian\",\"English\",\"English\",null,null,\"English\",\"English\",\"English\",\"English\",\"English\",\"English\",\"English\",\"English\",null,null,null,null,\"English\",\"English\",\"English\",\"English\",\"English\",\"English\",\"English\",\"English\",\"English\",\"English\",\"English\",\"English\",\"English\",\"English\",\"English\",\"English\",\"English\",\"English\",\"English\",\"Spanish, Castilian\",\"Spanish, Castilian\",\"English\",\"English\",\"English\",\"English\",\"English\",\"English\",\"English\",\"English\",\"English\",\"English\",\"English\",\"English\",\"English\",\"English\",\"English\",\"English\",\"English\",\"English\",\"English\",\"English\",null,\"Spanish, Castilian\",\"English\",\"English\",\"Spanish, Castilian\",\"English\",\"Spanish, Castilian\",\"Spanish, Castilian\",\"Spanish, Castilian\",\"Spanish, Castilian\",\"Spanish, Castilian\",\"Spanish, Castilian\",\"English\",\"English\",\"English\",\"English\",\"English\",\"English\",\"English\",\"English\",\"English\",\"English\",\"English\",\"English\",\"English\",\"English\",\"English\",\"English\",\"Spanish, Castilian\",\"Spanish, Castilian\",\"English\",\"Spanish, Castilian\",\"English\",\"English\",\"English\",\"English\",null,\"Spanish, Castilian\",\"Spanish, Castilian\",\"English\",\"English\",\"Spanish, Castilian\",\"English\",\"English\",\"English\",\"English\",\"English\",\"English\",\"English\",\"English\",\"English\",\"English\",\"English\",\"English\",\"English\",\"English\",\"English\",\"English\",\"English\",\"English\",\"English\",\"English\",\"English\",\"English\",\"English\",\"English\",\"English\",\"English\",\"English\",\"English\",\"English\",\"English\",\"English\",\"English\",\"English\",\"English\",\"English\",\"English\",\"English\",\"English\",\"English\",\"English\",\"English\",\"English\",\"English\",\"English\",\"English\",\"English\",\"English\",\"English\",\"English\",\"English\",\"English\",\"English\",\"English\",\"English\",\"English\",\"English\",\"English\",\"English\",\"English\",\"English\",\"English\",\"English\",\"English\",\"Indonesian\",\"English\",\"English\",\"English\",\"English\",\"English\",\"English\",\"English\",\"English\",\"English\",\"English\",\"English\",\"English\",\"English\",\"English\",\"English\",\"English\",\"English\",\"English\",\"Spanish, Castilian\",\"Spanish, Castilian\",\"English\",\"Portuguese\",\"English\",\"English\",\"English\",\"English\",\"English\",\"English\",\"English\",\"English\",\"English\",\"English\",\"English\",\"English\",\"English\",\"English\",\"English\",\"English\",\"English\",\"English\",\"English\",\"English\",\"English\",\"English\",\"English\",\"English\",\"English\",\"English\",\"English\",\"English\",\"English\",\"English\",\"English\",\"English\",\"English\",\"English\",\"English\",\"English\",\"English\",\"English\",\"English\",\"English\",\"English\",\"English\",\"English\",\"English\",\"English\",\"English\",\"English\",\"English\",\"English\",\"English\",\"English\",\"English\",\"English\",\"English\",\"English\",\"English\",\"English\",\"English\",\"English\",\"English\",null,\"Portuguese\",\"English\",\"English\",\"Spanish, Castilian\",\"French\",null,\"English\",\"English\",null,\"English\",\"English\",\"English\",\"English\",\"English\",\"English\",\"English\",\"English\",\"English\",\"English\",null,null,\"Spanish, Castilian\",\"English\",null,\"English\",\"English\",\"English\",\"Spanish, Castilian\",\"Spanish, Castilian\",\"Spanish, Castilian\",null,null,\"English\",\"English\",\"English\",\"English\",\"English\",\"English\",\"English\",\"Portuguese\",\"English\",\"English\",\"English\",\"English\",\"English\",\"English\",\"English\",\"English\",\"English\",\"English\",\"English\",\"English\",\"Spanish, Castilian\",\"English\",null,\"English\",\"English\",\"English\",\"English\",\"English\",\"English\",\"English\",\"English\",\"English\",\"English\",\"English\",\"English\",\"English\",\"English\",\"English\",\"English\",\"English\",\"English\",\"English\",\"English\",\"English\",\"English\",\"English\",\"English\",\"English\",\"English\",\"English\",\"English\",\"English\",\"English\",\"English\",\"English\",\"English\",\"English\",\"English\",\"English\",\"English\",\"English\",\"English\",\"English\",\"English\",\"English\",\"English\",\"English\",\"English\",\"English\",\"English\",\"English\",\"English\",\"Spanish, Castilian\",\"Spanish, Castilian\",null,\"Spanish, Castilian\",\"Spanish, Castilian\",\"Spanish, Castilian\",\"Spanish, Castilian\",\"Spanish, Castilian\",\"Spanish, Castilian\",\"Spanish, Castilian\",\"Spanish, Castilian\",\"Spanish, Castilian\",\"Spanish, Castilian\",\"Spanish, Castilian\",\"Spanish, Castilian\",\"Spanish, Castilian\",\"Spanish, Castilian\",\"Spanish, Castilian\",\"English\",\"English\",\"English\",null,\"English\",null,\"English\",\"English\",\"English\",\"English\",\"English\",\"English\",\"English\",\"English\",\"English\",\"English\",\"English\",\"English\",\"English\",\"English\",\"English\",\"English\",\"English\",\"English\",\"English\",\"English\",\"English\",\"English\",\"Portuguese\",\"English\",\"English\",\"English\",\"English\",\"English\",\"English\",\"English\",\"English\",\"English\",\"English\",\"English\",\"English\",\"English\",\"English\",\"English\",\"English\",\"English\",\"English\",\"English\",\"English\",\"English\",\"English\",\"English\",\"English\",\"English\",\"English\",\"English\",\"English\",\"English\",\"English\",\"English\",\"English\",\"English\",\"English\",\"English\",\"English\",\"English\",\"English\",\"English\",\"English\",\"English\",\"English\",\"English\",\"English\",\"English\",\"English\",\"English\",\"English\",\"English\",\"English\",\"English\",\"English\",\"English\",\"English\",\"English\",\"English\",\"English\",\"English\",\"English\",\"English\",\"English\",\"English\",\"English\",\"English\",\"English\",\"English\",\"English\",\"English\",\"English\",\"English\",\"English\",\"English\",\"English\",\"English\",\"English\",\"English\"],\"xaxis\":\"x\",\"yaxis\":\"y\",\"type\":\"histogram\"}],                        {\"template\":{\"data\":{\"histogram2dcontour\":[{\"type\":\"histogram2dcontour\",\"colorbar\":{\"outlinewidth\":0,\"ticks\":\"\"},\"colorscale\":[[0.0,\"#0d0887\"],[0.1111111111111111,\"#46039f\"],[0.2222222222222222,\"#7201a8\"],[0.3333333333333333,\"#9c179e\"],[0.4444444444444444,\"#bd3786\"],[0.5555555555555556,\"#d8576b\"],[0.6666666666666666,\"#ed7953\"],[0.7777777777777778,\"#fb9f3a\"],[0.8888888888888888,\"#fdca26\"],[1.0,\"#f0f921\"]]}],\"choropleth\":[{\"type\":\"choropleth\",\"colorbar\":{\"outlinewidth\":0,\"ticks\":\"\"}}],\"histogram2d\":[{\"type\":\"histogram2d\",\"colorbar\":{\"outlinewidth\":0,\"ticks\":\"\"},\"colorscale\":[[0.0,\"#0d0887\"],[0.1111111111111111,\"#46039f\"],[0.2222222222222222,\"#7201a8\"],[0.3333333333333333,\"#9c179e\"],[0.4444444444444444,\"#bd3786\"],[0.5555555555555556,\"#d8576b\"],[0.6666666666666666,\"#ed7953\"],[0.7777777777777778,\"#fb9f3a\"],[0.8888888888888888,\"#fdca26\"],[1.0,\"#f0f921\"]]}],\"heatmap\":[{\"type\":\"heatmap\",\"colorbar\":{\"outlinewidth\":0,\"ticks\":\"\"},\"colorscale\":[[0.0,\"#0d0887\"],[0.1111111111111111,\"#46039f\"],[0.2222222222222222,\"#7201a8\"],[0.3333333333333333,\"#9c179e\"],[0.4444444444444444,\"#bd3786\"],[0.5555555555555556,\"#d8576b\"],[0.6666666666666666,\"#ed7953\"],[0.7777777777777778,\"#fb9f3a\"],[0.8888888888888888,\"#fdca26\"],[1.0,\"#f0f921\"]]}],\"heatmapgl\":[{\"type\":\"heatmapgl\",\"colorbar\":{\"outlinewidth\":0,\"ticks\":\"\"},\"colorscale\":[[0.0,\"#0d0887\"],[0.1111111111111111,\"#46039f\"],[0.2222222222222222,\"#7201a8\"],[0.3333333333333333,\"#9c179e\"],[0.4444444444444444,\"#bd3786\"],[0.5555555555555556,\"#d8576b\"],[0.6666666666666666,\"#ed7953\"],[0.7777777777777778,\"#fb9f3a\"],[0.8888888888888888,\"#fdca26\"],[1.0,\"#f0f921\"]]}],\"contourcarpet\":[{\"type\":\"contourcarpet\",\"colorbar\":{\"outlinewidth\":0,\"ticks\":\"\"}}],\"contour\":[{\"type\":\"contour\",\"colorbar\":{\"outlinewidth\":0,\"ticks\":\"\"},\"colorscale\":[[0.0,\"#0d0887\"],[0.1111111111111111,\"#46039f\"],[0.2222222222222222,\"#7201a8\"],[0.3333333333333333,\"#9c179e\"],[0.4444444444444444,\"#bd3786\"],[0.5555555555555556,\"#d8576b\"],[0.6666666666666666,\"#ed7953\"],[0.7777777777777778,\"#fb9f3a\"],[0.8888888888888888,\"#fdca26\"],[1.0,\"#f0f921\"]]}],\"surface\":[{\"type\":\"surface\",\"colorbar\":{\"outlinewidth\":0,\"ticks\":\"\"},\"colorscale\":[[0.0,\"#0d0887\"],[0.1111111111111111,\"#46039f\"],[0.2222222222222222,\"#7201a8\"],[0.3333333333333333,\"#9c179e\"],[0.4444444444444444,\"#bd3786\"],[0.5555555555555556,\"#d8576b\"],[0.6666666666666666,\"#ed7953\"],[0.7777777777777778,\"#fb9f3a\"],[0.8888888888888888,\"#fdca26\"],[1.0,\"#f0f921\"]]}],\"mesh3d\":[{\"type\":\"mesh3d\",\"colorbar\":{\"outlinewidth\":0,\"ticks\":\"\"}}],\"scatter\":[{\"fillpattern\":{\"fillmode\":\"overlay\",\"size\":10,\"solidity\":0.2},\"type\":\"scatter\"}],\"parcoords\":[{\"type\":\"parcoords\",\"line\":{\"colorbar\":{\"outlinewidth\":0,\"ticks\":\"\"}}}],\"scatterpolargl\":[{\"type\":\"scatterpolargl\",\"marker\":{\"colorbar\":{\"outlinewidth\":0,\"ticks\":\"\"}}}],\"bar\":[{\"error_x\":{\"color\":\"#2a3f5f\"},\"error_y\":{\"color\":\"#2a3f5f\"},\"marker\":{\"line\":{\"color\":\"#E5ECF6\",\"width\":0.5},\"pattern\":{\"fillmode\":\"overlay\",\"size\":10,\"solidity\":0.2}},\"type\":\"bar\"}],\"scattergeo\":[{\"type\":\"scattergeo\",\"marker\":{\"colorbar\":{\"outlinewidth\":0,\"ticks\":\"\"}}}],\"scatterpolar\":[{\"type\":\"scatterpolar\",\"marker\":{\"colorbar\":{\"outlinewidth\":0,\"ticks\":\"\"}}}],\"histogram\":[{\"marker\":{\"pattern\":{\"fillmode\":\"overlay\",\"size\":10,\"solidity\":0.2}},\"type\":\"histogram\"}],\"scattergl\":[{\"type\":\"scattergl\",\"marker\":{\"colorbar\":{\"outlinewidth\":0,\"ticks\":\"\"}}}],\"scatter3d\":[{\"type\":\"scatter3d\",\"line\":{\"colorbar\":{\"outlinewidth\":0,\"ticks\":\"\"}},\"marker\":{\"colorbar\":{\"outlinewidth\":0,\"ticks\":\"\"}}}],\"scattermapbox\":[{\"type\":\"scattermapbox\",\"marker\":{\"colorbar\":{\"outlinewidth\":0,\"ticks\":\"\"}}}],\"scatterternary\":[{\"type\":\"scatterternary\",\"marker\":{\"colorbar\":{\"outlinewidth\":0,\"ticks\":\"\"}}}],\"scattercarpet\":[{\"type\":\"scattercarpet\",\"marker\":{\"colorbar\":{\"outlinewidth\":0,\"ticks\":\"\"}}}],\"carpet\":[{\"aaxis\":{\"endlinecolor\":\"#2a3f5f\",\"gridcolor\":\"white\",\"linecolor\":\"white\",\"minorgridcolor\":\"white\",\"startlinecolor\":\"#2a3f5f\"},\"baxis\":{\"endlinecolor\":\"#2a3f5f\",\"gridcolor\":\"white\",\"linecolor\":\"white\",\"minorgridcolor\":\"white\",\"startlinecolor\":\"#2a3f5f\"},\"type\":\"carpet\"}],\"table\":[{\"cells\":{\"fill\":{\"color\":\"#EBF0F8\"},\"line\":{\"color\":\"white\"}},\"header\":{\"fill\":{\"color\":\"#C8D4E3\"},\"line\":{\"color\":\"white\"}},\"type\":\"table\"}],\"barpolar\":[{\"marker\":{\"line\":{\"color\":\"#E5ECF6\",\"width\":0.5},\"pattern\":{\"fillmode\":\"overlay\",\"size\":10,\"solidity\":0.2}},\"type\":\"barpolar\"}],\"pie\":[{\"automargin\":true,\"type\":\"pie\"}]},\"layout\":{\"autotypenumbers\":\"strict\",\"colorway\":[\"#636efa\",\"#EF553B\",\"#00cc96\",\"#ab63fa\",\"#FFA15A\",\"#19d3f3\",\"#FF6692\",\"#B6E880\",\"#FF97FF\",\"#FECB52\"],\"font\":{\"color\":\"#2a3f5f\"},\"hovermode\":\"closest\",\"hoverlabel\":{\"align\":\"left\"},\"paper_bgcolor\":\"white\",\"plot_bgcolor\":\"#E5ECF6\",\"polar\":{\"bgcolor\":\"#E5ECF6\",\"angularaxis\":{\"gridcolor\":\"white\",\"linecolor\":\"white\",\"ticks\":\"\"},\"radialaxis\":{\"gridcolor\":\"white\",\"linecolor\":\"white\",\"ticks\":\"\"}},\"ternary\":{\"bgcolor\":\"#E5ECF6\",\"aaxis\":{\"gridcolor\":\"white\",\"linecolor\":\"white\",\"ticks\":\"\"},\"baxis\":{\"gridcolor\":\"white\",\"linecolor\":\"white\",\"ticks\":\"\"},\"caxis\":{\"gridcolor\":\"white\",\"linecolor\":\"white\",\"ticks\":\"\"}},\"coloraxis\":{\"colorbar\":{\"outlinewidth\":0,\"ticks\":\"\"}},\"colorscale\":{\"sequential\":[[0.0,\"#0d0887\"],[0.1111111111111111,\"#46039f\"],[0.2222222222222222,\"#7201a8\"],[0.3333333333333333,\"#9c179e\"],[0.4444444444444444,\"#bd3786\"],[0.5555555555555556,\"#d8576b\"],[0.6666666666666666,\"#ed7953\"],[0.7777777777777778,\"#fb9f3a\"],[0.8888888888888888,\"#fdca26\"],[1.0,\"#f0f921\"]],\"sequentialminus\":[[0.0,\"#0d0887\"],[0.1111111111111111,\"#46039f\"],[0.2222222222222222,\"#7201a8\"],[0.3333333333333333,\"#9c179e\"],[0.4444444444444444,\"#bd3786\"],[0.5555555555555556,\"#d8576b\"],[0.6666666666666666,\"#ed7953\"],[0.7777777777777778,\"#fb9f3a\"],[0.8888888888888888,\"#fdca26\"],[1.0,\"#f0f921\"]],\"diverging\":[[0,\"#8e0152\"],[0.1,\"#c51b7d\"],[0.2,\"#de77ae\"],[0.3,\"#f1b6da\"],[0.4,\"#fde0ef\"],[0.5,\"#f7f7f7\"],[0.6,\"#e6f5d0\"],[0.7,\"#b8e186\"],[0.8,\"#7fbc41\"],[0.9,\"#4d9221\"],[1,\"#276419\"]]},\"xaxis\":{\"gridcolor\":\"white\",\"linecolor\":\"white\",\"ticks\":\"\",\"title\":{\"standoff\":15},\"zerolinecolor\":\"white\",\"automargin\":true,\"zerolinewidth\":2},\"yaxis\":{\"gridcolor\":\"white\",\"linecolor\":\"white\",\"ticks\":\"\",\"title\":{\"standoff\":15},\"zerolinecolor\":\"white\",\"automargin\":true,\"zerolinewidth\":2},\"scene\":{\"xaxis\":{\"backgroundcolor\":\"#E5ECF6\",\"gridcolor\":\"white\",\"linecolor\":\"white\",\"showbackground\":true,\"ticks\":\"\",\"zerolinecolor\":\"white\",\"gridwidth\":2},\"yaxis\":{\"backgroundcolor\":\"#E5ECF6\",\"gridcolor\":\"white\",\"linecolor\":\"white\",\"showbackground\":true,\"ticks\":\"\",\"zerolinecolor\":\"white\",\"gridwidth\":2},\"zaxis\":{\"backgroundcolor\":\"#E5ECF6\",\"gridcolor\":\"white\",\"linecolor\":\"white\",\"showbackground\":true,\"ticks\":\"\",\"zerolinecolor\":\"white\",\"gridwidth\":2}},\"shapedefaults\":{\"line\":{\"color\":\"#2a3f5f\"}},\"annotationdefaults\":{\"arrowcolor\":\"#2a3f5f\",\"arrowhead\":0,\"arrowwidth\":1},\"geo\":{\"bgcolor\":\"white\",\"landcolor\":\"#E5ECF6\",\"subunitcolor\":\"white\",\"showland\":true,\"showlakes\":true,\"lakecolor\":\"white\"},\"title\":{\"x\":0.05},\"mapbox\":{\"style\":\"light\"}}},\"xaxis\":{\"anchor\":\"y\",\"domain\":[0.0,1.0],\"title\":{\"text\":\"language_name\"}},\"yaxis\":{\"anchor\":\"x\",\"domain\":[0.0,1.0],\"title\":{\"text\":\"count\"}},\"legend\":{\"tracegroupgap\":0},\"margin\":{\"t\":60},\"barmode\":\"relative\"},                        {\"responsive\": true}                    ).then(function(){\n",
       "                            \n",
       "var gd = document.getElementById('4bdc7cd2-b7c7-4c35-8c30-00b8cece7b87');\n",
       "var x = new MutationObserver(function (mutations, observer) {{\n",
       "        var display = window.getComputedStyle(gd).display;\n",
       "        if (!display || display === 'none') {{\n",
       "            console.log([gd, 'removed!']);\n",
       "            Plotly.purge(gd);\n",
       "            observer.disconnect();\n",
       "        }}\n",
       "}});\n",
       "\n",
       "// Listen for the removal of the full notebook cells\n",
       "var notebookContainer = gd.closest('#notebook-container');\n",
       "if (notebookContainer) {{\n",
       "    x.observe(notebookContainer, {childList: true});\n",
       "}}\n",
       "\n",
       "// Listen for the clearing of the current output cell\n",
       "var outputEl = gd.closest('.output');\n",
       "if (outputEl) {{\n",
       "    x.observe(outputEl, {childList: true});\n",
       "}}\n",
       "\n",
       "                        })                };                });            </script>        </div>"
      ]
     },
     "metadata": {},
     "output_type": "display_data"
    }
   ],
   "source": [
    "fig = px.histogram(CORPUS,x='language_name',text_auto=True)\n",
    "fig.show()"
   ]
  },
  {
   "cell_type": "markdown",
   "id": "6213be12",
   "metadata": {},
   "source": [
    "## 3.0 Artist Statistics"
   ]
  },
  {
   "cell_type": "code",
   "execution_count": 5,
   "id": "0f9755dc",
   "metadata": {},
   "outputs": [
    {
     "data": {
      "text/plain": [
       "712"
      ]
     },
     "execution_count": 5,
     "metadata": {},
     "output_type": "execute_result"
    }
   ],
   "source": [
    "# See how many unique artists we have\n",
    "nartists = CORPUS.artist.nunique()\n",
    "nartists"
   ]
  },
  {
   "cell_type": "code",
   "execution_count": 6,
   "id": "d608f443",
   "metadata": {},
   "outputs": [
    {
     "name": "stdout",
     "output_type": "stream",
     "text": [
      "This means that we have an average of 2.8 songs per artist in our library\n"
     ]
    }
   ],
   "source": [
    "print(f\"This means that we have an average of {np.round(len(CORPUS)/nartists,1)} songs per artist in our library\")"
   ]
  },
  {
   "cell_type": "code",
   "execution_count": 7,
   "id": "a3dd098a",
   "metadata": {},
   "outputs": [
    {
     "data": {
      "text/html": [
       "<div>\n",
       "<style scoped>\n",
       "    .dataframe tbody tr th:only-of-type {\n",
       "        vertical-align: middle;\n",
       "    }\n",
       "\n",
       "    .dataframe tbody tr th {\n",
       "        vertical-align: top;\n",
       "    }\n",
       "\n",
       "    .dataframe thead th {\n",
       "        text-align: right;\n",
       "    }\n",
       "</style>\n",
       "<table border=\"1\" class=\"dataframe\">\n",
       "  <thead>\n",
       "    <tr style=\"text-align: right;\">\n",
       "      <th></th>\n",
       "      <th>song</th>\n",
       "      <th>lyrics</th>\n",
       "      <th>language</th>\n",
       "      <th>language_name</th>\n",
       "    </tr>\n",
       "    <tr>\n",
       "      <th>artist</th>\n",
       "      <th></th>\n",
       "      <th></th>\n",
       "      <th></th>\n",
       "      <th></th>\n",
       "    </tr>\n",
       "  </thead>\n",
       "  <tbody>\n",
       "    <tr>\n",
       "      <th>blink-182</th>\n",
       "      <td>90</td>\n",
       "      <td>90</td>\n",
       "      <td>90</td>\n",
       "      <td>90</td>\n",
       "    </tr>\n",
       "    <tr>\n",
       "      <th>Metallica</th>\n",
       "      <td>65</td>\n",
       "      <td>61</td>\n",
       "      <td>61</td>\n",
       "      <td>61</td>\n",
       "    </tr>\n",
       "    <tr>\n",
       "      <th>Taylor Swift</th>\n",
       "      <td>57</td>\n",
       "      <td>57</td>\n",
       "      <td>57</td>\n",
       "      <td>57</td>\n",
       "    </tr>\n",
       "    <tr>\n",
       "      <th>Linkin Park</th>\n",
       "      <td>45</td>\n",
       "      <td>43</td>\n",
       "      <td>43</td>\n",
       "      <td>43</td>\n",
       "    </tr>\n",
       "    <tr>\n",
       "      <th>Foo Fighters</th>\n",
       "      <td>36</td>\n",
       "      <td>36</td>\n",
       "      <td>36</td>\n",
       "      <td>36</td>\n",
       "    </tr>\n",
       "    <tr>\n",
       "      <th>Eminem</th>\n",
       "      <td>30</td>\n",
       "      <td>30</td>\n",
       "      <td>30</td>\n",
       "      <td>30</td>\n",
       "    </tr>\n",
       "    <tr>\n",
       "      <th>System Of A Down</th>\n",
       "      <td>29</td>\n",
       "      <td>29</td>\n",
       "      <td>29</td>\n",
       "      <td>29</td>\n",
       "    </tr>\n",
       "    <tr>\n",
       "      <th>The Killers</th>\n",
       "      <td>25</td>\n",
       "      <td>25</td>\n",
       "      <td>25</td>\n",
       "      <td>25</td>\n",
       "    </tr>\n",
       "    <tr>\n",
       "      <th>Turnover</th>\n",
       "      <td>23</td>\n",
       "      <td>22</td>\n",
       "      <td>22</td>\n",
       "      <td>22</td>\n",
       "    </tr>\n",
       "    <tr>\n",
       "      <th>Los Tigres Del Norte</th>\n",
       "      <td>22</td>\n",
       "      <td>22</td>\n",
       "      <td>22</td>\n",
       "      <td>22</td>\n",
       "    </tr>\n",
       "    <tr>\n",
       "      <th>Drake</th>\n",
       "      <td>21</td>\n",
       "      <td>21</td>\n",
       "      <td>21</td>\n",
       "      <td>21</td>\n",
       "    </tr>\n",
       "    <tr>\n",
       "      <th>Bad Bunny</th>\n",
       "      <td>18</td>\n",
       "      <td>18</td>\n",
       "      <td>18</td>\n",
       "      <td>18</td>\n",
       "    </tr>\n",
       "    <tr>\n",
       "      <th>Kid Cudi</th>\n",
       "      <td>17</td>\n",
       "      <td>17</td>\n",
       "      <td>17</td>\n",
       "      <td>17</td>\n",
       "    </tr>\n",
       "    <tr>\n",
       "      <th>Red Hot Chili Peppers</th>\n",
       "      <td>17</td>\n",
       "      <td>17</td>\n",
       "      <td>17</td>\n",
       "      <td>17</td>\n",
       "    </tr>\n",
       "    <tr>\n",
       "      <th>Disturbed</th>\n",
       "      <td>17</td>\n",
       "      <td>17</td>\n",
       "      <td>17</td>\n",
       "      <td>17</td>\n",
       "    </tr>\n",
       "    <tr>\n",
       "      <th>Kendrick Lamar</th>\n",
       "      <td>16</td>\n",
       "      <td>16</td>\n",
       "      <td>16</td>\n",
       "      <td>16</td>\n",
       "    </tr>\n",
       "    <tr>\n",
       "      <th>Vicente Fernández</th>\n",
       "      <td>15</td>\n",
       "      <td>15</td>\n",
       "      <td>15</td>\n",
       "      <td>15</td>\n",
       "    </tr>\n",
       "    <tr>\n",
       "      <th>Martin O'Donnell</th>\n",
       "      <td>15</td>\n",
       "      <td>1</td>\n",
       "      <td>1</td>\n",
       "      <td>1</td>\n",
       "    </tr>\n",
       "    <tr>\n",
       "      <th>Duelo</th>\n",
       "      <td>14</td>\n",
       "      <td>14</td>\n",
       "      <td>14</td>\n",
       "      <td>14</td>\n",
       "    </tr>\n",
       "    <tr>\n",
       "      <th>Nirvana</th>\n",
       "      <td>14</td>\n",
       "      <td>14</td>\n",
       "      <td>14</td>\n",
       "      <td>14</td>\n",
       "    </tr>\n",
       "  </tbody>\n",
       "</table>\n",
       "</div>"
      ],
      "text/plain": [
       "                       song  lyrics  language  language_name\n",
       "artist                                                      \n",
       "blink-182                90      90        90             90\n",
       "Metallica                65      61        61             61\n",
       "Taylor Swift             57      57        57             57\n",
       "Linkin Park              45      43        43             43\n",
       "Foo Fighters             36      36        36             36\n",
       "Eminem                   30      30        30             30\n",
       "System Of A Down         29      29        29             29\n",
       "The Killers              25      25        25             25\n",
       "Turnover                 23      22        22             22\n",
       "Los Tigres Del Norte     22      22        22             22\n",
       "Drake                    21      21        21             21\n",
       "Bad Bunny                18      18        18             18\n",
       "Kid Cudi                 17      17        17             17\n",
       "Red Hot Chili Peppers    17      17        17             17\n",
       "Disturbed                17      17        17             17\n",
       "Kendrick Lamar           16      16        16             16\n",
       "Vicente Fernández        15      15        15             15\n",
       "Martin O'Donnell         15       1         1              1\n",
       "Duelo                    14      14        14             14\n",
       "Nirvana                  14      14        14             14"
      ]
     },
     "execution_count": 7,
     "metadata": {},
     "output_type": "execute_result"
    }
   ],
   "source": [
    "top_artists = CORPUS.groupby('artist').count().sort_values(by='song',ascending=False).head(20)\n",
    "top_artists"
   ]
  },
  {
   "cell_type": "code",
   "execution_count": 8,
   "id": "c2d335e5",
   "metadata": {
    "scrolled": true
   },
   "outputs": [
    {
     "data": {
      "application/vnd.plotly.v1+json": {
       "config": {
        "plotlyServerURL": "https://plot.ly"
       },
       "data": [
        {
         "alignmentgroup": "True",
         "hovertemplate": "song=%{x}<br>artist=%{y}<extra></extra>",
         "legendgroup": "",
         "marker": {
          "color": "#636efa",
          "pattern": {
           "shape": ""
          }
         },
         "name": "",
         "offsetgroup": "",
         "orientation": "h",
         "showlegend": false,
         "textposition": "auto",
         "texttemplate": "%{x}",
         "type": "bar",
         "x": [
          90,
          65,
          57,
          45,
          36,
          30,
          29,
          25,
          23,
          22,
          21,
          18,
          17,
          17,
          17,
          16,
          15,
          15,
          14,
          14
         ],
         "xaxis": "x",
         "y": [
          "blink-182",
          "Metallica",
          "Taylor Swift",
          "Linkin Park",
          "Foo Fighters",
          "Eminem",
          "System Of A Down",
          "The Killers",
          "Turnover",
          "Los Tigres Del Norte",
          "Drake",
          "Bad Bunny",
          "Kid Cudi",
          "Red Hot Chili Peppers",
          "Disturbed",
          "Kendrick Lamar",
          "Vicente Fernández",
          "Martin O'Donnell",
          "Duelo",
          "Nirvana"
         ],
         "yaxis": "y"
        }
       ],
       "layout": {
        "barmode": "relative",
        "legend": {
         "tracegroupgap": 0
        },
        "margin": {
         "t": 60
        },
        "template": {
         "data": {
          "bar": [
           {
            "error_x": {
             "color": "#2a3f5f"
            },
            "error_y": {
             "color": "#2a3f5f"
            },
            "marker": {
             "line": {
              "color": "#E5ECF6",
              "width": 0.5
             },
             "pattern": {
              "fillmode": "overlay",
              "size": 10,
              "solidity": 0.2
             }
            },
            "type": "bar"
           }
          ],
          "barpolar": [
           {
            "marker": {
             "line": {
              "color": "#E5ECF6",
              "width": 0.5
             },
             "pattern": {
              "fillmode": "overlay",
              "size": 10,
              "solidity": 0.2
             }
            },
            "type": "barpolar"
           }
          ],
          "carpet": [
           {
            "aaxis": {
             "endlinecolor": "#2a3f5f",
             "gridcolor": "white",
             "linecolor": "white",
             "minorgridcolor": "white",
             "startlinecolor": "#2a3f5f"
            },
            "baxis": {
             "endlinecolor": "#2a3f5f",
             "gridcolor": "white",
             "linecolor": "white",
             "minorgridcolor": "white",
             "startlinecolor": "#2a3f5f"
            },
            "type": "carpet"
           }
          ],
          "choropleth": [
           {
            "colorbar": {
             "outlinewidth": 0,
             "ticks": ""
            },
            "type": "choropleth"
           }
          ],
          "contour": [
           {
            "colorbar": {
             "outlinewidth": 0,
             "ticks": ""
            },
            "colorscale": [
             [
              0,
              "#0d0887"
             ],
             [
              0.1111111111111111,
              "#46039f"
             ],
             [
              0.2222222222222222,
              "#7201a8"
             ],
             [
              0.3333333333333333,
              "#9c179e"
             ],
             [
              0.4444444444444444,
              "#bd3786"
             ],
             [
              0.5555555555555556,
              "#d8576b"
             ],
             [
              0.6666666666666666,
              "#ed7953"
             ],
             [
              0.7777777777777778,
              "#fb9f3a"
             ],
             [
              0.8888888888888888,
              "#fdca26"
             ],
             [
              1,
              "#f0f921"
             ]
            ],
            "type": "contour"
           }
          ],
          "contourcarpet": [
           {
            "colorbar": {
             "outlinewidth": 0,
             "ticks": ""
            },
            "type": "contourcarpet"
           }
          ],
          "heatmap": [
           {
            "colorbar": {
             "outlinewidth": 0,
             "ticks": ""
            },
            "colorscale": [
             [
              0,
              "#0d0887"
             ],
             [
              0.1111111111111111,
              "#46039f"
             ],
             [
              0.2222222222222222,
              "#7201a8"
             ],
             [
              0.3333333333333333,
              "#9c179e"
             ],
             [
              0.4444444444444444,
              "#bd3786"
             ],
             [
              0.5555555555555556,
              "#d8576b"
             ],
             [
              0.6666666666666666,
              "#ed7953"
             ],
             [
              0.7777777777777778,
              "#fb9f3a"
             ],
             [
              0.8888888888888888,
              "#fdca26"
             ],
             [
              1,
              "#f0f921"
             ]
            ],
            "type": "heatmap"
           }
          ],
          "heatmapgl": [
           {
            "colorbar": {
             "outlinewidth": 0,
             "ticks": ""
            },
            "colorscale": [
             [
              0,
              "#0d0887"
             ],
             [
              0.1111111111111111,
              "#46039f"
             ],
             [
              0.2222222222222222,
              "#7201a8"
             ],
             [
              0.3333333333333333,
              "#9c179e"
             ],
             [
              0.4444444444444444,
              "#bd3786"
             ],
             [
              0.5555555555555556,
              "#d8576b"
             ],
             [
              0.6666666666666666,
              "#ed7953"
             ],
             [
              0.7777777777777778,
              "#fb9f3a"
             ],
             [
              0.8888888888888888,
              "#fdca26"
             ],
             [
              1,
              "#f0f921"
             ]
            ],
            "type": "heatmapgl"
           }
          ],
          "histogram": [
           {
            "marker": {
             "pattern": {
              "fillmode": "overlay",
              "size": 10,
              "solidity": 0.2
             }
            },
            "type": "histogram"
           }
          ],
          "histogram2d": [
           {
            "colorbar": {
             "outlinewidth": 0,
             "ticks": ""
            },
            "colorscale": [
             [
              0,
              "#0d0887"
             ],
             [
              0.1111111111111111,
              "#46039f"
             ],
             [
              0.2222222222222222,
              "#7201a8"
             ],
             [
              0.3333333333333333,
              "#9c179e"
             ],
             [
              0.4444444444444444,
              "#bd3786"
             ],
             [
              0.5555555555555556,
              "#d8576b"
             ],
             [
              0.6666666666666666,
              "#ed7953"
             ],
             [
              0.7777777777777778,
              "#fb9f3a"
             ],
             [
              0.8888888888888888,
              "#fdca26"
             ],
             [
              1,
              "#f0f921"
             ]
            ],
            "type": "histogram2d"
           }
          ],
          "histogram2dcontour": [
           {
            "colorbar": {
             "outlinewidth": 0,
             "ticks": ""
            },
            "colorscale": [
             [
              0,
              "#0d0887"
             ],
             [
              0.1111111111111111,
              "#46039f"
             ],
             [
              0.2222222222222222,
              "#7201a8"
             ],
             [
              0.3333333333333333,
              "#9c179e"
             ],
             [
              0.4444444444444444,
              "#bd3786"
             ],
             [
              0.5555555555555556,
              "#d8576b"
             ],
             [
              0.6666666666666666,
              "#ed7953"
             ],
             [
              0.7777777777777778,
              "#fb9f3a"
             ],
             [
              0.8888888888888888,
              "#fdca26"
             ],
             [
              1,
              "#f0f921"
             ]
            ],
            "type": "histogram2dcontour"
           }
          ],
          "mesh3d": [
           {
            "colorbar": {
             "outlinewidth": 0,
             "ticks": ""
            },
            "type": "mesh3d"
           }
          ],
          "parcoords": [
           {
            "line": {
             "colorbar": {
              "outlinewidth": 0,
              "ticks": ""
             }
            },
            "type": "parcoords"
           }
          ],
          "pie": [
           {
            "automargin": true,
            "type": "pie"
           }
          ],
          "scatter": [
           {
            "fillpattern": {
             "fillmode": "overlay",
             "size": 10,
             "solidity": 0.2
            },
            "type": "scatter"
           }
          ],
          "scatter3d": [
           {
            "line": {
             "colorbar": {
              "outlinewidth": 0,
              "ticks": ""
             }
            },
            "marker": {
             "colorbar": {
              "outlinewidth": 0,
              "ticks": ""
             }
            },
            "type": "scatter3d"
           }
          ],
          "scattercarpet": [
           {
            "marker": {
             "colorbar": {
              "outlinewidth": 0,
              "ticks": ""
             }
            },
            "type": "scattercarpet"
           }
          ],
          "scattergeo": [
           {
            "marker": {
             "colorbar": {
              "outlinewidth": 0,
              "ticks": ""
             }
            },
            "type": "scattergeo"
           }
          ],
          "scattergl": [
           {
            "marker": {
             "colorbar": {
              "outlinewidth": 0,
              "ticks": ""
             }
            },
            "type": "scattergl"
           }
          ],
          "scattermapbox": [
           {
            "marker": {
             "colorbar": {
              "outlinewidth": 0,
              "ticks": ""
             }
            },
            "type": "scattermapbox"
           }
          ],
          "scatterpolar": [
           {
            "marker": {
             "colorbar": {
              "outlinewidth": 0,
              "ticks": ""
             }
            },
            "type": "scatterpolar"
           }
          ],
          "scatterpolargl": [
           {
            "marker": {
             "colorbar": {
              "outlinewidth": 0,
              "ticks": ""
             }
            },
            "type": "scatterpolargl"
           }
          ],
          "scatterternary": [
           {
            "marker": {
             "colorbar": {
              "outlinewidth": 0,
              "ticks": ""
             }
            },
            "type": "scatterternary"
           }
          ],
          "surface": [
           {
            "colorbar": {
             "outlinewidth": 0,
             "ticks": ""
            },
            "colorscale": [
             [
              0,
              "#0d0887"
             ],
             [
              0.1111111111111111,
              "#46039f"
             ],
             [
              0.2222222222222222,
              "#7201a8"
             ],
             [
              0.3333333333333333,
              "#9c179e"
             ],
             [
              0.4444444444444444,
              "#bd3786"
             ],
             [
              0.5555555555555556,
              "#d8576b"
             ],
             [
              0.6666666666666666,
              "#ed7953"
             ],
             [
              0.7777777777777778,
              "#fb9f3a"
             ],
             [
              0.8888888888888888,
              "#fdca26"
             ],
             [
              1,
              "#f0f921"
             ]
            ],
            "type": "surface"
           }
          ],
          "table": [
           {
            "cells": {
             "fill": {
              "color": "#EBF0F8"
             },
             "line": {
              "color": "white"
             }
            },
            "header": {
             "fill": {
              "color": "#C8D4E3"
             },
             "line": {
              "color": "white"
             }
            },
            "type": "table"
           }
          ]
         },
         "layout": {
          "annotationdefaults": {
           "arrowcolor": "#2a3f5f",
           "arrowhead": 0,
           "arrowwidth": 1
          },
          "autotypenumbers": "strict",
          "coloraxis": {
           "colorbar": {
            "outlinewidth": 0,
            "ticks": ""
           }
          },
          "colorscale": {
           "diverging": [
            [
             0,
             "#8e0152"
            ],
            [
             0.1,
             "#c51b7d"
            ],
            [
             0.2,
             "#de77ae"
            ],
            [
             0.3,
             "#f1b6da"
            ],
            [
             0.4,
             "#fde0ef"
            ],
            [
             0.5,
             "#f7f7f7"
            ],
            [
             0.6,
             "#e6f5d0"
            ],
            [
             0.7,
             "#b8e186"
            ],
            [
             0.8,
             "#7fbc41"
            ],
            [
             0.9,
             "#4d9221"
            ],
            [
             1,
             "#276419"
            ]
           ],
           "sequential": [
            [
             0,
             "#0d0887"
            ],
            [
             0.1111111111111111,
             "#46039f"
            ],
            [
             0.2222222222222222,
             "#7201a8"
            ],
            [
             0.3333333333333333,
             "#9c179e"
            ],
            [
             0.4444444444444444,
             "#bd3786"
            ],
            [
             0.5555555555555556,
             "#d8576b"
            ],
            [
             0.6666666666666666,
             "#ed7953"
            ],
            [
             0.7777777777777778,
             "#fb9f3a"
            ],
            [
             0.8888888888888888,
             "#fdca26"
            ],
            [
             1,
             "#f0f921"
            ]
           ],
           "sequentialminus": [
            [
             0,
             "#0d0887"
            ],
            [
             0.1111111111111111,
             "#46039f"
            ],
            [
             0.2222222222222222,
             "#7201a8"
            ],
            [
             0.3333333333333333,
             "#9c179e"
            ],
            [
             0.4444444444444444,
             "#bd3786"
            ],
            [
             0.5555555555555556,
             "#d8576b"
            ],
            [
             0.6666666666666666,
             "#ed7953"
            ],
            [
             0.7777777777777778,
             "#fb9f3a"
            ],
            [
             0.8888888888888888,
             "#fdca26"
            ],
            [
             1,
             "#f0f921"
            ]
           ]
          },
          "colorway": [
           "#636efa",
           "#EF553B",
           "#00cc96",
           "#ab63fa",
           "#FFA15A",
           "#19d3f3",
           "#FF6692",
           "#B6E880",
           "#FF97FF",
           "#FECB52"
          ],
          "font": {
           "color": "#2a3f5f"
          },
          "geo": {
           "bgcolor": "white",
           "lakecolor": "white",
           "landcolor": "#E5ECF6",
           "showlakes": true,
           "showland": true,
           "subunitcolor": "white"
          },
          "hoverlabel": {
           "align": "left"
          },
          "hovermode": "closest",
          "mapbox": {
           "style": "light"
          },
          "paper_bgcolor": "white",
          "plot_bgcolor": "#E5ECF6",
          "polar": {
           "angularaxis": {
            "gridcolor": "white",
            "linecolor": "white",
            "ticks": ""
           },
           "bgcolor": "#E5ECF6",
           "radialaxis": {
            "gridcolor": "white",
            "linecolor": "white",
            "ticks": ""
           }
          },
          "scene": {
           "xaxis": {
            "backgroundcolor": "#E5ECF6",
            "gridcolor": "white",
            "gridwidth": 2,
            "linecolor": "white",
            "showbackground": true,
            "ticks": "",
            "zerolinecolor": "white"
           },
           "yaxis": {
            "backgroundcolor": "#E5ECF6",
            "gridcolor": "white",
            "gridwidth": 2,
            "linecolor": "white",
            "showbackground": true,
            "ticks": "",
            "zerolinecolor": "white"
           },
           "zaxis": {
            "backgroundcolor": "#E5ECF6",
            "gridcolor": "white",
            "gridwidth": 2,
            "linecolor": "white",
            "showbackground": true,
            "ticks": "",
            "zerolinecolor": "white"
           }
          },
          "shapedefaults": {
           "line": {
            "color": "#2a3f5f"
           }
          },
          "ternary": {
           "aaxis": {
            "gridcolor": "white",
            "linecolor": "white",
            "ticks": ""
           },
           "baxis": {
            "gridcolor": "white",
            "linecolor": "white",
            "ticks": ""
           },
           "bgcolor": "#E5ECF6",
           "caxis": {
            "gridcolor": "white",
            "linecolor": "white",
            "ticks": ""
           }
          },
          "title": {
           "x": 0.05
          },
          "xaxis": {
           "automargin": true,
           "gridcolor": "white",
           "linecolor": "white",
           "ticks": "",
           "title": {
            "standoff": 15
           },
           "zerolinecolor": "white",
           "zerolinewidth": 2
          },
          "yaxis": {
           "automargin": true,
           "gridcolor": "white",
           "linecolor": "white",
           "ticks": "",
           "title": {
            "standoff": 15
           },
           "zerolinecolor": "white",
           "zerolinewidth": 2
          }
         }
        },
        "xaxis": {
         "anchor": "y",
         "domain": [
          0,
          1
         ],
         "title": {
          "text": "song"
         }
        },
        "yaxis": {
         "anchor": "x",
         "domain": [
          0,
          1
         ],
         "title": {
          "text": "artist"
         }
        }
       }
      },
      "text/html": [
       "<div>                            <div id=\"acd5796a-b468-4d6a-84a9-53a874fac064\" class=\"plotly-graph-div\" style=\"height:525px; width:100%;\"></div>            <script type=\"text/javascript\">                require([\"plotly\"], function(Plotly) {                    window.PLOTLYENV=window.PLOTLYENV || {};                                    if (document.getElementById(\"acd5796a-b468-4d6a-84a9-53a874fac064\")) {                    Plotly.newPlot(                        \"acd5796a-b468-4d6a-84a9-53a874fac064\",                        [{\"alignmentgroup\":\"True\",\"hovertemplate\":\"song=%{x}<br>artist=%{y}<extra></extra>\",\"legendgroup\":\"\",\"marker\":{\"color\":\"#636efa\",\"pattern\":{\"shape\":\"\"}},\"name\":\"\",\"offsetgroup\":\"\",\"orientation\":\"h\",\"showlegend\":false,\"textposition\":\"auto\",\"texttemplate\":\"%{x}\",\"x\":[90,65,57,45,36,30,29,25,23,22,21,18,17,17,17,16,15,15,14,14],\"xaxis\":\"x\",\"y\":[\"blink-182\",\"Metallica\",\"Taylor Swift\",\"Linkin Park\",\"Foo Fighters\",\"Eminem\",\"System Of A Down\",\"The Killers\",\"Turnover\",\"Los Tigres Del Norte\",\"Drake\",\"Bad Bunny\",\"Kid Cudi\",\"Red Hot Chili Peppers\",\"Disturbed\",\"Kendrick Lamar\",\"Vicente Fernández\",\"Martin O'Donnell\",\"Duelo\",\"Nirvana\"],\"yaxis\":\"y\",\"type\":\"bar\"}],                        {\"template\":{\"data\":{\"histogram2dcontour\":[{\"type\":\"histogram2dcontour\",\"colorbar\":{\"outlinewidth\":0,\"ticks\":\"\"},\"colorscale\":[[0.0,\"#0d0887\"],[0.1111111111111111,\"#46039f\"],[0.2222222222222222,\"#7201a8\"],[0.3333333333333333,\"#9c179e\"],[0.4444444444444444,\"#bd3786\"],[0.5555555555555556,\"#d8576b\"],[0.6666666666666666,\"#ed7953\"],[0.7777777777777778,\"#fb9f3a\"],[0.8888888888888888,\"#fdca26\"],[1.0,\"#f0f921\"]]}],\"choropleth\":[{\"type\":\"choropleth\",\"colorbar\":{\"outlinewidth\":0,\"ticks\":\"\"}}],\"histogram2d\":[{\"type\":\"histogram2d\",\"colorbar\":{\"outlinewidth\":0,\"ticks\":\"\"},\"colorscale\":[[0.0,\"#0d0887\"],[0.1111111111111111,\"#46039f\"],[0.2222222222222222,\"#7201a8\"],[0.3333333333333333,\"#9c179e\"],[0.4444444444444444,\"#bd3786\"],[0.5555555555555556,\"#d8576b\"],[0.6666666666666666,\"#ed7953\"],[0.7777777777777778,\"#fb9f3a\"],[0.8888888888888888,\"#fdca26\"],[1.0,\"#f0f921\"]]}],\"heatmap\":[{\"type\":\"heatmap\",\"colorbar\":{\"outlinewidth\":0,\"ticks\":\"\"},\"colorscale\":[[0.0,\"#0d0887\"],[0.1111111111111111,\"#46039f\"],[0.2222222222222222,\"#7201a8\"],[0.3333333333333333,\"#9c179e\"],[0.4444444444444444,\"#bd3786\"],[0.5555555555555556,\"#d8576b\"],[0.6666666666666666,\"#ed7953\"],[0.7777777777777778,\"#fb9f3a\"],[0.8888888888888888,\"#fdca26\"],[1.0,\"#f0f921\"]]}],\"heatmapgl\":[{\"type\":\"heatmapgl\",\"colorbar\":{\"outlinewidth\":0,\"ticks\":\"\"},\"colorscale\":[[0.0,\"#0d0887\"],[0.1111111111111111,\"#46039f\"],[0.2222222222222222,\"#7201a8\"],[0.3333333333333333,\"#9c179e\"],[0.4444444444444444,\"#bd3786\"],[0.5555555555555556,\"#d8576b\"],[0.6666666666666666,\"#ed7953\"],[0.7777777777777778,\"#fb9f3a\"],[0.8888888888888888,\"#fdca26\"],[1.0,\"#f0f921\"]]}],\"contourcarpet\":[{\"type\":\"contourcarpet\",\"colorbar\":{\"outlinewidth\":0,\"ticks\":\"\"}}],\"contour\":[{\"type\":\"contour\",\"colorbar\":{\"outlinewidth\":0,\"ticks\":\"\"},\"colorscale\":[[0.0,\"#0d0887\"],[0.1111111111111111,\"#46039f\"],[0.2222222222222222,\"#7201a8\"],[0.3333333333333333,\"#9c179e\"],[0.4444444444444444,\"#bd3786\"],[0.5555555555555556,\"#d8576b\"],[0.6666666666666666,\"#ed7953\"],[0.7777777777777778,\"#fb9f3a\"],[0.8888888888888888,\"#fdca26\"],[1.0,\"#f0f921\"]]}],\"surface\":[{\"type\":\"surface\",\"colorbar\":{\"outlinewidth\":0,\"ticks\":\"\"},\"colorscale\":[[0.0,\"#0d0887\"],[0.1111111111111111,\"#46039f\"],[0.2222222222222222,\"#7201a8\"],[0.3333333333333333,\"#9c179e\"],[0.4444444444444444,\"#bd3786\"],[0.5555555555555556,\"#d8576b\"],[0.6666666666666666,\"#ed7953\"],[0.7777777777777778,\"#fb9f3a\"],[0.8888888888888888,\"#fdca26\"],[1.0,\"#f0f921\"]]}],\"mesh3d\":[{\"type\":\"mesh3d\",\"colorbar\":{\"outlinewidth\":0,\"ticks\":\"\"}}],\"scatter\":[{\"fillpattern\":{\"fillmode\":\"overlay\",\"size\":10,\"solidity\":0.2},\"type\":\"scatter\"}],\"parcoords\":[{\"type\":\"parcoords\",\"line\":{\"colorbar\":{\"outlinewidth\":0,\"ticks\":\"\"}}}],\"scatterpolargl\":[{\"type\":\"scatterpolargl\",\"marker\":{\"colorbar\":{\"outlinewidth\":0,\"ticks\":\"\"}}}],\"bar\":[{\"error_x\":{\"color\":\"#2a3f5f\"},\"error_y\":{\"color\":\"#2a3f5f\"},\"marker\":{\"line\":{\"color\":\"#E5ECF6\",\"width\":0.5},\"pattern\":{\"fillmode\":\"overlay\",\"size\":10,\"solidity\":0.2}},\"type\":\"bar\"}],\"scattergeo\":[{\"type\":\"scattergeo\",\"marker\":{\"colorbar\":{\"outlinewidth\":0,\"ticks\":\"\"}}}],\"scatterpolar\":[{\"type\":\"scatterpolar\",\"marker\":{\"colorbar\":{\"outlinewidth\":0,\"ticks\":\"\"}}}],\"histogram\":[{\"marker\":{\"pattern\":{\"fillmode\":\"overlay\",\"size\":10,\"solidity\":0.2}},\"type\":\"histogram\"}],\"scattergl\":[{\"type\":\"scattergl\",\"marker\":{\"colorbar\":{\"outlinewidth\":0,\"ticks\":\"\"}}}],\"scatter3d\":[{\"type\":\"scatter3d\",\"line\":{\"colorbar\":{\"outlinewidth\":0,\"ticks\":\"\"}},\"marker\":{\"colorbar\":{\"outlinewidth\":0,\"ticks\":\"\"}}}],\"scattermapbox\":[{\"type\":\"scattermapbox\",\"marker\":{\"colorbar\":{\"outlinewidth\":0,\"ticks\":\"\"}}}],\"scatterternary\":[{\"type\":\"scatterternary\",\"marker\":{\"colorbar\":{\"outlinewidth\":0,\"ticks\":\"\"}}}],\"scattercarpet\":[{\"type\":\"scattercarpet\",\"marker\":{\"colorbar\":{\"outlinewidth\":0,\"ticks\":\"\"}}}],\"carpet\":[{\"aaxis\":{\"endlinecolor\":\"#2a3f5f\",\"gridcolor\":\"white\",\"linecolor\":\"white\",\"minorgridcolor\":\"white\",\"startlinecolor\":\"#2a3f5f\"},\"baxis\":{\"endlinecolor\":\"#2a3f5f\",\"gridcolor\":\"white\",\"linecolor\":\"white\",\"minorgridcolor\":\"white\",\"startlinecolor\":\"#2a3f5f\"},\"type\":\"carpet\"}],\"table\":[{\"cells\":{\"fill\":{\"color\":\"#EBF0F8\"},\"line\":{\"color\":\"white\"}},\"header\":{\"fill\":{\"color\":\"#C8D4E3\"},\"line\":{\"color\":\"white\"}},\"type\":\"table\"}],\"barpolar\":[{\"marker\":{\"line\":{\"color\":\"#E5ECF6\",\"width\":0.5},\"pattern\":{\"fillmode\":\"overlay\",\"size\":10,\"solidity\":0.2}},\"type\":\"barpolar\"}],\"pie\":[{\"automargin\":true,\"type\":\"pie\"}]},\"layout\":{\"autotypenumbers\":\"strict\",\"colorway\":[\"#636efa\",\"#EF553B\",\"#00cc96\",\"#ab63fa\",\"#FFA15A\",\"#19d3f3\",\"#FF6692\",\"#B6E880\",\"#FF97FF\",\"#FECB52\"],\"font\":{\"color\":\"#2a3f5f\"},\"hovermode\":\"closest\",\"hoverlabel\":{\"align\":\"left\"},\"paper_bgcolor\":\"white\",\"plot_bgcolor\":\"#E5ECF6\",\"polar\":{\"bgcolor\":\"#E5ECF6\",\"angularaxis\":{\"gridcolor\":\"white\",\"linecolor\":\"white\",\"ticks\":\"\"},\"radialaxis\":{\"gridcolor\":\"white\",\"linecolor\":\"white\",\"ticks\":\"\"}},\"ternary\":{\"bgcolor\":\"#E5ECF6\",\"aaxis\":{\"gridcolor\":\"white\",\"linecolor\":\"white\",\"ticks\":\"\"},\"baxis\":{\"gridcolor\":\"white\",\"linecolor\":\"white\",\"ticks\":\"\"},\"caxis\":{\"gridcolor\":\"white\",\"linecolor\":\"white\",\"ticks\":\"\"}},\"coloraxis\":{\"colorbar\":{\"outlinewidth\":0,\"ticks\":\"\"}},\"colorscale\":{\"sequential\":[[0.0,\"#0d0887\"],[0.1111111111111111,\"#46039f\"],[0.2222222222222222,\"#7201a8\"],[0.3333333333333333,\"#9c179e\"],[0.4444444444444444,\"#bd3786\"],[0.5555555555555556,\"#d8576b\"],[0.6666666666666666,\"#ed7953\"],[0.7777777777777778,\"#fb9f3a\"],[0.8888888888888888,\"#fdca26\"],[1.0,\"#f0f921\"]],\"sequentialminus\":[[0.0,\"#0d0887\"],[0.1111111111111111,\"#46039f\"],[0.2222222222222222,\"#7201a8\"],[0.3333333333333333,\"#9c179e\"],[0.4444444444444444,\"#bd3786\"],[0.5555555555555556,\"#d8576b\"],[0.6666666666666666,\"#ed7953\"],[0.7777777777777778,\"#fb9f3a\"],[0.8888888888888888,\"#fdca26\"],[1.0,\"#f0f921\"]],\"diverging\":[[0,\"#8e0152\"],[0.1,\"#c51b7d\"],[0.2,\"#de77ae\"],[0.3,\"#f1b6da\"],[0.4,\"#fde0ef\"],[0.5,\"#f7f7f7\"],[0.6,\"#e6f5d0\"],[0.7,\"#b8e186\"],[0.8,\"#7fbc41\"],[0.9,\"#4d9221\"],[1,\"#276419\"]]},\"xaxis\":{\"gridcolor\":\"white\",\"linecolor\":\"white\",\"ticks\":\"\",\"title\":{\"standoff\":15},\"zerolinecolor\":\"white\",\"automargin\":true,\"zerolinewidth\":2},\"yaxis\":{\"gridcolor\":\"white\",\"linecolor\":\"white\",\"ticks\":\"\",\"title\":{\"standoff\":15},\"zerolinecolor\":\"white\",\"automargin\":true,\"zerolinewidth\":2},\"scene\":{\"xaxis\":{\"backgroundcolor\":\"#E5ECF6\",\"gridcolor\":\"white\",\"linecolor\":\"white\",\"showbackground\":true,\"ticks\":\"\",\"zerolinecolor\":\"white\",\"gridwidth\":2},\"yaxis\":{\"backgroundcolor\":\"#E5ECF6\",\"gridcolor\":\"white\",\"linecolor\":\"white\",\"showbackground\":true,\"ticks\":\"\",\"zerolinecolor\":\"white\",\"gridwidth\":2},\"zaxis\":{\"backgroundcolor\":\"#E5ECF6\",\"gridcolor\":\"white\",\"linecolor\":\"white\",\"showbackground\":true,\"ticks\":\"\",\"zerolinecolor\":\"white\",\"gridwidth\":2}},\"shapedefaults\":{\"line\":{\"color\":\"#2a3f5f\"}},\"annotationdefaults\":{\"arrowcolor\":\"#2a3f5f\",\"arrowhead\":0,\"arrowwidth\":1},\"geo\":{\"bgcolor\":\"white\",\"landcolor\":\"#E5ECF6\",\"subunitcolor\":\"white\",\"showland\":true,\"showlakes\":true,\"lakecolor\":\"white\"},\"title\":{\"x\":0.05},\"mapbox\":{\"style\":\"light\"}}},\"xaxis\":{\"anchor\":\"y\",\"domain\":[0.0,1.0],\"title\":{\"text\":\"song\"}},\"yaxis\":{\"anchor\":\"x\",\"domain\":[0.0,1.0],\"title\":{\"text\":\"artist\"}},\"legend\":{\"tracegroupgap\":0},\"margin\":{\"t\":60},\"barmode\":\"relative\"},                        {\"responsive\": true}                    ).then(function(){\n",
       "                            \n",
       "var gd = document.getElementById('acd5796a-b468-4d6a-84a9-53a874fac064');\n",
       "var x = new MutationObserver(function (mutations, observer) {{\n",
       "        var display = window.getComputedStyle(gd).display;\n",
       "        if (!display || display === 'none') {{\n",
       "            console.log([gd, 'removed!']);\n",
       "            Plotly.purge(gd);\n",
       "            observer.disconnect();\n",
       "        }}\n",
       "}});\n",
       "\n",
       "// Listen for the removal of the full notebook cells\n",
       "var notebookContainer = gd.closest('#notebook-container');\n",
       "if (notebookContainer) {{\n",
       "    x.observe(notebookContainer, {childList: true});\n",
       "}}\n",
       "\n",
       "// Listen for the clearing of the current output cell\n",
       "var outputEl = gd.closest('.output');\n",
       "if (outputEl) {{\n",
       "    x.observe(outputEl, {childList: true});\n",
       "}}\n",
       "\n",
       "                        })                };                });            </script>        </div>"
      ]
     },
     "metadata": {},
     "output_type": "display_data"
    }
   ],
   "source": [
    "fig = px.bar(top_artists,x='song',text_auto=True)\n",
    "fig.show()"
   ]
  },
  {
   "cell_type": "markdown",
   "id": "208a0e1c",
   "metadata": {},
   "source": [
    "## 4.0 Genre Statistics"
   ]
  },
  {
   "cell_type": "code",
   "execution_count": 9,
   "id": "2f2d97ce",
   "metadata": {},
   "outputs": [],
   "source": [
    "import ast\n",
    "all_genres = []\n",
    "for i in LIB.index:\n",
    "    gen_list = ast.literal_eval(LIB['genre'][i])\n",
    "    all_genres.extend(gen_list)"
   ]
  },
  {
   "cell_type": "code",
   "execution_count": 10,
   "id": "c2f2e750",
   "metadata": {},
   "outputs": [],
   "source": [
    "GENRES = pd.DataFrame(columns=['genre','n'])\n",
    "for item in set(all_genres):\n",
    "    GENRES.loc[-1] = [item,all_genres.count(item)]  # adding a row\n",
    "    GENRES.index = GENRES.index + 1  # shifting index\n",
    "    GENRES = GENRES.sort_index()"
   ]
  },
  {
   "cell_type": "code",
   "execution_count": 11,
   "id": "e71b6b8d",
   "metadata": {},
   "outputs": [
    {
     "data": {
      "text/html": [
       "<div>\n",
       "<style scoped>\n",
       "    .dataframe tbody tr th:only-of-type {\n",
       "        vertical-align: middle;\n",
       "    }\n",
       "\n",
       "    .dataframe tbody tr th {\n",
       "        vertical-align: top;\n",
       "    }\n",
       "\n",
       "    .dataframe thead th {\n",
       "        text-align: right;\n",
       "    }\n",
       "</style>\n",
       "<table border=\"1\" class=\"dataframe\">\n",
       "  <thead>\n",
       "    <tr style=\"text-align: right;\">\n",
       "      <th></th>\n",
       "      <th>genre</th>\n",
       "      <th>n</th>\n",
       "    </tr>\n",
       "  </thead>\n",
       "  <tbody>\n",
       "    <tr>\n",
       "      <th>0</th>\n",
       "      <td>britpop</td>\n",
       "      <td>11</td>\n",
       "    </tr>\n",
       "    <tr>\n",
       "      <th>1</th>\n",
       "      <td>industrial rock</td>\n",
       "      <td>6</td>\n",
       "    </tr>\n",
       "    <tr>\n",
       "      <th>2</th>\n",
       "      <td>acoustic rock</td>\n",
       "      <td>1</td>\n",
       "    </tr>\n",
       "    <tr>\n",
       "      <th>3</th>\n",
       "      <td>drift phonk</td>\n",
       "      <td>3</td>\n",
       "    </tr>\n",
       "    <tr>\n",
       "      <th>4</th>\n",
       "      <td>pop</td>\n",
       "      <td>214</td>\n",
       "    </tr>\n",
       "    <tr>\n",
       "      <th>...</th>\n",
       "      <td>...</td>\n",
       "      <td>...</td>\n",
       "    </tr>\n",
       "    <tr>\n",
       "      <th>516</th>\n",
       "      <td>cumbia sonidera</td>\n",
       "      <td>9</td>\n",
       "    </tr>\n",
       "    <tr>\n",
       "      <th>517</th>\n",
       "      <td>washington indie</td>\n",
       "      <td>8</td>\n",
       "    </tr>\n",
       "    <tr>\n",
       "      <th>518</th>\n",
       "      <td>swamp rock</td>\n",
       "      <td>6</td>\n",
       "    </tr>\n",
       "    <tr>\n",
       "      <th>519</th>\n",
       "      <td>fidget house</td>\n",
       "      <td>1</td>\n",
       "    </tr>\n",
       "    <tr>\n",
       "      <th>520</th>\n",
       "      <td>mexican rock</td>\n",
       "      <td>17</td>\n",
       "    </tr>\n",
       "  </tbody>\n",
       "</table>\n",
       "<p>521 rows × 2 columns</p>\n",
       "</div>"
      ],
      "text/plain": [
       "                genre    n\n",
       "0             britpop   11\n",
       "1     industrial rock    6\n",
       "2       acoustic rock    1\n",
       "3         drift phonk    3\n",
       "4                 pop  214\n",
       "..                ...  ...\n",
       "516   cumbia sonidera    9\n",
       "517  washington indie    8\n",
       "518        swamp rock    6\n",
       "519      fidget house    1\n",
       "520      mexican rock   17\n",
       "\n",
       "[521 rows x 2 columns]"
      ]
     },
     "execution_count": 11,
     "metadata": {},
     "output_type": "execute_result"
    }
   ],
   "source": [
    "GENRES"
   ]
  },
  {
   "cell_type": "code",
   "execution_count": null,
   "id": "edd5146d",
   "metadata": {},
   "outputs": [],
   "source": []
  },
  {
   "cell_type": "code",
   "execution_count": 12,
   "id": "21423727",
   "metadata": {},
   "outputs": [
    {
     "data": {
      "application/vnd.plotly.v1+json": {
       "config": {
        "plotlyServerURL": "https://plot.ly"
       },
       "data": [
        {
         "alignmentgroup": "True",
         "hovertemplate": "genre=%{x}<br>n=%{y}<extra></extra>",
         "legendgroup": "",
         "marker": {
          "color": "#636efa",
          "pattern": {
           "shape": ""
          }
         },
         "name": "",
         "offsetgroup": "",
         "orientation": "v",
         "showlegend": false,
         "textposition": "auto",
         "texttemplate": "%{y}",
         "type": "bar",
         "x": [
          "rock",
          "alternative metal",
          "modern rock",
          "nu metal",
          "pop",
          "musica mexicana",
          "rap",
          "post-grunge",
          "hard rock",
          "alternative rock",
          "hip hop",
          "norteno",
          "pop punk",
          "permanent wave",
          "punk",
          "rap metal",
          "banda",
          "metal",
          "latin pop",
          "socal pop punk"
         ],
         "xaxis": "x",
         "y": [
          653,
          413,
          396,
          221,
          214,
          201,
          196,
          194,
          187,
          182,
          177,
          176,
          172,
          169,
          143,
          127,
          116,
          116,
          114,
          103
         ],
         "yaxis": "y"
        }
       ],
       "layout": {
        "barmode": "relative",
        "legend": {
         "tracegroupgap": 0
        },
        "margin": {
         "t": 60
        },
        "template": {
         "data": {
          "bar": [
           {
            "error_x": {
             "color": "#2a3f5f"
            },
            "error_y": {
             "color": "#2a3f5f"
            },
            "marker": {
             "line": {
              "color": "#E5ECF6",
              "width": 0.5
             },
             "pattern": {
              "fillmode": "overlay",
              "size": 10,
              "solidity": 0.2
             }
            },
            "type": "bar"
           }
          ],
          "barpolar": [
           {
            "marker": {
             "line": {
              "color": "#E5ECF6",
              "width": 0.5
             },
             "pattern": {
              "fillmode": "overlay",
              "size": 10,
              "solidity": 0.2
             }
            },
            "type": "barpolar"
           }
          ],
          "carpet": [
           {
            "aaxis": {
             "endlinecolor": "#2a3f5f",
             "gridcolor": "white",
             "linecolor": "white",
             "minorgridcolor": "white",
             "startlinecolor": "#2a3f5f"
            },
            "baxis": {
             "endlinecolor": "#2a3f5f",
             "gridcolor": "white",
             "linecolor": "white",
             "minorgridcolor": "white",
             "startlinecolor": "#2a3f5f"
            },
            "type": "carpet"
           }
          ],
          "choropleth": [
           {
            "colorbar": {
             "outlinewidth": 0,
             "ticks": ""
            },
            "type": "choropleth"
           }
          ],
          "contour": [
           {
            "colorbar": {
             "outlinewidth": 0,
             "ticks": ""
            },
            "colorscale": [
             [
              0,
              "#0d0887"
             ],
             [
              0.1111111111111111,
              "#46039f"
             ],
             [
              0.2222222222222222,
              "#7201a8"
             ],
             [
              0.3333333333333333,
              "#9c179e"
             ],
             [
              0.4444444444444444,
              "#bd3786"
             ],
             [
              0.5555555555555556,
              "#d8576b"
             ],
             [
              0.6666666666666666,
              "#ed7953"
             ],
             [
              0.7777777777777778,
              "#fb9f3a"
             ],
             [
              0.8888888888888888,
              "#fdca26"
             ],
             [
              1,
              "#f0f921"
             ]
            ],
            "type": "contour"
           }
          ],
          "contourcarpet": [
           {
            "colorbar": {
             "outlinewidth": 0,
             "ticks": ""
            },
            "type": "contourcarpet"
           }
          ],
          "heatmap": [
           {
            "colorbar": {
             "outlinewidth": 0,
             "ticks": ""
            },
            "colorscale": [
             [
              0,
              "#0d0887"
             ],
             [
              0.1111111111111111,
              "#46039f"
             ],
             [
              0.2222222222222222,
              "#7201a8"
             ],
             [
              0.3333333333333333,
              "#9c179e"
             ],
             [
              0.4444444444444444,
              "#bd3786"
             ],
             [
              0.5555555555555556,
              "#d8576b"
             ],
             [
              0.6666666666666666,
              "#ed7953"
             ],
             [
              0.7777777777777778,
              "#fb9f3a"
             ],
             [
              0.8888888888888888,
              "#fdca26"
             ],
             [
              1,
              "#f0f921"
             ]
            ],
            "type": "heatmap"
           }
          ],
          "heatmapgl": [
           {
            "colorbar": {
             "outlinewidth": 0,
             "ticks": ""
            },
            "colorscale": [
             [
              0,
              "#0d0887"
             ],
             [
              0.1111111111111111,
              "#46039f"
             ],
             [
              0.2222222222222222,
              "#7201a8"
             ],
             [
              0.3333333333333333,
              "#9c179e"
             ],
             [
              0.4444444444444444,
              "#bd3786"
             ],
             [
              0.5555555555555556,
              "#d8576b"
             ],
             [
              0.6666666666666666,
              "#ed7953"
             ],
             [
              0.7777777777777778,
              "#fb9f3a"
             ],
             [
              0.8888888888888888,
              "#fdca26"
             ],
             [
              1,
              "#f0f921"
             ]
            ],
            "type": "heatmapgl"
           }
          ],
          "histogram": [
           {
            "marker": {
             "pattern": {
              "fillmode": "overlay",
              "size": 10,
              "solidity": 0.2
             }
            },
            "type": "histogram"
           }
          ],
          "histogram2d": [
           {
            "colorbar": {
             "outlinewidth": 0,
             "ticks": ""
            },
            "colorscale": [
             [
              0,
              "#0d0887"
             ],
             [
              0.1111111111111111,
              "#46039f"
             ],
             [
              0.2222222222222222,
              "#7201a8"
             ],
             [
              0.3333333333333333,
              "#9c179e"
             ],
             [
              0.4444444444444444,
              "#bd3786"
             ],
             [
              0.5555555555555556,
              "#d8576b"
             ],
             [
              0.6666666666666666,
              "#ed7953"
             ],
             [
              0.7777777777777778,
              "#fb9f3a"
             ],
             [
              0.8888888888888888,
              "#fdca26"
             ],
             [
              1,
              "#f0f921"
             ]
            ],
            "type": "histogram2d"
           }
          ],
          "histogram2dcontour": [
           {
            "colorbar": {
             "outlinewidth": 0,
             "ticks": ""
            },
            "colorscale": [
             [
              0,
              "#0d0887"
             ],
             [
              0.1111111111111111,
              "#46039f"
             ],
             [
              0.2222222222222222,
              "#7201a8"
             ],
             [
              0.3333333333333333,
              "#9c179e"
             ],
             [
              0.4444444444444444,
              "#bd3786"
             ],
             [
              0.5555555555555556,
              "#d8576b"
             ],
             [
              0.6666666666666666,
              "#ed7953"
             ],
             [
              0.7777777777777778,
              "#fb9f3a"
             ],
             [
              0.8888888888888888,
              "#fdca26"
             ],
             [
              1,
              "#f0f921"
             ]
            ],
            "type": "histogram2dcontour"
           }
          ],
          "mesh3d": [
           {
            "colorbar": {
             "outlinewidth": 0,
             "ticks": ""
            },
            "type": "mesh3d"
           }
          ],
          "parcoords": [
           {
            "line": {
             "colorbar": {
              "outlinewidth": 0,
              "ticks": ""
             }
            },
            "type": "parcoords"
           }
          ],
          "pie": [
           {
            "automargin": true,
            "type": "pie"
           }
          ],
          "scatter": [
           {
            "fillpattern": {
             "fillmode": "overlay",
             "size": 10,
             "solidity": 0.2
            },
            "type": "scatter"
           }
          ],
          "scatter3d": [
           {
            "line": {
             "colorbar": {
              "outlinewidth": 0,
              "ticks": ""
             }
            },
            "marker": {
             "colorbar": {
              "outlinewidth": 0,
              "ticks": ""
             }
            },
            "type": "scatter3d"
           }
          ],
          "scattercarpet": [
           {
            "marker": {
             "colorbar": {
              "outlinewidth": 0,
              "ticks": ""
             }
            },
            "type": "scattercarpet"
           }
          ],
          "scattergeo": [
           {
            "marker": {
             "colorbar": {
              "outlinewidth": 0,
              "ticks": ""
             }
            },
            "type": "scattergeo"
           }
          ],
          "scattergl": [
           {
            "marker": {
             "colorbar": {
              "outlinewidth": 0,
              "ticks": ""
             }
            },
            "type": "scattergl"
           }
          ],
          "scattermapbox": [
           {
            "marker": {
             "colorbar": {
              "outlinewidth": 0,
              "ticks": ""
             }
            },
            "type": "scattermapbox"
           }
          ],
          "scatterpolar": [
           {
            "marker": {
             "colorbar": {
              "outlinewidth": 0,
              "ticks": ""
             }
            },
            "type": "scatterpolar"
           }
          ],
          "scatterpolargl": [
           {
            "marker": {
             "colorbar": {
              "outlinewidth": 0,
              "ticks": ""
             }
            },
            "type": "scatterpolargl"
           }
          ],
          "scatterternary": [
           {
            "marker": {
             "colorbar": {
              "outlinewidth": 0,
              "ticks": ""
             }
            },
            "type": "scatterternary"
           }
          ],
          "surface": [
           {
            "colorbar": {
             "outlinewidth": 0,
             "ticks": ""
            },
            "colorscale": [
             [
              0,
              "#0d0887"
             ],
             [
              0.1111111111111111,
              "#46039f"
             ],
             [
              0.2222222222222222,
              "#7201a8"
             ],
             [
              0.3333333333333333,
              "#9c179e"
             ],
             [
              0.4444444444444444,
              "#bd3786"
             ],
             [
              0.5555555555555556,
              "#d8576b"
             ],
             [
              0.6666666666666666,
              "#ed7953"
             ],
             [
              0.7777777777777778,
              "#fb9f3a"
             ],
             [
              0.8888888888888888,
              "#fdca26"
             ],
             [
              1,
              "#f0f921"
             ]
            ],
            "type": "surface"
           }
          ],
          "table": [
           {
            "cells": {
             "fill": {
              "color": "#EBF0F8"
             },
             "line": {
              "color": "white"
             }
            },
            "header": {
             "fill": {
              "color": "#C8D4E3"
             },
             "line": {
              "color": "white"
             }
            },
            "type": "table"
           }
          ]
         },
         "layout": {
          "annotationdefaults": {
           "arrowcolor": "#2a3f5f",
           "arrowhead": 0,
           "arrowwidth": 1
          },
          "autotypenumbers": "strict",
          "coloraxis": {
           "colorbar": {
            "outlinewidth": 0,
            "ticks": ""
           }
          },
          "colorscale": {
           "diverging": [
            [
             0,
             "#8e0152"
            ],
            [
             0.1,
             "#c51b7d"
            ],
            [
             0.2,
             "#de77ae"
            ],
            [
             0.3,
             "#f1b6da"
            ],
            [
             0.4,
             "#fde0ef"
            ],
            [
             0.5,
             "#f7f7f7"
            ],
            [
             0.6,
             "#e6f5d0"
            ],
            [
             0.7,
             "#b8e186"
            ],
            [
             0.8,
             "#7fbc41"
            ],
            [
             0.9,
             "#4d9221"
            ],
            [
             1,
             "#276419"
            ]
           ],
           "sequential": [
            [
             0,
             "#0d0887"
            ],
            [
             0.1111111111111111,
             "#46039f"
            ],
            [
             0.2222222222222222,
             "#7201a8"
            ],
            [
             0.3333333333333333,
             "#9c179e"
            ],
            [
             0.4444444444444444,
             "#bd3786"
            ],
            [
             0.5555555555555556,
             "#d8576b"
            ],
            [
             0.6666666666666666,
             "#ed7953"
            ],
            [
             0.7777777777777778,
             "#fb9f3a"
            ],
            [
             0.8888888888888888,
             "#fdca26"
            ],
            [
             1,
             "#f0f921"
            ]
           ],
           "sequentialminus": [
            [
             0,
             "#0d0887"
            ],
            [
             0.1111111111111111,
             "#46039f"
            ],
            [
             0.2222222222222222,
             "#7201a8"
            ],
            [
             0.3333333333333333,
             "#9c179e"
            ],
            [
             0.4444444444444444,
             "#bd3786"
            ],
            [
             0.5555555555555556,
             "#d8576b"
            ],
            [
             0.6666666666666666,
             "#ed7953"
            ],
            [
             0.7777777777777778,
             "#fb9f3a"
            ],
            [
             0.8888888888888888,
             "#fdca26"
            ],
            [
             1,
             "#f0f921"
            ]
           ]
          },
          "colorway": [
           "#636efa",
           "#EF553B",
           "#00cc96",
           "#ab63fa",
           "#FFA15A",
           "#19d3f3",
           "#FF6692",
           "#B6E880",
           "#FF97FF",
           "#FECB52"
          ],
          "font": {
           "color": "#2a3f5f"
          },
          "geo": {
           "bgcolor": "white",
           "lakecolor": "white",
           "landcolor": "#E5ECF6",
           "showlakes": true,
           "showland": true,
           "subunitcolor": "white"
          },
          "hoverlabel": {
           "align": "left"
          },
          "hovermode": "closest",
          "mapbox": {
           "style": "light"
          },
          "paper_bgcolor": "white",
          "plot_bgcolor": "#E5ECF6",
          "polar": {
           "angularaxis": {
            "gridcolor": "white",
            "linecolor": "white",
            "ticks": ""
           },
           "bgcolor": "#E5ECF6",
           "radialaxis": {
            "gridcolor": "white",
            "linecolor": "white",
            "ticks": ""
           }
          },
          "scene": {
           "xaxis": {
            "backgroundcolor": "#E5ECF6",
            "gridcolor": "white",
            "gridwidth": 2,
            "linecolor": "white",
            "showbackground": true,
            "ticks": "",
            "zerolinecolor": "white"
           },
           "yaxis": {
            "backgroundcolor": "#E5ECF6",
            "gridcolor": "white",
            "gridwidth": 2,
            "linecolor": "white",
            "showbackground": true,
            "ticks": "",
            "zerolinecolor": "white"
           },
           "zaxis": {
            "backgroundcolor": "#E5ECF6",
            "gridcolor": "white",
            "gridwidth": 2,
            "linecolor": "white",
            "showbackground": true,
            "ticks": "",
            "zerolinecolor": "white"
           }
          },
          "shapedefaults": {
           "line": {
            "color": "#2a3f5f"
           }
          },
          "ternary": {
           "aaxis": {
            "gridcolor": "white",
            "linecolor": "white",
            "ticks": ""
           },
           "baxis": {
            "gridcolor": "white",
            "linecolor": "white",
            "ticks": ""
           },
           "bgcolor": "#E5ECF6",
           "caxis": {
            "gridcolor": "white",
            "linecolor": "white",
            "ticks": ""
           }
          },
          "title": {
           "x": 0.05
          },
          "xaxis": {
           "automargin": true,
           "gridcolor": "white",
           "linecolor": "white",
           "ticks": "",
           "title": {
            "standoff": 15
           },
           "zerolinecolor": "white",
           "zerolinewidth": 2
          },
          "yaxis": {
           "automargin": true,
           "gridcolor": "white",
           "linecolor": "white",
           "ticks": "",
           "title": {
            "standoff": 15
           },
           "zerolinecolor": "white",
           "zerolinewidth": 2
          }
         }
        },
        "xaxis": {
         "anchor": "y",
         "domain": [
          0,
          1
         ],
         "title": {
          "text": "genre"
         }
        },
        "yaxis": {
         "anchor": "x",
         "domain": [
          0,
          1
         ],
         "title": {
          "text": "n"
         }
        }
       }
      },
      "text/html": [
       "<div>                            <div id=\"a6158138-a3fd-49f8-bf39-c1c95bcbbaed\" class=\"plotly-graph-div\" style=\"height:525px; width:100%;\"></div>            <script type=\"text/javascript\">                require([\"plotly\"], function(Plotly) {                    window.PLOTLYENV=window.PLOTLYENV || {};                                    if (document.getElementById(\"a6158138-a3fd-49f8-bf39-c1c95bcbbaed\")) {                    Plotly.newPlot(                        \"a6158138-a3fd-49f8-bf39-c1c95bcbbaed\",                        [{\"alignmentgroup\":\"True\",\"hovertemplate\":\"genre=%{x}<br>n=%{y}<extra></extra>\",\"legendgroup\":\"\",\"marker\":{\"color\":\"#636efa\",\"pattern\":{\"shape\":\"\"}},\"name\":\"\",\"offsetgroup\":\"\",\"orientation\":\"v\",\"showlegend\":false,\"textposition\":\"auto\",\"texttemplate\":\"%{y}\",\"x\":[\"rock\",\"alternative metal\",\"modern rock\",\"nu metal\",\"pop\",\"musica mexicana\",\"rap\",\"post-grunge\",\"hard rock\",\"alternative rock\",\"hip hop\",\"norteno\",\"pop punk\",\"permanent wave\",\"punk\",\"rap metal\",\"banda\",\"metal\",\"latin pop\",\"socal pop punk\"],\"xaxis\":\"x\",\"y\":[653,413,396,221,214,201,196,194,187,182,177,176,172,169,143,127,116,116,114,103],\"yaxis\":\"y\",\"type\":\"bar\"}],                        {\"template\":{\"data\":{\"histogram2dcontour\":[{\"type\":\"histogram2dcontour\",\"colorbar\":{\"outlinewidth\":0,\"ticks\":\"\"},\"colorscale\":[[0.0,\"#0d0887\"],[0.1111111111111111,\"#46039f\"],[0.2222222222222222,\"#7201a8\"],[0.3333333333333333,\"#9c179e\"],[0.4444444444444444,\"#bd3786\"],[0.5555555555555556,\"#d8576b\"],[0.6666666666666666,\"#ed7953\"],[0.7777777777777778,\"#fb9f3a\"],[0.8888888888888888,\"#fdca26\"],[1.0,\"#f0f921\"]]}],\"choropleth\":[{\"type\":\"choropleth\",\"colorbar\":{\"outlinewidth\":0,\"ticks\":\"\"}}],\"histogram2d\":[{\"type\":\"histogram2d\",\"colorbar\":{\"outlinewidth\":0,\"ticks\":\"\"},\"colorscale\":[[0.0,\"#0d0887\"],[0.1111111111111111,\"#46039f\"],[0.2222222222222222,\"#7201a8\"],[0.3333333333333333,\"#9c179e\"],[0.4444444444444444,\"#bd3786\"],[0.5555555555555556,\"#d8576b\"],[0.6666666666666666,\"#ed7953\"],[0.7777777777777778,\"#fb9f3a\"],[0.8888888888888888,\"#fdca26\"],[1.0,\"#f0f921\"]]}],\"heatmap\":[{\"type\":\"heatmap\",\"colorbar\":{\"outlinewidth\":0,\"ticks\":\"\"},\"colorscale\":[[0.0,\"#0d0887\"],[0.1111111111111111,\"#46039f\"],[0.2222222222222222,\"#7201a8\"],[0.3333333333333333,\"#9c179e\"],[0.4444444444444444,\"#bd3786\"],[0.5555555555555556,\"#d8576b\"],[0.6666666666666666,\"#ed7953\"],[0.7777777777777778,\"#fb9f3a\"],[0.8888888888888888,\"#fdca26\"],[1.0,\"#f0f921\"]]}],\"heatmapgl\":[{\"type\":\"heatmapgl\",\"colorbar\":{\"outlinewidth\":0,\"ticks\":\"\"},\"colorscale\":[[0.0,\"#0d0887\"],[0.1111111111111111,\"#46039f\"],[0.2222222222222222,\"#7201a8\"],[0.3333333333333333,\"#9c179e\"],[0.4444444444444444,\"#bd3786\"],[0.5555555555555556,\"#d8576b\"],[0.6666666666666666,\"#ed7953\"],[0.7777777777777778,\"#fb9f3a\"],[0.8888888888888888,\"#fdca26\"],[1.0,\"#f0f921\"]]}],\"contourcarpet\":[{\"type\":\"contourcarpet\",\"colorbar\":{\"outlinewidth\":0,\"ticks\":\"\"}}],\"contour\":[{\"type\":\"contour\",\"colorbar\":{\"outlinewidth\":0,\"ticks\":\"\"},\"colorscale\":[[0.0,\"#0d0887\"],[0.1111111111111111,\"#46039f\"],[0.2222222222222222,\"#7201a8\"],[0.3333333333333333,\"#9c179e\"],[0.4444444444444444,\"#bd3786\"],[0.5555555555555556,\"#d8576b\"],[0.6666666666666666,\"#ed7953\"],[0.7777777777777778,\"#fb9f3a\"],[0.8888888888888888,\"#fdca26\"],[1.0,\"#f0f921\"]]}],\"surface\":[{\"type\":\"surface\",\"colorbar\":{\"outlinewidth\":0,\"ticks\":\"\"},\"colorscale\":[[0.0,\"#0d0887\"],[0.1111111111111111,\"#46039f\"],[0.2222222222222222,\"#7201a8\"],[0.3333333333333333,\"#9c179e\"],[0.4444444444444444,\"#bd3786\"],[0.5555555555555556,\"#d8576b\"],[0.6666666666666666,\"#ed7953\"],[0.7777777777777778,\"#fb9f3a\"],[0.8888888888888888,\"#fdca26\"],[1.0,\"#f0f921\"]]}],\"mesh3d\":[{\"type\":\"mesh3d\",\"colorbar\":{\"outlinewidth\":0,\"ticks\":\"\"}}],\"scatter\":[{\"fillpattern\":{\"fillmode\":\"overlay\",\"size\":10,\"solidity\":0.2},\"type\":\"scatter\"}],\"parcoords\":[{\"type\":\"parcoords\",\"line\":{\"colorbar\":{\"outlinewidth\":0,\"ticks\":\"\"}}}],\"scatterpolargl\":[{\"type\":\"scatterpolargl\",\"marker\":{\"colorbar\":{\"outlinewidth\":0,\"ticks\":\"\"}}}],\"bar\":[{\"error_x\":{\"color\":\"#2a3f5f\"},\"error_y\":{\"color\":\"#2a3f5f\"},\"marker\":{\"line\":{\"color\":\"#E5ECF6\",\"width\":0.5},\"pattern\":{\"fillmode\":\"overlay\",\"size\":10,\"solidity\":0.2}},\"type\":\"bar\"}],\"scattergeo\":[{\"type\":\"scattergeo\",\"marker\":{\"colorbar\":{\"outlinewidth\":0,\"ticks\":\"\"}}}],\"scatterpolar\":[{\"type\":\"scatterpolar\",\"marker\":{\"colorbar\":{\"outlinewidth\":0,\"ticks\":\"\"}}}],\"histogram\":[{\"marker\":{\"pattern\":{\"fillmode\":\"overlay\",\"size\":10,\"solidity\":0.2}},\"type\":\"histogram\"}],\"scattergl\":[{\"type\":\"scattergl\",\"marker\":{\"colorbar\":{\"outlinewidth\":0,\"ticks\":\"\"}}}],\"scatter3d\":[{\"type\":\"scatter3d\",\"line\":{\"colorbar\":{\"outlinewidth\":0,\"ticks\":\"\"}},\"marker\":{\"colorbar\":{\"outlinewidth\":0,\"ticks\":\"\"}}}],\"scattermapbox\":[{\"type\":\"scattermapbox\",\"marker\":{\"colorbar\":{\"outlinewidth\":0,\"ticks\":\"\"}}}],\"scatterternary\":[{\"type\":\"scatterternary\",\"marker\":{\"colorbar\":{\"outlinewidth\":0,\"ticks\":\"\"}}}],\"scattercarpet\":[{\"type\":\"scattercarpet\",\"marker\":{\"colorbar\":{\"outlinewidth\":0,\"ticks\":\"\"}}}],\"carpet\":[{\"aaxis\":{\"endlinecolor\":\"#2a3f5f\",\"gridcolor\":\"white\",\"linecolor\":\"white\",\"minorgridcolor\":\"white\",\"startlinecolor\":\"#2a3f5f\"},\"baxis\":{\"endlinecolor\":\"#2a3f5f\",\"gridcolor\":\"white\",\"linecolor\":\"white\",\"minorgridcolor\":\"white\",\"startlinecolor\":\"#2a3f5f\"},\"type\":\"carpet\"}],\"table\":[{\"cells\":{\"fill\":{\"color\":\"#EBF0F8\"},\"line\":{\"color\":\"white\"}},\"header\":{\"fill\":{\"color\":\"#C8D4E3\"},\"line\":{\"color\":\"white\"}},\"type\":\"table\"}],\"barpolar\":[{\"marker\":{\"line\":{\"color\":\"#E5ECF6\",\"width\":0.5},\"pattern\":{\"fillmode\":\"overlay\",\"size\":10,\"solidity\":0.2}},\"type\":\"barpolar\"}],\"pie\":[{\"automargin\":true,\"type\":\"pie\"}]},\"layout\":{\"autotypenumbers\":\"strict\",\"colorway\":[\"#636efa\",\"#EF553B\",\"#00cc96\",\"#ab63fa\",\"#FFA15A\",\"#19d3f3\",\"#FF6692\",\"#B6E880\",\"#FF97FF\",\"#FECB52\"],\"font\":{\"color\":\"#2a3f5f\"},\"hovermode\":\"closest\",\"hoverlabel\":{\"align\":\"left\"},\"paper_bgcolor\":\"white\",\"plot_bgcolor\":\"#E5ECF6\",\"polar\":{\"bgcolor\":\"#E5ECF6\",\"angularaxis\":{\"gridcolor\":\"white\",\"linecolor\":\"white\",\"ticks\":\"\"},\"radialaxis\":{\"gridcolor\":\"white\",\"linecolor\":\"white\",\"ticks\":\"\"}},\"ternary\":{\"bgcolor\":\"#E5ECF6\",\"aaxis\":{\"gridcolor\":\"white\",\"linecolor\":\"white\",\"ticks\":\"\"},\"baxis\":{\"gridcolor\":\"white\",\"linecolor\":\"white\",\"ticks\":\"\"},\"caxis\":{\"gridcolor\":\"white\",\"linecolor\":\"white\",\"ticks\":\"\"}},\"coloraxis\":{\"colorbar\":{\"outlinewidth\":0,\"ticks\":\"\"}},\"colorscale\":{\"sequential\":[[0.0,\"#0d0887\"],[0.1111111111111111,\"#46039f\"],[0.2222222222222222,\"#7201a8\"],[0.3333333333333333,\"#9c179e\"],[0.4444444444444444,\"#bd3786\"],[0.5555555555555556,\"#d8576b\"],[0.6666666666666666,\"#ed7953\"],[0.7777777777777778,\"#fb9f3a\"],[0.8888888888888888,\"#fdca26\"],[1.0,\"#f0f921\"]],\"sequentialminus\":[[0.0,\"#0d0887\"],[0.1111111111111111,\"#46039f\"],[0.2222222222222222,\"#7201a8\"],[0.3333333333333333,\"#9c179e\"],[0.4444444444444444,\"#bd3786\"],[0.5555555555555556,\"#d8576b\"],[0.6666666666666666,\"#ed7953\"],[0.7777777777777778,\"#fb9f3a\"],[0.8888888888888888,\"#fdca26\"],[1.0,\"#f0f921\"]],\"diverging\":[[0,\"#8e0152\"],[0.1,\"#c51b7d\"],[0.2,\"#de77ae\"],[0.3,\"#f1b6da\"],[0.4,\"#fde0ef\"],[0.5,\"#f7f7f7\"],[0.6,\"#e6f5d0\"],[0.7,\"#b8e186\"],[0.8,\"#7fbc41\"],[0.9,\"#4d9221\"],[1,\"#276419\"]]},\"xaxis\":{\"gridcolor\":\"white\",\"linecolor\":\"white\",\"ticks\":\"\",\"title\":{\"standoff\":15},\"zerolinecolor\":\"white\",\"automargin\":true,\"zerolinewidth\":2},\"yaxis\":{\"gridcolor\":\"white\",\"linecolor\":\"white\",\"ticks\":\"\",\"title\":{\"standoff\":15},\"zerolinecolor\":\"white\",\"automargin\":true,\"zerolinewidth\":2},\"scene\":{\"xaxis\":{\"backgroundcolor\":\"#E5ECF6\",\"gridcolor\":\"white\",\"linecolor\":\"white\",\"showbackground\":true,\"ticks\":\"\",\"zerolinecolor\":\"white\",\"gridwidth\":2},\"yaxis\":{\"backgroundcolor\":\"#E5ECF6\",\"gridcolor\":\"white\",\"linecolor\":\"white\",\"showbackground\":true,\"ticks\":\"\",\"zerolinecolor\":\"white\",\"gridwidth\":2},\"zaxis\":{\"backgroundcolor\":\"#E5ECF6\",\"gridcolor\":\"white\",\"linecolor\":\"white\",\"showbackground\":true,\"ticks\":\"\",\"zerolinecolor\":\"white\",\"gridwidth\":2}},\"shapedefaults\":{\"line\":{\"color\":\"#2a3f5f\"}},\"annotationdefaults\":{\"arrowcolor\":\"#2a3f5f\",\"arrowhead\":0,\"arrowwidth\":1},\"geo\":{\"bgcolor\":\"white\",\"landcolor\":\"#E5ECF6\",\"subunitcolor\":\"white\",\"showland\":true,\"showlakes\":true,\"lakecolor\":\"white\"},\"title\":{\"x\":0.05},\"mapbox\":{\"style\":\"light\"}}},\"xaxis\":{\"anchor\":\"y\",\"domain\":[0.0,1.0],\"title\":{\"text\":\"genre\"}},\"yaxis\":{\"anchor\":\"x\",\"domain\":[0.0,1.0],\"title\":{\"text\":\"n\"}},\"legend\":{\"tracegroupgap\":0},\"margin\":{\"t\":60},\"barmode\":\"relative\"},                        {\"responsive\": true}                    ).then(function(){\n",
       "                            \n",
       "var gd = document.getElementById('a6158138-a3fd-49f8-bf39-c1c95bcbbaed');\n",
       "var x = new MutationObserver(function (mutations, observer) {{\n",
       "        var display = window.getComputedStyle(gd).display;\n",
       "        if (!display || display === 'none') {{\n",
       "            console.log([gd, 'removed!']);\n",
       "            Plotly.purge(gd);\n",
       "            observer.disconnect();\n",
       "        }}\n",
       "}});\n",
       "\n",
       "// Listen for the removal of the full notebook cells\n",
       "var notebookContainer = gd.closest('#notebook-container');\n",
       "if (notebookContainer) {{\n",
       "    x.observe(notebookContainer, {childList: true});\n",
       "}}\n",
       "\n",
       "// Listen for the clearing of the current output cell\n",
       "var outputEl = gd.closest('.output');\n",
       "if (outputEl) {{\n",
       "    x.observe(outputEl, {childList: true});\n",
       "}}\n",
       "\n",
       "                        })                };                });            </script>        </div>"
      ]
     },
     "metadata": {},
     "output_type": "display_data"
    }
   ],
   "source": [
    "fig = px.bar(GENRES.sort_values(by='n',ascending=False).head(20),\n",
    "       x='genre',\n",
    "       y='n',\n",
    "       text_auto=True)\n",
    "fig.show()"
   ]
  },
  {
   "cell_type": "code",
   "execution_count": 13,
   "id": "f32c93b8",
   "metadata": {},
   "outputs": [],
   "source": [
    "GENRES.to_csv(data_dir+'GENRES.csv',index=False)"
   ]
  },
  {
   "cell_type": "code",
   "execution_count": 14,
   "id": "11420d62",
   "metadata": {},
   "outputs": [],
   "source": [
    "## 5.0 "
   ]
  },
  {
   "cell_type": "code",
   "execution_count": null,
   "id": "22dac7a1",
   "metadata": {},
   "outputs": [],
   "source": []
  },
  {
   "cell_type": "code",
   "execution_count": null,
   "id": "1318866e",
   "metadata": {},
   "outputs": [],
   "source": []
  }
 ],
 "metadata": {
  "kernelspec": {
   "display_name": "Python 3 (ipykernel)",
   "language": "python",
   "name": "python3"
  },
  "language_info": {
   "codemirror_mode": {
    "name": "ipython",
    "version": 3
   },
   "file_extension": ".py",
   "mimetype": "text/x-python",
   "name": "python",
   "nbconvert_exporter": "python",
   "pygments_lexer": "ipython3",
   "version": "3.9.13"
  }
 },
 "nbformat": 4,
 "nbformat_minor": 5
}
