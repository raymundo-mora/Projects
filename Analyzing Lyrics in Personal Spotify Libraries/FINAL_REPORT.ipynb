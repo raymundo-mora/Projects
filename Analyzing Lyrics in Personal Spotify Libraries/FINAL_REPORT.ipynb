{
 "cells": [
  {
   "cell_type": "markdown",
   "id": "28f53a6f",
   "metadata": {},
   "source": [
    "```yaml\n",
    "    Course:   DS 5001,\n",
    "    Author:   Raymundo Mora,\n",
    "    Email:    rm3xw@virginia.edu\n",
    "    Date:     Spring 2023\n",
    "```"
   ]
  },
  {
   "cell_type": "markdown",
   "id": "557881d9",
   "metadata": {},
   "source": [
    "# <center>Analyzing Lyrics in Personal Spotify Libraries</center>\n",
    "\n",
    "\n",
    "\n",
    "## <center>REPORT</center>\n",
    "\n",
    "## The full report is located [here](https://github.com/raymundo-mora/Projects/blob/main/Analyzing%20Lyrics%20in%20Personal%20Spotify%20Libraries/DS5001_FinalReport.pdf) at the root directory of this repository with the filename `DS5001_FinalReport.pdf`\n",
    "\n",
    "\n",
    "## <center>Data Collection</center>\n",
    "\n",
    "### See `Getting Started` in the `README.md`\n",
    "\n",
    "\n",
    "## <center>Table Summary</center>\n",
    "\n",
    "### Below is a table summarizing all of our data hosted [here](https://app.box.com/s/hykhxceu7fx8ixrtt179oyt314yjl11e)\n",
    "\n",
    "| table                               \t| description                                                                                                                                                                         \t| url                                                    \t|\n",
    "|-------------------------------------\t|-------------------------------------------------------------------------------------------------------------------------------------------------------------------------------------\t|--------------------------------------------------------\t|\n",
    "| F1_CORPUS.csv                       \t| Contains the lyrics of every song in our Spotify library along with some metadata to identify the song                                                                              \t| https://app.box.com/s/mwb6s4lp9cqcqtup5v97nyimaq7g2bgr \t|\n",
    "| F1_CORPUS_english.csv               \t| A subset of F1_CORPUS.csv containing only English songs.                                                                                                                            \t| https://app.box.com/s/65vbeqk192yn4pnapbehfrgded9dglqd \t|\n",
    "| F1_CORPUS_spanish.csv               \t| A subset of F1_CORPUS.csv containing only Spanish songs.                                                                                                                            \t| https://app.box.com/s/ignvb5sx4kbrebr45ypesfq8gt7dx2z2 \t|\n",
    "| F2_TOKENS_english.csv               \t| Terms in our English Corpus indexed by our defined OHCO with POS, POS tuple, and term string as features                                                                            \t| https://app.box.com/s/g08v9rbz1wkj1dxhl1brdj6qh5a3danq \t|\n",
    "| F3_top_artists_VOCAB_english.csv    \t| Vocabulary of English songs with term string as index and term statistics as features including max_POS. This table is limited to only the top 10 artists form the English corpus.  \t| https://app.box.com/s/tuxw40n32d97dxktn51tq72hvbe0iiw9 \t|\n",
    "| F3_VOCAB_english.csv                \t| Vocabulary of English songs with term string as index and term statistics as features including max_POS.                                                                            \t| https://app.box.com/s/zuiy8kxg0mzipq591kg8xkia1vxp5b1s \t|\n",
    "| F4_TFIDF_english_small.csv          \t| The TFIDF table for the top 1000 nouns and verbs in the English subset of our corpus.                                                                                               \t| https://app.box.com/s/01bsqqlltf46t39fv08dtfey4bsb4da7 \t|\n",
    "| F5_top_artists_DCM_english.csv      \t| Statistics for the Document Classification Model using the F3_top_artists_VOCAB_english.csv subset.                                                                                 \t| https://app.box.com/s/2tj1d43rnowvb57h0y2x0a7i8itotwez \t|\n",
    "| F5_top_artists_LOADINGS_english.csv \t| The loadings calculated for the F3_top_artists_VOCAB_english.csv subset.                                                                                                            \t| https://app.box.com/s/f6kyoyrxqqcehltuqt3kza9zbdjicz7c \t|\n",
    "| GENRES.csv                          \t| Genres and their appearance count across the entire corpus.                                                                                                                         \t| https://app.box.com/s/qa7iwsgl6bevybpfmii9muxbfetbutk7 \t|\n",
    "| LIB.csv                             \t| The list of songs in our Spotify library and all of the metadata obtained from the API                                                                                              \t| https://app.box.com/s/ljnn07ah6ykfwvzgu5cjf44mwpyeujmk \t|\n",
    "| LIB_english.csv                     \t| A subset of LIB.csv only containing songs written in English.                                                                                                                       \t| https://app.box.com/s/r0pjizju5gwlwf12c3xgf57392aw7tyc \t|\n",
    "| LIB_spanish.csv                     \t| A subset of LIB.csv only containing songs written in Spanish.                                                                                                                       \t| https://app.box.com/s/pdtctjbzlf7t8clit21wsmij5t8gmdoc \t|"
   ]
  },
  {
   "cell_type": "code",
   "execution_count": 5,
   "id": "67d53a62",
   "metadata": {},
   "outputs": [
    {
     "data": {
      "text/html": [
       "\n",
       "        <iframe\n",
       "            width=\"1000\"\n",
       "            height=\"600\"\n",
       "            src=\"DS5001_FinalReport.pdf\"\n",
       "            frameborder=\"0\"\n",
       "            allowfullscreen\n",
       "            \n",
       "        ></iframe>\n",
       "        "
      ],
      "text/plain": [
       "<IPython.lib.display.IFrame at 0x284178025e0>"
      ]
     },
     "execution_count": 5,
     "metadata": {},
     "output_type": "execute_result"
    }
   ],
   "source": [
    "from IPython.display import IFrame\n",
    "\n",
    "IFrame(\"DS5001_FinalReport.pdf\", width=1000, height=600)"
   ]
  },
  {
   "cell_type": "code",
   "execution_count": null,
   "id": "065d6789",
   "metadata": {},
   "outputs": [],
   "source": []
  }
 ],
 "metadata": {
  "kernelspec": {
   "display_name": "Python 3 (ipykernel)",
   "language": "python",
   "name": "python3"
  },
  "language_info": {
   "codemirror_mode": {
    "name": "ipython",
    "version": 3
   },
   "file_extension": ".py",
   "mimetype": "text/x-python",
   "name": "python",
   "nbconvert_exporter": "python",
   "pygments_lexer": "ipython3",
   "version": "3.9.13"
  }
 },
 "nbformat": 4,
 "nbformat_minor": 5
}
