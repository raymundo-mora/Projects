{
 "cells": [
  {
   "cell_type": "markdown",
   "id": "557881d9",
   "metadata": {},
   "source": [
    "# <center>Analyzing Lyrics in Personal Spotify Libraries</center>\n",
    "\n",
    "\n",
    "\n",
    "## <center>Motivation</center>\n",
    "\n",
    "Music serves as a\n",
    "\n",
    "## <center>Data</center>\n",
    "\n",
    "The analysis I ran and all of the notebooks generated can be ran by downloading songs and their informatin using the `Spotify API`. The process can be replicated by downloading a list of predefined tracks or by seaching for K tracks from an artist, album, or public playlist. Since I wanted to "
   ]
  },
  {
   "cell_type": "code",
   "execution_count": null,
   "id": "ef36e0c7",
   "metadata": {},
   "outputs": [],
   "source": []
  }
 ],
 "metadata": {
  "kernelspec": {
   "display_name": "Python 3 (ipykernel)",
   "language": "python",
   "name": "python3"
  },
  "language_info": {
   "codemirror_mode": {
    "name": "ipython",
    "version": 3
   },
   "file_extension": ".py",
   "mimetype": "text/x-python",
   "name": "python",
   "nbconvert_exporter": "python",
   "pygments_lexer": "ipython3",
   "version": "3.9.13"
  }
 },
 "nbformat": 4,
 "nbformat_minor": 5
}
