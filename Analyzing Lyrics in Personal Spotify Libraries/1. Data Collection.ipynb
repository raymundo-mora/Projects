{
 "cells": [
  {
   "cell_type": "markdown",
   "id": "23078d5f",
   "metadata": {},
   "source": [
    "```yaml\n",
    "    Course:   DS 5001,\n",
    "    Author:   Raymundo Mora,\n",
    "    Email:    rm3xw@virginia.edu\n",
    "    Date:     Spring 2023\n",
    "```"
   ]
  },
  {
   "cell_type": "markdown",
   "id": "47d9ea8c",
   "metadata": {},
   "source": [
    "# Data Collection \n",
    "\n",
    "In this notebook we will generate the relevant datasets for analyzing the songs in your *Spotify* library. To make sure the code runs and "
   ]
  },
  {
   "cell_type": "markdown",
   "id": "6085725e",
   "metadata": {},
   "source": [
    "## 0.0 Import Relevant Libraries"
   ]
  },
  {
   "cell_type": "code",
   "execution_count": 1,
   "id": "f8b8a2fd",
   "metadata": {},
   "outputs": [],
   "source": [
    "# the two must have libraries in any data science project \n",
    "import pandas as pd \n",
    "import numpy as np\n",
    "\n",
    "\n",
    "import os\n",
    "import time\n",
    "import requests\n",
    "\n",
    "\n",
    "# for handling our web requests and html \n",
    "from bs4 import BeautifulSoup\n",
    "\n",
    "# for handling environment variables \n",
    "from dotenv import dotenv_values\n",
    "from dotenv import load_dotenv\n",
    "\n",
    "# handle our language detection \n",
    "from langdetect import detect\n",
    "\n",
    "# for handling spotify endpoints \n",
    "import spotipy\n",
    "from spotipy.oauth2 import SpotifyOAuth\n",
    "\n",
    "# Helps Make our Notebook Pretty\n",
    "from IPython.display import clear_output"
   ]
  },
  {
   "cell_type": "markdown",
   "id": "70ac8494",
   "metadata": {},
   "source": [
    "## 1.0 Define Global Variables "
   ]
  },
  {
   "cell_type": "code",
   "execution_count": 2,
   "id": "e7f62e48",
   "metadata": {},
   "outputs": [],
   "source": [
    "# load your environment variables \n",
    "load_dotenv()\n",
    "\n",
    "# define the scope of your spotipy client \n",
    "scope = \"user-library-read\"\n",
    "\n",
    "sp = spotipy.Spotify(auth_manager=SpotifyOAuth(scope=scope))\n",
    "\n",
    "# relative path to where data will be stored. \n",
    "data_dir = \"datasets/\""
   ]
  },
  {
   "cell_type": "markdown",
   "id": "8bdf9f54",
   "metadata": {},
   "source": [
    "## 1.1 Define helper functions "
   ]
  },
  {
   "cell_type": "code",
   "execution_count": 3,
   "id": "d07676b8",
   "metadata": {},
   "outputs": [],
   "source": [
    "def get_genre(track_id):\n",
    "    \"\"\"Gets the genre of a track. Important to notice\n",
    "    that the genre is not a property of the track, but\n",
    "    a property of the artist. Therefore, the genre is\n",
    "    retrieved from the artist.\n",
    "\n",
    "    Args:\n",
    "        track_id (str): Spotify track id\n",
    "\n",
    "    Returns:\n",
    "        list: list  of genres associated with the artist\n",
    "    \"\"\"\n",
    "    # Uses track endpoint to get artist id\n",
    "    track_info = sp.track(track_id)\n",
    "    \n",
    "    # Uses artist endpoint to get genres associated with artist\n",
    "    artist_info = sp.artist(track_info['artists'][0]['id'])\n",
    "    \n",
    "    # Returns list of genres associated with artist\n",
    "    genre = artist_info['genres']\n",
    "    \n",
    "    return genre\n",
    "\n",
    "\n",
    "def get_genius_access_token():\n",
    "    \"\"\"Get an access token from Genius API\"\"\"\n",
    "    \n",
    "    # Set API endpoint and headers\n",
    "    endpoint = 'https://api.genius.com/oauth/token'\n",
    "    headers = {'Content-Type': 'application/json'}\n",
    "    \n",
    "    # Set request parameters\n",
    "    data = {\n",
    "        'client_id': GENIUS_CLIENT_ID,\n",
    "        'client_secret': GENIUS_CLIENT_SECRET,\n",
    "        'grant_type': 'client_credentials'\n",
    "    }\n",
    "    \n",
    "    # Send API request\n",
    "    response = requests.post(endpoint, headers=headers, json=data)\n",
    "    \n",
    "    # Check if request was successful\n",
    "    if response.status_code == 200:\n",
    "        data = response.json()\n",
    "        access_token = data['access_token']\n",
    "        \n",
    "        return access_token\n",
    "    else:\n",
    "        print(\"Failed to fetch access token. Please check your client ID and client secret.\")\n",
    "        return None\n",
    "    \n",
    "    \n",
    "def get_lyrics(song_title, artist_name):\n",
    "    \"\"\"Get the lyrics for a song using Genius API.\n",
    "\n",
    "    Args:\n",
    "        song_title (str): title of the song.\n",
    "        artist_name (str): artist name.\n",
    "\n",
    "    Returns:\n",
    "        str: lyrics of the song requested.\n",
    "    \"\"\"\n",
    "    # Get your access token from https://genius.com/api-clients\n",
    "    access_token = get_genius_access_token()\n",
    "    if not access_token:\n",
    "        return None\n",
    "    \n",
    "    # Set API endpoint and headers\n",
    "    endpoint = 'https://api.genius.com/search'\n",
    "    headers = {'Authorization': f'Bearer {access_token}'}\n",
    "    \n",
    "    # Set query parameters\n",
    "    params = {\n",
    "        'q': f'{song_title} {artist_name}',\n",
    "    }\n",
    "    \n",
    "    # Send API request\n",
    "    response = requests.get(endpoint, headers=headers, params=params)\n",
    "    \n",
    "    # Check if request was successful\n",
    "    if response.status_code == 200:\n",
    "        # Extract lyrics from response\n",
    "        data = response.json()\n",
    "        matches = data['response']['hits']\n",
    "        \n",
    "        # Check a match was found\n",
    "        if matches:\n",
    "            # Get the first match\n",
    "            match = matches[0]\n",
    "            song_lyrics_url = match['result']['url']\n",
    "            \n",
    "            # Get the lyrics from the song page\n",
    "            lyrics_response = requests.get(song_lyrics_url)\n",
    "            soup = BeautifulSoup(lyrics_response.content,\"html.parser\")\n",
    "            lyrics = str()\n",
    "            for tag in soup.select('div[class^=\"Lyrics__Container\"], .song_body-lyrics p'):\n",
    "                t = tag.get_text(strip=True, separator='\\n')\n",
    "                if t:\n",
    "                    lyrics += t \n",
    "            \n",
    "            \n",
    "            return lyrics\n",
    "        else:\n",
    "            print(f\"No lyrics found for {song_title} by {artist_name}.\")\n",
    "            return None\n",
    "    else:\n",
    "        print(\"Failed to get lyrics. Please check your client ID and client secret.\")\n",
    "        return \"API Call Failed\"\n",
    "    \n",
    "    \n",
    "def lang_detect(lyrics):\n",
    "    \"\"\"Detects the language of the lyrics using langdetect. We use a try/except\n",
    "    in order to handle exceptions where we were not able to retrieve lyrics from\n",
    "    the genius API\n",
    "    \n",
    "    Args:\n",
    "        lyrics (str): The lyrics to detect the language of\n",
    "    Returns: \n",
    "        str: The language of the lyrics\"\"\"\n",
    "    try:\n",
    "        return detect(lyrics)\n",
    "    except:\n",
    "        return None"
   ]
  },
  {
   "cell_type": "markdown",
   "id": "0211257c",
   "metadata": {},
   "source": [
    "## 2.0 Get our *liked songs* library from *Spotify*"
   ]
  },
  {
   "cell_type": "code",
   "execution_count": 4,
   "id": "96983ab5",
   "metadata": {},
   "outputs": [
    {
     "name": "stderr",
     "output_type": "stream",
     "text": [
      "Using `localhost` as redirect URI without a port. Specify a port (e.g. `localhost:8080`) to allow automatic retrieval of authentication code instead of having to copy and paste the URL your browser is redirected to.\n"
     ]
    },
    {
     "name": "stdout",
     "output_type": "stream",
     "text": [
      "Enter the URL you were redirected to: http://localhost/?code=AQDvGEVspUtEa09fIfJ50IQOCAO3eioXshURsqvis7bg76jJltBWwTTIPFkbDE6gEqcP34AoNnr3GIbn5GOj3By1qtOs4PlLaLQTmFqWNEeRoRsYE04oW--eyiXOEaxKGgT2YIoNjXIkeLAa9B40PH-lOWI151bfqP4uIVbk4rsRjDbH_uoMNw\n"
     ]
    }
   ],
   "source": [
    "offset = 0 # at what track to start retreiving \n",
    "limit = 50 # max limit of allowed songs to fetch at once before receiving error \n",
    "\n",
    "LIB = pd.DataFrame() # initiate the dataframe containing our library \n",
    "\n",
    "while True:\n",
    "    # Get trackes from the user `liked songs` \n",
    "    results = sp.current_user_saved_tracks(limit=limit, offset=offset)\n",
    "    \n",
    "    # Append fetched tracks to the list\n",
    "    LIB = pd.concat([LIB,pd.json_normalize(results['items'])])\n",
    "    \n",
    "    # Check if you are at the end of the playlist\n",
    "    if len(results['items']) < limit:\n",
    "        # Break if you have reached the end of the playlist\n",
    "        break\n",
    "    else:\n",
    "        # Increment the offset for the next request\n",
    "        offset += limit"
   ]
  },
  {
   "cell_type": "code",
   "execution_count": 5,
   "id": "1b32ae81",
   "metadata": {},
   "outputs": [],
   "source": [
    "# reset the index of our library `LIB`\n",
    "LIB = LIB.reset_index(drop=True) "
   ]
  },
  {
   "cell_type": "markdown",
   "id": "03d21460",
   "metadata": {},
   "source": [
    "## 2.1 Adding Genre to our library"
   ]
  },
  {
   "cell_type": "code",
   "execution_count": null,
   "id": "191b2819",
   "metadata": {},
   "outputs": [
    {
     "name": "stdout",
     "output_type": "stream",
     "text": [
      "53\n",
      "['candy pop', 'pixie', 'pop', 'pop emo', 'pop punk', 'rock']\n"
     ]
    }
   ],
   "source": [
    "genres = [] # initiate the list of of genres of each song\n",
    "for i in LIB.index:\n",
    "    # call our helper function \n",
    "    genre = get_genre(LIB['track.id'][i])\n",
    "    \n",
    "    # add to the `genres` list\n",
    "    genres.append(genre)\n",
    "    \n",
    "    # print status \n",
    "    clear_output(wait=True)\n",
    "    print(i,flush=True)\n",
    "    print(genre,flush=True)"
   ]
  },
  {
   "cell_type": "code",
   "execution_count": null,
   "id": "a136c88e",
   "metadata": {},
   "outputs": [],
   "source": [
    "LIB['genre'] = genres"
   ]
  },
  {
   "cell_type": "markdown",
   "id": "80de861a",
   "metadata": {},
   "source": [
    "## 2.2 Inspect and Save our `LIB` DataFrame "
   ]
  },
  {
   "cell_type": "code",
   "execution_count": null,
   "id": "73af36c4",
   "metadata": {},
   "outputs": [],
   "source": [
    "LIB.head()"
   ]
  },
  {
   "cell_type": "code",
   "execution_count": null,
   "id": "23c302c0",
   "metadata": {},
   "outputs": [],
   "source": [
    "LIB.to_csv(data_dir+\"LIB.csv\",index=False)"
   ]
  },
  {
   "cell_type": "code",
   "execution_count": null,
   "id": "e1ae0abd",
   "metadata": {},
   "outputs": [],
   "source": [
    "LIB['genre'][0]"
   ]
  },
  {
   "cell_type": "markdown",
   "id": "8f6b6c96",
   "metadata": {},
   "source": [
    "## 3.0 Generate CORPUS\n",
    "\n",
    "## 3.1 Load Your Credentials for the Genius API"
   ]
  },
  {
   "cell_type": "code",
   "execution_count": null,
   "id": "ef408ed6",
   "metadata": {},
   "outputs": [],
   "source": [
    "# Get client ID and client secret from environment variables\n",
    "GENIUS_CLIENT_ID = os.getenv('GENIUS_CLIENT_ID')\n",
    "GENIUS_CLIENT_SECRET = os.getenv('GENIUS_CLIENT_SECRET')"
   ]
  },
  {
   "cell_type": "markdown",
   "id": "3b52ec1b",
   "metadata": {},
   "source": [
    "## 3.2 Download the Lyrics for Your Library"
   ]
  },
  {
   "cell_type": "code",
   "execution_count": null,
   "id": "374cac6b",
   "metadata": {},
   "outputs": [],
   "source": [
    "CORPUS = pd.DataFrame()\n",
    "\n",
    "total_tracks = len(LIB)\n",
    "for i in LIB.index:\n",
    "    \n",
    "    song_title = LIB['track.name'][i]\n",
    "    artist_name = LIB['track.artists'][i][0]['name']\n",
    "    lyrics = get_lyrics(song_title, artist_name)\n",
    "    CORPUS = pd.concat([CORPUS,pd.DataFrame({'artist':[artist_name],\n",
    "                                             'song':[song_title],\n",
    "                                             'lyrics':[lyrics]})]\n",
    "                      )\n",
    "    \n",
    "    # slow down our requests so that we can continue making them. \n",
    "    time.sleep(0.25)\n",
    "    clear_output(wait=True)\n",
    "    print(str(np.round(100*(i+1)/total_tracks,2))+\"%\"+f'       [{i+1}/{total_tracks}]   \\n', flush=True)"
   ]
  },
  {
   "cell_type": "code",
   "execution_count": null,
   "id": "f5795f91",
   "metadata": {},
   "outputs": [],
   "source": [
    "CORPUS= CORPUS.reset_index(drop=True)"
   ]
  },
  {
   "cell_type": "markdown",
   "id": "946a3f16",
   "metadata": {},
   "source": [
    "## 3.3 Add the Language as a Feature"
   ]
  },
  {
   "cell_type": "code",
   "execution_count": null,
   "id": "7bb3e010",
   "metadata": {},
   "outputs": [],
   "source": [
    "CORPUS['language'] = CORPUS['lyrics'].apply(lang_detect)"
   ]
  },
  {
   "cell_type": "code",
   "execution_count": null,
   "id": "8b3e701f",
   "metadata": {},
   "outputs": [],
   "source": [
    "# Add the full language name as provided in the `langdetect` documentation\n",
    "# The map is avaiable here: https://en.wikipedia.org/wiki/List_of_ISO_639-1_codes\n",
    "# The `langdetect` documentation can be found here: https://pypi.org/project/langdetect/\n",
    "\n",
    "lang_map = pd.read_csv('langugage_map.csv')\n",
    "lang_names = []\n",
    "for i in CORPUS.index:\n",
    "    try:\n",
    "        lang_name = lang_map.loc[lang_map['639-1'] == CORPUS['language'][i]]['ISO language name'].values[0]\n",
    "    except:\n",
    "        lang_name = None\n",
    "    lang_names.append(lang_name)"
   ]
  },
  {
   "cell_type": "code",
   "execution_count": null,
   "id": "a20afcef",
   "metadata": {},
   "outputs": [],
   "source": [
    "CORPUS['language_name'] = lang_names"
   ]
  },
  {
   "cell_type": "markdown",
   "id": "5cae0def",
   "metadata": {},
   "source": [
    "## 3.4  Inspect and Save our `LIB` DataFrame "
   ]
  },
  {
   "cell_type": "code",
   "execution_count": null,
   "id": "9c106822",
   "metadata": {},
   "outputs": [],
   "source": [
    "CORPUS.head()"
   ]
  },
  {
   "cell_type": "code",
   "execution_count": null,
   "id": "9cd769b5",
   "metadata": {},
   "outputs": [],
   "source": [
    "CORPUS.to_csv(data_dir+'F_CORPUS.csv',index=False)"
   ]
  }
 ],
 "metadata": {
  "kernelspec": {
   "display_name": "Python 3 (ipykernel)",
   "language": "python",
   "name": "python3"
  },
  "language_info": {
   "codemirror_mode": {
    "name": "ipython",
    "version": 3
   },
   "file_extension": ".py",
   "mimetype": "text/x-python",
   "name": "python",
   "nbconvert_exporter": "python",
   "pygments_lexer": "ipython3",
   "version": "3.11.4"
  }
 },
 "nbformat": 4,
 "nbformat_minor": 5
}
